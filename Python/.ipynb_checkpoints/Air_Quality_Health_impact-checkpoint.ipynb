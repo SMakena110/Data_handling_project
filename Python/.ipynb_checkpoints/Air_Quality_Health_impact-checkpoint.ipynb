{
 "cells": [
  {
   "cell_type": "markdown",
   "id": "6a427722-6df1-4b97-b7df-5a8f17d6a02a",
   "metadata": {},
   "source": [
    "#### REPORTING AND ANALYTICS: AIR QUALITY DATA"
   ]
  },
  {
   "cell_type": "markdown",
   "id": "dc759575-2715-4af7-b70a-c7ca328ab7ad",
   "metadata": {},
   "source": [
    "## INTRODUCTION\n",
    "The Air Quality Index (AQI) is used for reporting daily air quality. It tells you how clean or polluted your air is, and what associated health effects might be a concern for you. The AQI focuses on health effects you may experience within a few hours or days after breathing polluted air.\n",
    "\n",
    "**Question**\n",
    "- How does East Africa compare to the rest of Africa relative to AQI?\n",
    "- How is the distribution of Countries by Status?"
   ]
  },
  {
   "cell_type": "markdown",
   "id": "a8f0d891-5ce5-4354-b1b7-1d8ddfef1a5d",
   "metadata": {},
   "source": [
    "##### 1. OBTAIN\n",
    "here:\n",
    "- we get the dataset\n",
    "- we establish data sources\n",
    "\n",
    "Data source\n",
    "- https://www.kaggle.com/datasets/azminetoushikwasi/aqi-air-quality-index-scheduled-daily-update?resource=download"
   ]
  },
  {
   "cell_type": "code",
   "execution_count": null,
   "id": "c81ee863-efac-4cc8-9232-a0d585a59541",
   "metadata": {},
   "outputs": [],
   "source": [
    "# import the libraries\n",
    "import pandas as pd\n",
    "import numpy as np\n",
    "import plotly.express as px\n",
    "import matplotlib as plt\n",
    "import seaborn as sns\n",
    "import datetime as dt\n",
    "import statistics as st\n",
    "#read the dataset\n",
    "df = pd.read_csv(\"data/air_quality.csv\")"
   ]
  },
  {
   "cell_type": "code",
   "execution_count": null,
   "id": "f336c6a9-c714-4581-86e6-9978123054f7",
   "metadata": {},
   "outputs": [],
   "source": [
    "# inspect the header\n",
    "df.head()"
   ]
  },
  {
   "cell_type": "code",
   "execution_count": null,
   "id": "b29879c0-0ff2-4524-81b1-78d46b146523",
   "metadata": {},
   "outputs": [],
   "source": [
    "# inspect the tail\n",
    "df.tail()"
   ]
  },
  {
   "cell_type": "markdown",
   "id": "0fcb5ec0-9b85-40ef-881d-bebf99b73121",
   "metadata": {},
   "source": [
    "##### 2. SCRUB\n",
    "Is the data:\n",
    "- Complete/asses gaps in data\n",
    "- Has missing values\n",
    "- Consistency\n",
    "- Data Integrity/ uniformity\n",
    "- Repeating values"
   ]
  },
  {
   "cell_type": "code",
   "execution_count": null,
   "id": "2fddd20f-8ab4-465a-805e-e155ed3f8759",
   "metadata": {},
   "outputs": [],
   "source": [
    "# get the information from the dataset\n",
    "df.info()"
   ]
  },
  {
   "cell_type": "markdown",
   "id": "8cc6b5ba-d603-4d2a-9c25-ec77979e047b",
   "metadata": {},
   "source": [
    " - There no missing values\n",
    " - The column data types are good but:\n",
    " - The date column should be transformed to date-type object"
   ]
  },
  {
   "cell_type": "code",
   "execution_count": null,
   "id": "81f4ff27-a913-4e78-8703-fe2e000be594",
   "metadata": {},
   "outputs": [],
   "source": [
    "# transform the date column\n",
    "df[\"Date\"] = pd.to_datetime(df[\"Date\"])\n",
    "df.info()"
   ]
  },
  {
   "cell_type": "code",
   "execution_count": null,
   "id": "e59372a6-94fa-4b05-ac65-cf55802db0a3",
   "metadata": {},
   "outputs": [],
   "source": [
    "# check for duplicates\n",
    "duplicates = df[df.duplicated(keep = False)]\n",
    "len(duplicates)"
   ]
  },
  {
   "cell_type": "markdown",
   "id": "9b10614c-79ec-4ec9-be42-d4829379ecc6",
   "metadata": {},
   "source": [
    "- The *duplicated()* returns a boolean Series object indicating whether each row is a duplicate\n",
    "- By setting *keep*=False, all duplicate rows will be set to True/1."
   ]
  },
  {
   "cell_type": "code",
   "execution_count": null,
   "id": "1dda6097-b092-4765-b786-68126744e57f",
   "metadata": {},
   "outputs": [],
   "source": [
    "# original dataset\n",
    "df.shape"
   ]
  },
  {
   "cell_type": "code",
   "execution_count": null,
   "id": "729ee663-869c-48f2-a725-c36e731097f0",
   "metadata": {},
   "outputs": [],
   "source": [
    "# duplicated values\n",
    "bad_df = df[df.duplicated(keep = False)]\n",
    "bad_df"
   ]
  },
  {
   "cell_type": "code",
   "execution_count": null,
   "id": "69d5b401-c63c-4f4a-90ce-1e0de5fb1485",
   "metadata": {},
   "outputs": [],
   "source": [
    "# create a dataframe that are going stores non duplicated values\n",
    "good_df = df[~df.duplicated(keep = False)]\n",
    "good_df"
   ]
  },
  {
   "cell_type": "code",
   "execution_count": null,
   "id": "d6f88561-e3a2-4ef7-8647-fc4d611a6e9b",
   "metadata": {},
   "outputs": [],
   "source": [
    "# # dataset without duplicates\n",
    "# good_df = df.drop_duplicates(keep = False)\n",
    "# good_df.shape"
   ]
  },
  {
   "cell_type": "code",
   "execution_count": null,
   "id": "a5abb46d-db7b-4822-acd7-c5256a92e68a",
   "metadata": {},
   "outputs": [],
   "source": [
    "# generate a clean csv of air quality data\n",
    "good_df.to_csv('data/good_air_quality.csv', index = False, header = True)"
   ]
  },
  {
   "cell_type": "code",
   "execution_count": null,
   "id": "54f8b221-01eb-4268-8482-8a946ebc0bb7",
   "metadata": {},
   "outputs": [],
   "source": [
    "# generate duplicated csv\n",
    "bad_df.to_csv('data/bad_air_quality.csv', index = False, header = True)"
   ]
  },
  {
   "cell_type": "code",
   "execution_count": null,
   "id": "93fb5b8e-6cee-4a5c-ab5c-e5be69cdc510",
   "metadata": {},
   "outputs": [],
   "source": [
    "np.min(good_df[\"Date\"])"
   ]
  },
  {
   "cell_type": "markdown",
   "id": "cc07113a-57ac-455e-aa50-584c37d845f2",
   "metadata": {},
   "source": [
    "##### 3. EXPLORE\n",
    "Your exploration is supported by visualization/ tabulation/ summaries:\n",
    "What to explore:\n",
    "\n",
    "- **Tabulation**:\n",
    "Show totals of broad quantities\n",
    "\n",
    "- **Summary Statistics**\n",
    "Describe the characteristics of data (mean, median, std, quartiles)\n",
    "\n",
    "- **Spread of data**\n",
    "How is the data dispersed (scatter plots - visual inspection of outliers)\n",
    "\n",
    "- **Distribution of major variables**\n",
    "Histogram of singular variables\n",
    "\n",
    "- **Heatmaps of major variables**\n",
    "- **Proportions of major variables**\n"
   ]
  },
  {
   "cell_type": "code",
   "execution_count": null,
   "id": "bd5886bd-9c40-4c59-bef9-3e3b8d291fb7",
   "metadata": {},
   "outputs": [],
   "source": [
    "good_df.info()"
   ]
  },
  {
   "cell_type": "code",
   "execution_count": null,
   "id": "870220b5-0b47-4f4c-b457-fcb6b91305e6",
   "metadata": {},
   "outputs": [],
   "source": [
    "# bar chart representation of the unhealthy for Sensitive groups\n",
    "status_dist = good_df[\"Status\"].value_counts()\n",
    "status_dist\n",
    "fig = px.bar(status_dist, title = \"Distribution of Countries by Status\", \n",
    "             labels = {\"value\":\"Number of Countries\", \"Status\":\"Air Quality Status\"}, \n",
    "             color = status_dist.index)\n",
    "fig.show()"
   ]
  },
  {
   "cell_type": "code",
   "execution_count": null,
   "id": "f4bece16-49c5-42b6-b89e-795fbb3372cd",
   "metadata": {},
   "outputs": [],
   "source": [
    "# filter out east_african country and get the Air Quality Value compared to the rest of the world\n",
    "East_african_df = good_df[\"Country\"].isin([\"Kenya\", \"Uganda\", \"Tanzania\", \"Rwanda\", \"Burundi\", \"South Sudan\", \"Ethiopia\",\"Somalia\",\"Djibouti\"]).value_counts()\n",
    "East_african_df"
   ]
  },
  {
   "cell_type": "code",
   "execution_count": null,
   "id": "8b2823ba-3f0d-4847-bfea-12e7831e575a",
   "metadata": {},
   "outputs": [],
   "source": [
    "# check for east_africa data\n",
    "East_Countries =[\"Kenya\", \"Uganda\", \"Tanzania\", \"Rwanda\", \"Burundi\", \"South Sudan\", \"Ethiopia\",\"Somalia\",\"Djibouti\"]\n",
    "East_african_df = good_df[good_df[\"Country\"].isin(East_Countries)]\n",
    "East_african_df"
   ]
  },
  {
   "cell_type": "code",
   "execution_count": null,
   "id": "f025bb13-a53b-4c16-b33e-ce10e34810d3",
   "metadata": {},
   "outputs": [],
   "source": [
    "# # bar chart that shows AQI value in east african countries \n",
    "# fig = px.bar(East_Countries, title = \"East African Countries by Status\", \n",
    "#              labels = {\"value\":\"Number of Countries\", \"Status\":\"Air Quality Status\"}, \n",
    "#              color = East_Countries.index)\n",
    "# fig.show()"
   ]
  },
  {
   "cell_type": "markdown",
   "id": "3bcdc901-6586-4dda-baaa-f984052b101a",
   "metadata": {},
   "source": [
    "**Auxilliary datasets to explain:\n",
    "-  How AQI affects a country's Population\n",
    "-  How The AQI of a country affect its GDP**"
   ]
  },
  {
   "cell_type": "code",
   "execution_count": null,
   "id": "28946125-bcdf-426d-bcf9-df3a2e00ee3e",
   "metadata": {},
   "outputs": [],
   "source": [
    "# additional associations\n",
    "Africa_df = pd.read_csv('data/Data_Africa.csv')\n",
    "Africa_df.head()"
   ]
  },
  {
   "cell_type": "code",
   "execution_count": null,
   "id": "73c2094e-da57-4450-936d-ecdb051c8fe5",
   "metadata": {},
   "outputs": [],
   "source": [
    "# chech for missing values and datatypes\n",
    "Africa_df.info()"
   ]
  },
  {
   "cell_type": "code",
   "execution_count": null,
   "id": "945c156e-5412-4f0a-b0d9-a397d85dc97c",
   "metadata": {},
   "outputs": [],
   "source": [
    "# Filtering Year by 2022\n",
    "Africa_df = Africa_df[Africa_df[\"Year\"] == 2022]\n",
    "Africa_df.info()"
   ]
  },
  {
   "cell_type": "code",
   "execution_count": null,
   "id": "6be01bf9-c9d1-4dca-bc24-bd8196be5502",
   "metadata": {},
   "outputs": [],
   "source": [
    "# Replace the missing values with 0\n",
    "Africa_df[\"GDP (USD)\"].fillna(0, inplace = True)\n",
    "Africa_df.info()"
   ]
  },
  {
   "cell_type": "code",
   "execution_count": null,
   "id": "c96b2820-a772-49ea-a3e0-94a11581646e",
   "metadata": {},
   "outputs": [],
   "source": [
    "# drop the unnecessary columns\n",
    "Africa_df.drop(columns= [\"ID\", \"Year\"], axis = 1, inplace = True)\n",
    "Africa_df.head()"
   ]
  },
  {
   "cell_type": "code",
   "execution_count": null,
   "id": "77f8d21e-b6fa-4ab1-ac67-32c0dcb2854a",
   "metadata": {},
   "outputs": [],
   "source": [
    "# reset the index\n",
    "Africa_df.reset_index(drop = True)\n",
    "Africa_df"
   ]
  },
  {
   "cell_type": "code",
   "execution_count": null,
   "id": "80562657-84d6-4afc-992b-2a1082cd6ced",
   "metadata": {},
   "outputs": [],
   "source": [
    "# merge two dataframes\n",
    "Population_df = pd.merge(good_df,Africa_df, on = \"Country\")\n",
    "Population_df"
   ]
  },
  {
   "cell_type": "code",
   "execution_count": null,
   "id": "e1af308c-7273-46dd-8b7d-399d86504950",
   "metadata": {},
   "outputs": [],
   "source": [
    "african_countries = [\n",
    "    \"Algeria\",\n",
    "    \"Angola\",\n",
    "    \"Benin\",\n",
    "    \"Botswana\",\n",
    "    \"Burkina Faso\",\n",
    "    \"Burundi\",\n",
    "    \"Cabo Verde\",\n",
    "    \"Cameroon\",\n",
    "    \"Central African Republic\",\n",
    "    \"Chad\",\n",
    "    \"Comoros\",\n",
    "    \"Congo, Republic of the\",\n",
    "    \"Congo, Democratic Republic of the\",\n",
    "    \"Djibouti\",\n",
    "    \"Egypt\",\n",
    "    \"Equatorial Guinea\",\n",
    "    \"Eritrea\",\n",
    "    \"Eswatini\",\n",
    "    \"Ethiopia\",\n",
    "    \"Gabon\",\n",
    "    \"Gambia\",\n",
    "    \"Ghana\",\n",
    "    \"Guinea\",\n",
    "    \"Guinea-Bissau\",\n",
    "    \"Ivory Coast\",\n",
    "    \"Kenya\",\n",
    "    \"Lesotho\",\n",
    "    \"Liberia\",\n",
    "    \"Libya\",\n",
    "    \"Madagascar\",\n",
    "    \"Malawi\",\n",
    "    \"Mali\",\n",
    "    \"Mauritania\",\n",
    "    \"Mauritius\",\n",
    "    \"Morocco\",\n",
    "    \"Mozambique\",\n",
    "    \"Namibia\",\n",
    "    \"Niger\",\n",
    "    \"Nigeria\",\n",
    "    \"Rwanda\",\n",
    "    \"Sao Tome and Principe\",\n",
    "    \"Senegal\",\n",
    "    \"Seychelles\",\n",
    "    \"Sierra Leone\",\n",
    "    \"Somalia\",\n",
    "    \"South Africa\",\n",
    "    \"South Sudan\",\n",
    "    \"Sudan\",\n",
    "    \"Tanzania\",\n",
    "    \"Togo\",\n",
    "    \"Tunisia\",\n",
    "    \"Uganda\",\n",
    "    \"Zambia\",\n",
    "    \"Zimbabwe\"\n",
    "]\n"
   ]
  },
  {
   "cell_type": "code",
   "execution_count": null,
   "id": "3628c4db-1fd2-46fa-8300-9ff76d4cf07a",
   "metadata": {},
   "outputs": [],
   "source": []
  },
  {
   "cell_type": "markdown",
   "id": "3efe6f38-2668-4a83-9c58-45b5e839274b",
   "metadata": {},
   "source": [
    "##### 4. MODELLING\n",
    "Are there any statistical associations that can be used to summarize the behavior of the dataset?"
   ]
  },
  {
   "cell_type": "markdown",
   "id": "a05a88bf-4073-44b6-b566-7829d150981c",
   "metadata": {},
   "source": [
    "##### 5. INTERPRETATION\n",
    "Here you provide your understanding informed by the prior analysis."
   ]
  },
  {
   "cell_type": "code",
   "execution_count": null,
   "id": "3c9a1443-e371-4da3-ad75-5fe8c8474370",
   "metadata": {},
   "outputs": [],
   "source": []
  }
 ],
 "metadata": {
  "kernelspec": {
   "display_name": "Python 3 (ipykernel)",
   "language": "python",
   "name": "python3"
  },
  "language_info": {
   "codemirror_mode": {
    "name": "ipython",
    "version": 3
   },
   "file_extension": ".py",
   "mimetype": "text/x-python",
   "name": "python",
   "nbconvert_exporter": "python",
   "pygments_lexer": "ipython3",
   "version": "3.11.7"
  }
 },
 "nbformat": 4,
 "nbformat_minor": 5
}
