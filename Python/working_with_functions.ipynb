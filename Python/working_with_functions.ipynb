{
 "cells": [
  {
   "cell_type": "markdown",
   "id": "6c319455-0ee5-44e4-98a2-3052346afbc7",
   "metadata": {},
   "source": [
    "#### Working with Functions"
   ]
  },
  {
   "cell_type": "markdown",
   "id": "3323d7c9-6fd2-4716-9fe2-7a213d474b5a",
   "metadata": {},
   "source": [
    "#### 1. Introduction to Functions\n",
    "- To define a function in python, use *def* followed by the *function name,\n",
    "parenthesis* and a *colon*\n",
    "\n",
    "A function takes in an input and yields an output"
   ]
  },
  {
   "cell_type": "code",
   "execution_count": null,
   "id": "9dc9f7c7-7c71-4906-bfa2-e1bb22fea8ed",
   "metadata": {},
   "outputs": [],
   "source": [
    "def function_name{parameters}:\n",
    "    # code block\n",
    "    return value"
   ]
  },
  {
   "cell_type": "code",
   "execution_count": 4,
   "id": "0c423d77-5a7c-4f3a-b10a-8c728260a298",
   "metadata": {},
   "outputs": [],
   "source": [
    "'''\n",
    "    take a set of numbers and provide a \n",
    "    sum/total of those numbers\n",
    "    args:\n",
    "         number1, number2 : list of numbers\n",
    "         return\n",
    "         output : a number\n",
    "'''\n",
    "\n",
    "def add_numbers(number1, number2):\n",
    "    # code block\n",
    "    total = number1 + number2\n",
    "    return total\n",
    "    "
   ]
  },
  {
   "cell_type": "code",
   "execution_count": 8,
   "id": "f5a171a7-76d1-46f7-9891-c3188f85100e",
   "metadata": {},
   "outputs": [
    {
     "data": {
      "text/plain": [
       "46.56"
      ]
     },
     "execution_count": 8,
     "metadata": {},
     "output_type": "execute_result"
    }
   ],
   "source": [
    "add_numbers(12,34.56)"
   ]
  },
  {
   "cell_type": "code",
   "execution_count": null,
   "id": "cc20738e-63f6-4f60-a510-d6e1a55619d0",
   "metadata": {},
   "outputs": [],
   "source": [
    "apply()\n",
    "lambda()"
   ]
  }
 ],
 "metadata": {
  "kernelspec": {
   "display_name": "Python 3 (ipykernel)",
   "language": "python",
   "name": "python3"
  },
  "language_info": {
   "codemirror_mode": {
    "name": "ipython",
    "version": 3
   },
   "file_extension": ".py",
   "mimetype": "text/x-python",
   "name": "python",
   "nbconvert_exporter": "python",
   "pygments_lexer": "ipython3",
   "version": "3.11.7"
  }
 },
 "nbformat": 4,
 "nbformat_minor": 5
}
