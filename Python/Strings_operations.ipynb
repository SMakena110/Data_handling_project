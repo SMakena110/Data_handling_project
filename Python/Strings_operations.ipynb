{
 "cells": [
  {
   "cell_type": "markdown",
   "id": "06796874-0872-42b2-a6cc-d863574a8991",
   "metadata": {},
   "source": [
    "### Strings Operations in Python."
   ]
  },
  {
   "cell_type": "markdown",
   "id": "6df25834-bead-427e-ad58-80e5c7acddbd",
   "metadata": {},
   "source": [
    "#### 1. How to construct a string object"
   ]
  },
  {
   "cell_type": "markdown",
   "id": "f1afbb72-69e2-4eef-8d41-cf2c8fade77b",
   "metadata": {},
   "source": [
    "**Strings** are constructed by placing character in quotes-**single or double quotes**"
   ]
  },
  {
   "cell_type": "code",
   "execution_count": 4,
   "id": "4e986e13-2df7-454e-90b8-2fcc512f736a",
   "metadata": {},
   "outputs": [],
   "source": [
    "my_numbers =\"12345\""
   ]
  },
  {
   "cell_type": "code",
   "execution_count": 5,
   "id": "996b39be-a2a4-4871-af8d-e0d27b5b4bb6",
   "metadata": {},
   "outputs": [],
   "source": [
    "my_keyboard = \"The quick brown fox jumped over the lazy dogs\""
   ]
  },
  {
   "cell_type": "markdown",
   "id": "6ed580f5-b137-41c6-9444-55291f16fd5d",
   "metadata": {},
   "source": [
    "#### 2. Major Property of the String Object"
   ]
  },
  {
   "cell_type": "markdown",
   "id": "5e9460b5-a859-4764-9b20-d31bdc395583",
   "metadata": {},
   "source": [
    "**A string object is actually a list of literals**"
   ]
  },
  {
   "cell_type": "code",
   "execution_count": 8,
   "id": "c173c60d-99d6-4c11-b699-c958c31ae523",
   "metadata": {},
   "outputs": [
    {
     "data": {
      "text/plain": [
       "str"
      ]
     },
     "execution_count": 8,
     "metadata": {},
     "output_type": "execute_result"
    }
   ],
   "source": [
    "type(my_keyboard)"
   ]
  },
  {
   "cell_type": "markdown",
   "id": "6f3eae04-5bfd-430b-9239-4f2d11e68d8e",
   "metadata": {},
   "source": [
    "#### 3. String Methods "
   ]
  },
  {
   "cell_type": "code",
   "execution_count": 10,
   "id": "547df7dc-30b6-4699-9b1b-955eea662f67",
   "metadata": {},
   "outputs": [
    {
     "data": {
      "text/plain": [
       "['The', 'quick', 'brown', 'fox', 'jumped', 'over', 'the', 'lazy', 'dogs']"
      ]
     },
     "execution_count": 10,
     "metadata": {},
     "output_type": "execute_result"
    }
   ],
   "source": [
    "#splitting string objects\n",
    "my_keys = my_keyboard.split()\n",
    "my_keys"
   ]
  },
  {
   "cell_type": "markdown",
   "id": "a7562f18-1537-4711-8cbf-589e23446ded",
   "metadata": {},
   "source": [
    "By default, split happens by natural space between words in a string (sentence)"
   ]
  },
  {
   "cell_type": "code",
   "execution_count": 12,
   "id": "e5cda48c-898b-47fa-a719-21f402939509",
   "metadata": {},
   "outputs": [
    {
     "data": {
      "text/plain": [
       "9"
      ]
     },
     "execution_count": 12,
     "metadata": {},
     "output_type": "execute_result"
    }
   ],
   "source": [
    "#length of strings\n",
    "len(my_keys)"
   ]
  },
  {
   "cell_type": "code",
   "execution_count": 13,
   "id": "e0ccd954-9159-4310-b724-ef82e757dbef",
   "metadata": {},
   "outputs": [
    {
     "data": {
      "text/plain": [
       "['The', 'quick', 'brown', 'fox', 'jumped']"
      ]
     },
     "execution_count": 13,
     "metadata": {},
     "output_type": "execute_result"
    }
   ],
   "source": [
    "# slice of strings\n",
    "my_shotcut_keys= my_keys[:-4]\n",
    "my_shotcut_keys"
   ]
  },
  {
   "cell_type": "code",
   "execution_count": 14,
   "id": "7f06c0c7-76ce-41ca-8012-dcdb2ca5a176",
   "metadata": {},
   "outputs": [
    {
     "data": {
      "text/plain": [
       "['The', 'quick', 'brown', 'fox', 'jumped', 'over', 'the', 'lazy', 'dogs']"
      ]
     },
     "execution_count": 14,
     "metadata": {},
     "output_type": "execute_result"
    }
   ],
   "source": [
    "my_keys"
   ]
  },
  {
   "cell_type": "markdown",
   "id": "29b14fe3-df27-45a0-b3fe-6adc02c1fe03",
   "metadata": {},
   "source": [
    "#### 4. How to join/extend string objects"
   ]
  },
  {
   "cell_type": "code",
   "execution_count": 16,
   "id": "c8e669e9-3ce1-427b-84eb-4c60ce93d8d8",
   "metadata": {},
   "outputs": [
    {
     "data": {
      "text/plain": [
       "['The', 'quick', 'brown', 'fox', 'jumped']"
      ]
     },
     "execution_count": 16,
     "metadata": {},
     "output_type": "execute_result"
    }
   ],
   "source": [
    "my_shotcut_keys"
   ]
  },
  {
   "cell_type": "code",
   "execution_count": 17,
   "id": "8f478eac-4df0-450c-aa5b-e5397db94e58",
   "metadata": {},
   "outputs": [
    {
     "data": {
      "text/plain": [
       "'The quick brown fox jumped'"
      ]
     },
     "execution_count": 17,
     "metadata": {},
     "output_type": "execute_result"
    }
   ],
   "source": [
    "first_statement = \" \".join(my_shotcut_keys)\n",
    "first_statement"
   ]
  },
  {
   "cell_type": "code",
   "execution_count": 18,
   "id": "1fb3643f-fc28-47dc-89e2-196cef81852d",
   "metadata": {},
   "outputs": [
    {
     "data": {
      "text/plain": [
       "['over', 'the', 'lazy', 'dogs']"
      ]
     },
     "execution_count": 18,
     "metadata": {},
     "output_type": "execute_result"
    }
   ],
   "source": [
    "my_new_keys_shortcut = my_keys[5:]\n",
    "my_new_keys_shortcut"
   ]
  },
  {
   "cell_type": "code",
   "execution_count": 19,
   "id": "fd5c7620-c3d6-4ab3-9604-0dc0b6d508c7",
   "metadata": {},
   "outputs": [
    {
     "data": {
      "text/plain": [
       "'over the lazy dogs'"
      ]
     },
     "execution_count": 19,
     "metadata": {},
     "output_type": "execute_result"
    }
   ],
   "source": [
    "last_statement = \" \".join(my_new_keys_shortcut)\n",
    "last_statement"
   ]
  },
  {
   "cell_type": "code",
   "execution_count": 20,
   "id": "33dac5a6-7e67-47ad-a93f-ef1e35a4eef2",
   "metadata": {},
   "outputs": [
    {
     "data": {
      "text/plain": [
       "'The quick brown fox jumped over the lazy dogs'"
      ]
     },
     "execution_count": 20,
     "metadata": {},
     "output_type": "execute_result"
    }
   ],
   "source": [
    "# string concatanation\n",
    "full_statement = first_statement + \" \" + last_statement\n",
    "full_statement"
   ]
  },
  {
   "cell_type": "code",
   "execution_count": 21,
   "id": "5e7227a9-8d6c-441d-a29b-835cc85ca847",
   "metadata": {},
   "outputs": [
    {
     "data": {
      "text/plain": [
       "'The quick brown fox jumped over the lazy dogs'"
      ]
     },
     "execution_count": 21,
     "metadata": {},
     "output_type": "execute_result"
    }
   ],
   "source": [
    "# another way of joining string elements\n",
    "full_statement = \" \".join(my_keys)\n",
    "full_statement"
   ]
  },
  {
   "cell_type": "code",
   "execution_count": 42,
   "id": "bb48612d-7e98-43d8-8f3a-60278a32f35e",
   "metadata": {},
   "outputs": [
    {
     "data": {
      "text/plain": [
       "' The quick brown fox jumped over the lazy dogs '"
      ]
     },
     "execution_count": 42,
     "metadata": {},
     "output_type": "execute_result"
    }
   ],
   "source": [
    "# use looping to merge/concatanate/join string elements in a list\n",
    "full_statement = \" \"\n",
    "for word in my_keys:\n",
    "    full_statement += \"\".join(word)\n",
    "    full_statement = full_statement + \" \"\n",
    "full_statement    "
   ]
  },
  {
   "cell_type": "markdown",
   "id": "e10e9e28-defa-41d1-8d1a-abfa1acc4609",
   "metadata": {},
   "source": [
    "#### 5. How to print strings outputs"
   ]
  },
  {
   "cell_type": "code",
   "execution_count": 53,
   "id": "3021c42f-952c-41ec-999a-3a1f096500aa",
   "metadata": {},
   "outputs": [
    {
     "name": "stdout",
     "output_type": "stream",
     "text": [
      " The quick brown fox jumped over the lazy dogs \n",
      " The quick brown fox jumped over the lazy dogs \n"
     ]
    }
   ],
   "source": [
    "print(full_statement)\n",
    "print(full_statement)"
   ]
  },
  {
   "cell_type": "code",
   "execution_count": 63,
   "id": "bb110d9a-c932-44e6-b992-9faceb80110b",
   "metadata": {},
   "outputs": [
    {
     "name": "stdout",
     "output_type": "stream",
     "text": [
      "The quick brown fox jumped over the lazy dogs\n"
     ]
    }
   ],
   "source": [
    "print(first_statement,last_statement)"
   ]
  },
  {
   "cell_type": "markdown",
   "id": "0fc55afd-09eb-4648-918a-670b3007ed0a",
   "metadata": {},
   "source": [
    "#### 6. How to use print 'f' "
   ]
  },
  {
   "cell_type": "code",
   "execution_count": 73,
   "id": "4b3320c2-a79d-4af0-9541-c587d90fb243",
   "metadata": {},
   "outputs": [
    {
     "data": {
      "text/plain": [
       "'The quick brown fox jumped (village_fox) 18 over the lazy dogs'"
      ]
     },
     "execution_count": 73,
     "metadata": {},
     "output_type": "execute_result"
    }
   ],
   "source": [
    "print(f'{first_statement} ({fox_name}) {3*6} {last_statement}')\n"
   ]
  },
  {
   "cell_type": "markdown",
   "id": "bb17f142-dc7f-485e-baf9-6a19e6fc0975",
   "metadata": {},
   "source": [
    "#### 7. How to replace values in a string"
   ]
  },
  {
   "cell_type": "code",
   "execution_count": 61,
   "id": "2ed7b1ce-5a98-442e-b967-959a7246cfb8",
   "metadata": {},
   "outputs": [
    {
     "data": {
      "text/plain": [
       "' The quick brown village_fox jumped over the lazy dogs '"
      ]
     },
     "execution_count": 61,
     "metadata": {},
     "output_type": "execute_result"
    }
   ],
   "source": [
    "fox_name = \"village_fox\"\n",
    "# please replace the fox in the statement with the correct name above\n",
    "full_statement.replace(\"fox\",fox_name)"
   ]
  },
  {
   "cell_type": "markdown",
   "id": "be157b8a-472d-4cba-81da-c54a6f91e550",
   "metadata": {},
   "source": [
    "#### 8. Change the string to upper/lowercase/titlecase"
   ]
  },
  {
   "cell_type": "code",
   "execution_count": 76,
   "id": "5f85b563-ef62-4ed2-9791-8b99ec2b3302",
   "metadata": {},
   "outputs": [],
   "source": [
    "full_caps_statement = full_statement.upper()\n",
    "full_lower_caps_statement = full_statement.lower()\n",
    "title_caps_statement = full_statement.title()"
   ]
  },
  {
   "cell_type": "markdown",
   "id": "332993fa-24f5-42a0-9928-38f2e58c0246",
   "metadata": {},
   "source": [
    "#### 9. How to use escape characters"
   ]
  },
  {
   "cell_type": "code",
   "execution_count": 79,
   "id": "aadb33f2-2f57-4e94-8106-6cce2990fc1c",
   "metadata": {},
   "outputs": [
    {
     "data": {
      "text/plain": [
       "\"Wendy's song is about being who you are unappologetically\""
      ]
     },
     "execution_count": 79,
     "metadata": {},
     "output_type": "execute_result"
    }
   ],
   "source": [
    "the_song = \"Wendy's song is about being who you are 'unappologetically'\"\n",
    "the_song"
   ]
  },
  {
   "cell_type": "code",
   "execution_count": 81,
   "id": "884f90ef-d4d8-41c4-95ab-86d8b1437dad",
   "metadata": {},
   "outputs": [
    {
     "data": {
      "text/plain": [
       "\"Wendy's song is about being who you are 'unappologetically'\""
      ]
     },
     "execution_count": 81,
     "metadata": {},
     "output_type": "execute_result"
    }
   ],
   "source": [
    "the_song = 'Wendy\\'s song is about being who you are \\'unappologetically\\''\n",
    "the_song"
   ]
  },
  {
   "cell_type": "code",
   "execution_count": 83,
   "id": "cdd5fa44-6884-4ffb-a717-21325e49d93f",
   "metadata": {},
   "outputs": [
    {
     "data": {
      "text/plain": [
       "'Wendy\\'s song is about being who you are \"unappologetically\"'"
      ]
     },
     "execution_count": 83,
     "metadata": {},
     "output_type": "execute_result"
    }
   ],
   "source": [
    "the_song = \"Wendy's song is about being who you are \\\"unappologetically\\\"\"\n",
    "the_song"
   ]
  },
  {
   "cell_type": "markdown",
   "id": "1067f120-ad32-4af9-b12b-db5d843d8519",
   "metadata": {},
   "source": [
    "#### 10. How to use a boolean value evaluation on strings"
   ]
  },
  {
   "cell_type": "code",
   "execution_count": 86,
   "id": "5f004207-bf7d-4669-8376-98706f2555a1",
   "metadata": {},
   "outputs": [
    {
     "name": "stdout",
     "output_type": "stream",
     "text": [
      "No\n"
     ]
    }
   ],
   "source": [
    "# is the word apology in Wendy's song?\n",
    "if \"apology\" in the_song:\n",
    "    print(\"Yes\")\n",
    "else:\n",
    "    print(\"No\")"
   ]
  },
  {
   "cell_type": "code",
   "execution_count": 88,
   "id": "798be07d-443b-4cbd-9118-6d4e3949a5da",
   "metadata": {},
   "outputs": [
    {
     "name": "stdout",
     "output_type": "stream",
     "text": [
      "Yes\n"
     ]
    }
   ],
   "source": [
    "if \"apology\" not in the_song:\n",
    "    print(\"Yes\")\n",
    "else:\n",
    "    print(\"No\")"
   ]
  },
  {
   "cell_type": "code",
   "execution_count": null,
   "id": "f101ca5d-db2d-4a7d-bc88-3fbdaddb0d7b",
   "metadata": {},
   "outputs": [],
   "source": []
  }
 ],
 "metadata": {
  "kernelspec": {
   "display_name": "Python 3 (ipykernel)",
   "language": "python",
   "name": "python3"
  },
  "language_info": {
   "codemirror_mode": {
    "name": "ipython",
    "version": 3
   },
   "file_extension": ".py",
   "mimetype": "text/x-python",
   "name": "python",
   "nbconvert_exporter": "python",
   "pygments_lexer": "ipython3",
   "version": "3.11.7"
  }
 },
 "nbformat": 4,
 "nbformat_minor": 5
}
