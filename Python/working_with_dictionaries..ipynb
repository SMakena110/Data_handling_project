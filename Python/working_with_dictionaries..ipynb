{
 "cells": [
  {
   "cell_type": "markdown",
   "id": "55dfa68e-7cdb-470f-a8f9-b899ac724092",
   "metadata": {},
   "source": [
    "#### How to work with Dictionaries"
   ]
  },
  {
   "cell_type": "markdown",
   "id": "d15f152d-1401-4655-84c7-5294f9801163",
   "metadata": {},
   "source": [
    "We have so far we've looked at 2 data structures:\n",
    "         -Lists\n",
    "        -DataFrames\n",
    "\n",
    "Today we will be looking at the third data Structure:\n",
    "          - **Dictionaries**\n",
    "          *These are always key value pairs"
   ]
  },
  {
   "cell_type": "markdown",
   "id": "01731631-918c-4b14-9027-84b3b9ae7d98",
   "metadata": {},
   "source": [
    "#### 1. How to create/Initialize a dictionary object"
   ]
  },
  {
   "cell_type": "code",
   "execution_count": 5,
   "id": "7f41c4e7-42c1-459e-a634-2e9b403cdffd",
   "metadata": {},
   "outputs": [],
   "source": [
    "# Method 1 How to create a Dict object from the ground up.\n",
    "Attendance_dict ={}"
   ]
  },
  {
   "cell_type": "code",
   "execution_count": 7,
   "id": "f03bddb0-aa86-49b2-b757-2d4d2b673a71",
   "metadata": {},
   "outputs": [
    {
     "data": {
      "text/plain": [
       "dict"
      ]
     },
     "execution_count": 7,
     "metadata": {},
     "output_type": "execute_result"
    }
   ],
   "source": [
    "type (Attendance_dict)"
   ]
  },
  {
   "cell_type": "code",
   "execution_count": 9,
   "id": "b1824e21-65f7-4170-8b07-e2c3882a702b",
   "metadata": {},
   "outputs": [
    {
     "data": {
      "text/plain": [
       "dict"
      ]
     },
     "execution_count": 9,
     "metadata": {},
     "output_type": "execute_result"
    }
   ],
   "source": [
    "Attendance_dict_1 = dict()\n",
    "type (Attendance_dict_1)"
   ]
  },
  {
   "cell_type": "markdown",
   "id": "bbd0e89d-0dfc-48e0-92bc-1c7fcfc6adc2",
   "metadata": {},
   "source": [
    "#### 2. How to add items into a Dictionary Object"
   ]
  },
  {
   "cell_type": "code",
   "execution_count": 31,
   "id": "e7e5f929-01f3-4429-bebc-be25ab47f6dd",
   "metadata": {},
   "outputs": [
    {
     "data": {
      "text/plain": [
       "{'Victor': 'Male',\n",
       " 'Susan': 'Female',\n",
       " 'Wycliffe': 'Male',\n",
       " 'Lyndah': 'Female',\n",
       " 'Obongo': 'Male'}"
      ]
     },
     "execution_count": 31,
     "metadata": {},
     "output_type": "execute_result"
    }
   ],
   "source": [
    "Attendance_dict[\"Obongo\"] = \"Male\"\n",
    "Attendance_dict"
   ]
  },
  {
   "cell_type": "markdown",
   "id": "d37db24a-45e9-4459-8883-f9e1a03a789a",
   "metadata": {},
   "source": [
    "#### 3. How to access items into a Dictionary"
   ]
  },
  {
   "cell_type": "code",
   "execution_count": 33,
   "id": "fb5e3d11-5e08-434c-b5da-ab032a435a68",
   "metadata": {},
   "outputs": [
    {
     "data": {
      "text/plain": [
       "{'Victor': 'Male',\n",
       " 'Susan': 'Female',\n",
       " 'Wycliffe': 'Male',\n",
       " 'Lyndah': 'Female',\n",
       " 'Obongo': 'Male'}"
      ]
     },
     "execution_count": 33,
     "metadata": {},
     "output_type": "execute_result"
    }
   ],
   "source": [
    "#All items\n",
    "Attendance_dict"
   ]
  },
  {
   "cell_type": "code",
   "execution_count": 35,
   "id": "c093304e-ceaa-491b-b2cf-0a378a61aba5",
   "metadata": {},
   "outputs": [
    {
     "data": {
      "text/plain": [
       "'Male'"
      ]
     },
     "execution_count": 35,
     "metadata": {},
     "output_type": "execute_result"
    }
   ],
   "source": [
    "# specific item\n",
    "# what is the gender of'Obongo'\n",
    "Attendance_dict[\"Obongo\"]"
   ]
  },
  {
   "cell_type": "markdown",
   "id": "a65fa59e-bb12-409f-b4dd-673d0e126de5",
   "metadata": {},
   "source": [
    "#### 4. How to access Keys in a Dictionary"
   ]
  },
  {
   "cell_type": "code",
   "execution_count": 43,
   "id": "e0206dc9-cc04-48c8-a68c-9dd9d592f816",
   "metadata": {},
   "outputs": [
    {
     "data": {
      "text/plain": [
       "dict_keys(['Victor', 'Susan', 'Wycliffe', 'Lyndah', 'Obongo'])"
      ]
     },
     "execution_count": 43,
     "metadata": {},
     "output_type": "execute_result"
    }
   ],
   "source": [
    "Attendance_dict.keys()"
   ]
  },
  {
   "cell_type": "markdown",
   "id": "ee507fb1-7f22-4953-8258-562af1d41c98",
   "metadata": {},
   "source": [
    "#### 5. How to access Values in a Dictionary"
   ]
  },
  {
   "cell_type": "code",
   "execution_count": 45,
   "id": "aa9cd73e-4234-4bb9-a04d-cba2b40c06b5",
   "metadata": {},
   "outputs": [
    {
     "data": {
      "text/plain": [
       "dict_values(['Male', 'Female', 'Male', 'Female', 'Male'])"
      ]
     },
     "execution_count": 45,
     "metadata": {},
     "output_type": "execute_result"
    }
   ],
   "source": [
    "Attendance_dict.values()"
   ]
  },
  {
   "cell_type": "markdown",
   "id": "43a7dfcf-7034-4f3d-a7bc-f29e1939e71d",
   "metadata": {},
   "source": [
    "#### 6. How to iterate/ loop over items in a Dictionary"
   ]
  },
  {
   "cell_type": "code",
   "execution_count": 53,
   "id": "fcbbd835-aba3-42bb-b628-5ed9b1a416b2",
   "metadata": {},
   "outputs": [
    {
     "name": "stdout",
     "output_type": "stream",
     "text": [
      "Victor's gender is Male\n",
      "Susan's gender is Female\n",
      "Wycliffe's gender is Male\n",
      "Lyndah's gender is Female\n",
      "Obongo's gender is Male\n"
     ]
    }
   ],
   "source": [
    "for key,val in Attendance_dict.items():\n",
    "    print(f'{key}\\'s gender is {val}')"
   ]
  },
  {
   "cell_type": "markdown",
   "id": "8262acdb-3ab2-45e7-b7f8-42fc5ad5d6d5",
   "metadata": {},
   "source": [
    "#### 7. How to remove an item from a Dictionary"
   ]
  },
  {
   "cell_type": "code",
   "execution_count": 55,
   "id": "5e053d4f-f47c-4f06-9017-2291e3ac1b9e",
   "metadata": {},
   "outputs": [],
   "source": [
    "# list_1 How to clear/remove objects\n",
    "#Attendance_dict.clear()"
   ]
  },
  {
   "cell_type": "markdown",
   "id": "4de7c0b1-6096-412a-9bec-2f56d1253c99",
   "metadata": {},
   "source": [
    "#### Method 2 Create a Dict object from a list(s)"
   ]
  },
  {
   "cell_type": "code",
   "execution_count": 58,
   "id": "1a785052-310b-4db6-b31e-bce108abe16e",
   "metadata": {},
   "outputs": [
    {
     "data": {
      "text/plain": [
       "{'Victor': 'Male',\n",
       " 'Susan': 'Female',\n",
       " 'Wycliffe': 'Male',\n",
       " 'Lyndah': 'Female',\n",
       " 'Obongo': 'Male'}"
      ]
     },
     "execution_count": 58,
     "metadata": {},
     "output_type": "execute_result"
    }
   ],
   "source": [
    "#list_1 Keys\n",
    "list_1 = ['Victor', 'Susan', 'Wycliffe', 'Lyndah', 'Obongo']\n",
    "#list_2 Values\n",
    "list_2 = ['Male', 'Female', 'Male', 'Female', 'Male']\n",
    "\n",
    "#combined_lists_dict\n",
    "combined_attendance_dict = dict(zip(list_1,list_2))\n",
    "combined_attendance_dict"
   ]
  },
  {
   "cell_type": "code",
   "execution_count": null,
   "id": "3d24f617-0e40-4c4d-bb3a-942365845853",
   "metadata": {},
   "outputs": [],
   "source": []
  }
 ],
 "metadata": {
  "kernelspec": {
   "display_name": "Python 3 (ipykernel)",
   "language": "python",
   "name": "python3"
  },
  "language_info": {
   "codemirror_mode": {
    "name": "ipython",
    "version": 3
   },
   "file_extension": ".py",
   "mimetype": "text/x-python",
   "name": "python",
   "nbconvert_exporter": "python",
   "pygments_lexer": "ipython3",
   "version": "3.11.7"
  }
 },
 "nbformat": 4,
 "nbformat_minor": 5
}
