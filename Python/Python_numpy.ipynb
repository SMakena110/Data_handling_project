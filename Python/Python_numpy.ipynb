{
 "cells": [
  {
   "cell_type": "markdown",
   "id": "9ca191ce-0f65-43d7-86c7-82b2307270fb",
   "metadata": {},
   "source": [
    "### Python Numpy"
   ]
  },
  {
   "cell_type": "markdown",
   "id": "2bfcc579-49f9-460d-a8b3-589c64bd447e",
   "metadata": {},
   "source": [
    "###### Numerical Python"
   ]
  },
  {
   "cell_type": "markdown",
   "id": "0cbbf38a-259d-464c-b659-b49a5a100d07",
   "metadata": {},
   "source": [
    "#### 1. Import Numpy"
   ]
  },
  {
   "cell_type": "code",
   "execution_count": 4,
   "id": "5967fb9f-bfe0-40ef-8f1f-078025ba217c",
   "metadata": {},
   "outputs": [],
   "source": [
    "import numpy as np"
   ]
  },
  {
   "cell_type": "markdown",
   "id": "3ac3bcc5-5b0f-4f72-9466-7378e9848eb9",
   "metadata": {},
   "source": [
    "#### 2. Creating Numpy Arrays"
   ]
  },
  {
   "cell_type": "markdown",
   "id": "797f34da-3b5f-41c3-9f33-022b7867cf20",
   "metadata": {},
   "source": [
    "What are arrays?"
   ]
  },
  {
   "cell_type": "markdown",
   "id": "289b6cff-e360-46cc-9ebb-9a8a2472a58d",
   "metadata": {},
   "source": [
    "Arrays as super lists"
   ]
  },
  {
   "cell_type": "code",
   "execution_count": 28,
   "id": "a305dbc6-bb0b-4986-b043-682f51e9c781",
   "metadata": {},
   "outputs": [
    {
     "data": {
      "text/plain": [
       "[0, 1, 2, 3, 4]"
      ]
     },
     "execution_count": 28,
     "metadata": {},
     "output_type": "execute_result"
    }
   ],
   "source": [
    "my_list = [i for i in range (5)]\n",
    "my_list"
   ]
  },
  {
   "cell_type": "code",
   "execution_count": 12,
   "id": "50f9d084-7caa-43bc-a77e-21fb3ef8ba0d",
   "metadata": {},
   "outputs": [
    {
     "data": {
      "text/plain": [
       "[1, 2, 3, 4, 5]"
      ]
     },
     "execution_count": 12,
     "metadata": {},
     "output_type": "execute_result"
    }
   ],
   "source": [
    "my_list = [1,2,3,4,5]\n",
    "my_list"
   ]
  },
  {
   "cell_type": "code",
   "execution_count": 20,
   "id": "c82a7221-2d7d-4fc5-ae7d-adda5580dbc6",
   "metadata": {},
   "outputs": [
    {
     "name": "stdout",
     "output_type": "stream",
     "text": [
      "[1 2 3 4 5]\n"
     ]
    }
   ],
   "source": [
    "# convert a list into an array\n",
    "my_array = np.array(my_list)\n",
    "print(my_array)"
   ]
  },
  {
   "cell_type": "code",
   "execution_count": 30,
   "id": "9f1602a9-ff28-4696-be6b-e994c995236b",
   "metadata": {},
   "outputs": [
    {
     "name": "stdout",
     "output_type": "stream",
     "text": [
      "[[1. 1. 1.]\n",
      " [1. 1. 1.]]\n"
     ]
    }
   ],
   "source": [
    "# an array of ONES\n",
    "my_ones_array = np.ones([2,3])\n",
    "print(my_ones_array)"
   ]
  },
  {
   "cell_type": "code",
   "execution_count": 34,
   "id": "a4e4d048-e32d-4c36-a23f-a808bd7fb60d",
   "metadata": {},
   "outputs": [
    {
     "name": "stdout",
     "output_type": "stream",
     "text": [
      "[[0. 0.]\n",
      " [0. 0.]\n",
      " [0. 0.]]\n"
     ]
    }
   ],
   "source": [
    "# an array of zeros\n",
    "my_ones_array = np.zeros([3,2]) # 3 rows, 2 columns\n",
    "print(my_ones_array)"
   ]
  },
  {
   "cell_type": "code",
   "execution_count": 38,
   "id": "d4b7e499-a72a-4561-82b1-7c87d62d7f2c",
   "metadata": {},
   "outputs": [
    {
     "name": "stdout",
     "output_type": "stream",
     "text": [
      "[[7 7]\n",
      " [7 7]\n",
      " [7 7]]\n"
     ]
    }
   ],
   "source": [
    "# an array of sevens\n",
    "my_ones_array = np.full([3,2],7) # 3 rows, 2 columns\n",
    "print(my_ones_array)"
   ]
  },
  {
   "cell_type": "code",
   "execution_count": 40,
   "id": "c92e87b8-aff5-4b97-8e5d-d2e9d3d6f27c",
   "metadata": {},
   "outputs": [
    {
     "name": "stdout",
     "output_type": "stream",
     "text": [
      "[[8 8 8 8 8]\n",
      " [8 8 8 8 8]\n",
      " [8 8 8 8 8]\n",
      " [8 8 8 8 8]\n",
      " [8 8 8 8 8]]\n"
     ]
    }
   ],
   "source": [
    "# an array of eight\n",
    "my_ones_array = np.full([5,5],8) # 3 rows, 2 columns\n",
    "print(my_ones_array)"
   ]
  },
  {
   "cell_type": "code",
   "execution_count": 42,
   "id": "a2c2d13a-a24b-44d3-b57e-0951991b4e1e",
   "metadata": {},
   "outputs": [
    {
     "name": "stdout",
     "output_type": "stream",
     "text": [
      "[[1. 0. 0.]\n",
      " [0. 1. 0.]\n",
      " [0. 0. 1.]]\n"
     ]
    }
   ],
   "source": [
    "# identity matrix\n",
    "id_n = np.eye(3)\n",
    "print(id_n)"
   ]
  },
  {
   "cell_type": "markdown",
   "id": "83f11f37-ee6c-4e0a-b7a2-bf6c5f3aa326",
   "metadata": {},
   "source": [
    "#### Basic Arithmetics"
   ]
  },
  {
   "cell_type": "code",
   "execution_count": 97,
   "id": "6df44e41-88a2-4f26-ba3b-3af4f0475f7a",
   "metadata": {},
   "outputs": [],
   "source": [
    "a = np.array([2,3,5,7,11,13])\n",
    "b = np.array([2,4,6,8,10,12])"
   ]
  },
  {
   "cell_type": "code",
   "execution_count": 99,
   "id": "e00fd7eb-5054-4cc5-9a59-03b887bed219",
   "metadata": {},
   "outputs": [
    {
     "name": "stdout",
     "output_type": "stream",
     "text": [
      "[ 4  7 11 15 21 25]\n"
     ]
    }
   ],
   "source": [
    "# additions\n",
    "sum_a_b = a + b\n",
    "print(sum_a_b)"
   ]
  },
  {
   "cell_type": "code",
   "execution_count": 101,
   "id": "0179cada-d0ed-4266-8af0-abeb0ee24b40",
   "metadata": {},
   "outputs": [
    {
     "name": "stdout",
     "output_type": "stream",
     "text": [
      "[ 0 -1 -1 -1  1  1]\n"
     ]
    }
   ],
   "source": [
    "# substraction\n",
    "a_minus_b = a - b\n",
    "print(a_minus_b)"
   ]
  },
  {
   "cell_type": "code",
   "execution_count": 103,
   "id": "b4a1368c-eca8-4d5d-bc31-f9bfbdda08b7",
   "metadata": {},
   "outputs": [
    {
     "name": "stdout",
     "output_type": "stream",
     "text": [
      "[  4  12  30  56 110 156]\n"
     ]
    }
   ],
   "source": [
    "# multiplication\n",
    "a_multiply_b = a * b\n",
    "print(a_multiply_b)"
   ]
  },
  {
   "cell_type": "markdown",
   "id": "e7aa87a9-6902-47d4-98a0-7929f48a71bb",
   "metadata": {},
   "source": [
    "#### Aggregations"
   ]
  },
  {
   "cell_type": "code",
   "execution_count": 105,
   "id": "59c58043-14bb-4abe-9207-af6a73a0b32f",
   "metadata": {},
   "outputs": [
    {
     "name": "stdout",
     "output_type": "stream",
     "text": [
      "41\n",
      "30030\n",
      "13\n",
      "2\n"
     ]
    }
   ],
   "source": [
    "print(np.sum(a))\n",
    "print(np.prod(a))\n",
    "print(np.max(a))\n",
    "print(np.min(a))"
   ]
  },
  {
   "cell_type": "markdown",
   "id": "2de5167c-69a3-431e-b312-12631b7b5e56",
   "metadata": {},
   "source": [
    "#### Reshaping Arrays"
   ]
  },
  {
   "cell_type": "code",
   "execution_count": 107,
   "id": "0f772ee5-727b-4f1c-b4c1-ce40c6fa0a2e",
   "metadata": {},
   "outputs": [],
   "source": [
    "a = np.array([1,2,3,5,7,10])"
   ]
  },
  {
   "cell_type": "code",
   "execution_count": 109,
   "id": "eb4f5003-ff40-4af9-aa5a-02b9eed5805b",
   "metadata": {},
   "outputs": [
    {
     "name": "stdout",
     "output_type": "stream",
     "text": [
      "[[ 1  2]\n",
      " [ 3  5]\n",
      " [ 7 10]]\n"
     ]
    }
   ],
   "source": [
    "a_reshaped = a.reshape(3,2)\n",
    "print(a_reshaped)"
   ]
  },
  {
   "cell_type": "code",
   "execution_count": 111,
   "id": "9a9bb5bb-163b-4234-a559-a17b11ffa3dc",
   "metadata": {},
   "outputs": [
    {
     "data": {
      "text/plain": [
       "(6,)"
      ]
     },
     "execution_count": 111,
     "metadata": {},
     "output_type": "execute_result"
    }
   ],
   "source": [
    "a.shape"
   ]
  },
  {
   "cell_type": "code",
   "execution_count": 113,
   "id": "ea3906f2-b15e-410b-b0ae-ec59f0ddc856",
   "metadata": {},
   "outputs": [
    {
     "data": {
      "text/plain": [
       "(3, 2)"
      ]
     },
     "execution_count": 113,
     "metadata": {},
     "output_type": "execute_result"
    }
   ],
   "source": [
    "a_reshaped.shape"
   ]
  },
  {
   "cell_type": "markdown",
   "id": "0d82d16e-f016-4c23-af42-450322f71c99",
   "metadata": {},
   "source": [
    "#### Slicing an array"
   ]
  },
  {
   "cell_type": "code",
   "execution_count": 115,
   "id": "5decc0bd-d431-4baa-be9b-7301511a1763",
   "metadata": {},
   "outputs": [
    {
     "name": "stdout",
     "output_type": "stream",
     "text": [
      "[ 2  4  6  8 10 12]\n"
     ]
    }
   ],
   "source": [
    "print(b)"
   ]
  },
  {
   "cell_type": "code",
   "execution_count": 117,
   "id": "28f902f8-1aff-498a-ae99-afba24ea50ae",
   "metadata": {},
   "outputs": [
    {
     "name": "stdout",
     "output_type": "stream",
     "text": [
      "[ 8 10 12]\n"
     ]
    }
   ],
   "source": [
    "print(b[3:])"
   ]
  },
  {
   "cell_type": "markdown",
   "id": "12ff2cb3-e587-4461-9939-5f66b342812e",
   "metadata": {},
   "source": [
    "#### Iterating/looping over arrays"
   ]
  },
  {
   "cell_type": "code",
   "execution_count": 119,
   "id": "18ce349f-23ce-4058-ae33-78c58de45067",
   "metadata": {},
   "outputs": [
    {
     "name": "stdout",
     "output_type": "stream",
     "text": [
      "[ 2  4  6  8 10 12]\n"
     ]
    }
   ],
   "source": [
    "print(b)"
   ]
  },
  {
   "cell_type": "code",
   "execution_count": 121,
   "id": "de389134-9f1a-49e5-ad76-9ca73e148917",
   "metadata": {},
   "outputs": [
    {
     "data": {
      "text/plain": [
       "array([[ 2,  4],\n",
       "       [ 6,  8],\n",
       "       [10, 12]])"
      ]
     },
     "execution_count": 121,
     "metadata": {},
     "output_type": "execute_result"
    }
   ],
   "source": [
    "b.reshape(3,2)"
   ]
  },
  {
   "cell_type": "code",
   "execution_count": 125,
   "id": "57841a77-e81e-4e82-8994-19b637115ad9",
   "metadata": {},
   "outputs": [
    {
     "name": "stdout",
     "output_type": "stream",
     "text": [
      "2\n",
      "4\n",
      "6\n",
      "8\n",
      "10\n",
      "12\n"
     ]
    }
   ],
   "source": [
    "for x in b:\n",
    "    print(x)"
   ]
  },
  {
   "cell_type": "code",
   "execution_count": 131,
   "id": "e36b8d69-ee18-452d-a247-9b6766a26d53",
   "metadata": {},
   "outputs": [
    {
     "name": "stdout",
     "output_type": "stream",
     "text": [
      "[[ 1  2  3  4  5]\n",
      " [ 6  7  8  9 10]]\n"
     ]
    }
   ],
   "source": [
    "# looping over a two dimensional array\n",
    "arr = np.array([[1,2,3,4,5],[6,7,8,9,10]])\n",
    "print(arr)"
   ]
  },
  {
   "cell_type": "code",
   "execution_count": 141,
   "id": "5ba820f2-5c14-4a2c-9cde-705a68871c0d",
   "metadata": {},
   "outputs": [
    {
     "name": "stdout",
     "output_type": "stream",
     "text": [
      "1\n",
      "2\n",
      "3\n",
      "4\n",
      "5\n",
      "6\n",
      "7\n",
      "8\n",
      "9\n",
      "10\n"
     ]
    }
   ],
   "source": [
    "for x in arr:\n",
    "    for y in x:\n",
    "      print(y)"
   ]
  },
  {
   "cell_type": "code",
   "execution_count": null,
   "id": "74de8e12-58aa-438d-928a-7f34cc8bd11f",
   "metadata": {},
   "outputs": [],
   "source": [
    "# looping over a two dimensional array\n",
    "arr = np.array([[1,2,3,4,5],[6,7,8,9,10],[11,12,13,14,15]])"
   ]
  },
  {
   "cell_type": "code",
   "execution_count": 144,
   "id": "1ad496b2-1f5e-4752-8aee-2477865c75be",
   "metadata": {},
   "outputs": [
    {
     "ename": "TypeError",
     "evalue": "'numpy.int32' object is not iterable",
     "output_type": "error",
     "traceback": [
      "\u001b[1;31m---------------------------------------------------------------------------\u001b[0m",
      "\u001b[1;31mTypeError\u001b[0m                                 Traceback (most recent call last)",
      "Cell \u001b[1;32mIn[144], line 3\u001b[0m\n\u001b[0;32m      1\u001b[0m \u001b[38;5;28;01mfor\u001b[39;00m x \u001b[38;5;129;01min\u001b[39;00m arr:\n\u001b[0;32m      2\u001b[0m     \u001b[38;5;28;01mfor\u001b[39;00m y \u001b[38;5;129;01min\u001b[39;00m x:\n\u001b[1;32m----> 3\u001b[0m         \u001b[38;5;28;01mfor\u001b[39;00m z \u001b[38;5;129;01min\u001b[39;00m y:\n\u001b[0;32m      4\u001b[0m             \u001b[38;5;28mprint\u001b[39m (z)\n",
      "\u001b[1;31mTypeError\u001b[0m: 'numpy.int32' object is not iterable"
     ]
    }
   ],
   "source": [
    "for x in arr:\n",
    "    for y in x:\n",
    "        for z in y:\n",
    "            print (z)"
   ]
  }
 ],
 "metadata": {
  "kernelspec": {
   "display_name": "Python 3 (ipykernel)",
   "language": "python",
   "name": "python3"
  },
  "language_info": {
   "codemirror_mode": {
    "name": "ipython",
    "version": 3
   },
   "file_extension": ".py",
   "mimetype": "text/x-python",
   "name": "python",
   "nbconvert_exporter": "python",
   "pygments_lexer": "ipython3",
   "version": "3.11.7"
  }
 },
 "nbformat": 4,
 "nbformat_minor": 5
}
