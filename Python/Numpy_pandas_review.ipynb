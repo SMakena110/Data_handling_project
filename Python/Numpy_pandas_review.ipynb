{
 "cells": [
  {
   "cell_type": "markdown",
   "id": "e492bc5b-2f6a-4960-bbc1-8f57af593fc8",
   "metadata": {},
   "source": [
    "#### 1. Generating random values using numpy"
   ]
  },
  {
   "cell_type": "markdown",
   "id": "654e4d66-242d-4b17-9230-afb45e1e42fe",
   "metadata": {},
   "source": [
    "We don't always have the datasets we need.\n",
    " - we make up dummy\n",
    " - we use dummy for testing/proto-typing/ proof-of-concept"
   ]
  },
  {
   "cell_type": "code",
   "execution_count": 9,
   "id": "44a8538a-9d42-48b4-a861-85b52123da2f",
   "metadata": {},
   "outputs": [],
   "source": [
    "import pandas as pd\n",
    "import numpy as np"
   ]
  },
  {
   "cell_type": "markdown",
   "id": "1c49c603-6a4d-4fec-a225-e893dff81045",
   "metadata": {},
   "source": [
    "#### Establishing a seed"
   ]
  },
  {
   "cell_type": "code",
   "execution_count": 22,
   "id": "3a834e81-a334-4dbe-afe2-bc3e45c27d0a",
   "metadata": {},
   "outputs": [],
   "source": [
    "#establishing seed: helps with REPRODUCIBILITY\n",
    "seed = 1234\n",
    "np.random.seed(seed)"
   ]
  },
  {
   "cell_type": "markdown",
   "id": "bfe20551-26e8-4efa-840d-91bf24256027",
   "metadata": {},
   "source": [
    "#### Generating Random Values"
   ]
  },
  {
   "cell_type": "code",
   "execution_count": 13,
   "id": "b2f707d2-f73a-40bf-a81d-27c032dd3c96",
   "metadata": {},
   "outputs": [
    {
     "name": "stdout",
     "output_type": "stream",
     "text": [
      "[[ 0.07619959 -0.56644593  0.03614194 -2.0749776   0.2477922  -0.89715678\n",
      "  -0.13679483  0.01828919  0.75541398  0.21526858]\n",
      " [ 0.84100879 -1.44581008 -1.40197328 -0.1009182  -0.54824245 -0.14461951\n",
      "   0.35402033 -0.03551303  0.56573831  1.5456588 ]\n",
      " [-0.97423633 -0.07034488  0.30796886 -0.20849876  1.03380073 -2.40045363\n",
      "   2.03060362 -1.14263129  0.21188339  0.70472062]\n",
      " [-0.78543521  0.46205974  0.70422823  0.52350797 -0.92625431  2.00784295\n",
      "   0.22696254 -1.15265911  0.63197945  0.03951269]]\n"
     ]
    }
   ],
   "source": [
    "# generate random 4,10 array\n",
    "my_array = np.random.randn(4,10)\n",
    "print(my_array)"
   ]
  },
  {
   "cell_type": "markdown",
   "id": "0f13c106-6616-428b-a074-b56861032012",
   "metadata": {},
   "source": [
    "#### Constructing a DataFrame object - Wide Format"
   ]
  },
  {
   "cell_type": "code",
   "execution_count": 15,
   "id": "83db16ae-84a3-4cca-a046-d8dd56e71b5b",
   "metadata": {},
   "outputs": [
    {
     "data": {
      "text/html": [
       "<div>\n",
       "<style scoped>\n",
       "    .dataframe tbody tr th:only-of-type {\n",
       "        vertical-align: middle;\n",
       "    }\n",
       "\n",
       "    .dataframe tbody tr th {\n",
       "        vertical-align: top;\n",
       "    }\n",
       "\n",
       "    .dataframe thead th {\n",
       "        text-align: right;\n",
       "    }\n",
       "</style>\n",
       "<table border=\"1\" class=\"dataframe\">\n",
       "  <thead>\n",
       "    <tr style=\"text-align: right;\">\n",
       "      <th></th>\n",
       "      <th>A</th>\n",
       "      <th>B</th>\n",
       "      <th>C</th>\n",
       "      <th>D</th>\n",
       "      <th>E</th>\n",
       "      <th>F</th>\n",
       "      <th>G</th>\n",
       "      <th>H</th>\n",
       "      <th>I</th>\n",
       "      <th>K</th>\n",
       "    </tr>\n",
       "  </thead>\n",
       "  <tbody>\n",
       "    <tr>\n",
       "      <th>1</th>\n",
       "      <td>0.076200</td>\n",
       "      <td>-0.566446</td>\n",
       "      <td>0.036142</td>\n",
       "      <td>-2.074978</td>\n",
       "      <td>0.247792</td>\n",
       "      <td>-0.897157</td>\n",
       "      <td>-0.136795</td>\n",
       "      <td>0.018289</td>\n",
       "      <td>0.755414</td>\n",
       "      <td>0.215269</td>\n",
       "    </tr>\n",
       "    <tr>\n",
       "      <th>2</th>\n",
       "      <td>0.841009</td>\n",
       "      <td>-1.445810</td>\n",
       "      <td>-1.401973</td>\n",
       "      <td>-0.100918</td>\n",
       "      <td>-0.548242</td>\n",
       "      <td>-0.144620</td>\n",
       "      <td>0.354020</td>\n",
       "      <td>-0.035513</td>\n",
       "      <td>0.565738</td>\n",
       "      <td>1.545659</td>\n",
       "    </tr>\n",
       "    <tr>\n",
       "      <th>3</th>\n",
       "      <td>-0.974236</td>\n",
       "      <td>-0.070345</td>\n",
       "      <td>0.307969</td>\n",
       "      <td>-0.208499</td>\n",
       "      <td>1.033801</td>\n",
       "      <td>-2.400454</td>\n",
       "      <td>2.030604</td>\n",
       "      <td>-1.142631</td>\n",
       "      <td>0.211883</td>\n",
       "      <td>0.704721</td>\n",
       "    </tr>\n",
       "    <tr>\n",
       "      <th>4</th>\n",
       "      <td>-0.785435</td>\n",
       "      <td>0.462060</td>\n",
       "      <td>0.704228</td>\n",
       "      <td>0.523508</td>\n",
       "      <td>-0.926254</td>\n",
       "      <td>2.007843</td>\n",
       "      <td>0.226963</td>\n",
       "      <td>-1.152659</td>\n",
       "      <td>0.631979</td>\n",
       "      <td>0.039513</td>\n",
       "    </tr>\n",
       "  </tbody>\n",
       "</table>\n",
       "</div>"
      ],
      "text/plain": [
       "          A         B         C         D         E         F         G  \\\n",
       "1  0.076200 -0.566446  0.036142 -2.074978  0.247792 -0.897157 -0.136795   \n",
       "2  0.841009 -1.445810 -1.401973 -0.100918 -0.548242 -0.144620  0.354020   \n",
       "3 -0.974236 -0.070345  0.307969 -0.208499  1.033801 -2.400454  2.030604   \n",
       "4 -0.785435  0.462060  0.704228  0.523508 -0.926254  2.007843  0.226963   \n",
       "\n",
       "          H         I         K  \n",
       "1  0.018289  0.755414  0.215269  \n",
       "2 -0.035513  0.565738  1.545659  \n",
       "3 -1.142631  0.211883  0.704721  \n",
       "4 -1.152659  0.631979  0.039513  "
      ]
     },
     "execution_count": 15,
     "metadata": {},
     "output_type": "execute_result"
    }
   ],
   "source": [
    "# turn the array into pandas dataframe\n",
    "df = pd.DataFrame(my_array,index=[1,2,3,4],columns= list(\"ABCDEFGHIK\"))\n",
    "df"
   ]
  },
  {
   "cell_type": "code",
   "execution_count": 19,
   "id": "a2905b30-d912-44cf-a586-8909863382ac",
   "metadata": {},
   "outputs": [
    {
     "data": {
      "text/html": [
       "<div>\n",
       "<style scoped>\n",
       "    .dataframe tbody tr th:only-of-type {\n",
       "        vertical-align: middle;\n",
       "    }\n",
       "\n",
       "    .dataframe tbody tr th {\n",
       "        vertical-align: top;\n",
       "    }\n",
       "\n",
       "    .dataframe thead th {\n",
       "        text-align: right;\n",
       "    }\n",
       "</style>\n",
       "<table border=\"1\" class=\"dataframe\">\n",
       "  <thead>\n",
       "    <tr style=\"text-align: right;\">\n",
       "      <th></th>\n",
       "      <th>1</th>\n",
       "      <th>2</th>\n",
       "      <th>3</th>\n",
       "      <th>4</th>\n",
       "    </tr>\n",
       "  </thead>\n",
       "  <tbody>\n",
       "    <tr>\n",
       "      <th>A</th>\n",
       "      <td>0.076200</td>\n",
       "      <td>0.841009</td>\n",
       "      <td>-0.974236</td>\n",
       "      <td>-0.785435</td>\n",
       "    </tr>\n",
       "    <tr>\n",
       "      <th>B</th>\n",
       "      <td>-0.566446</td>\n",
       "      <td>-1.445810</td>\n",
       "      <td>-0.070345</td>\n",
       "      <td>0.462060</td>\n",
       "    </tr>\n",
       "    <tr>\n",
       "      <th>C</th>\n",
       "      <td>0.036142</td>\n",
       "      <td>-1.401973</td>\n",
       "      <td>0.307969</td>\n",
       "      <td>0.704228</td>\n",
       "    </tr>\n",
       "    <tr>\n",
       "      <th>D</th>\n",
       "      <td>-2.074978</td>\n",
       "      <td>-0.100918</td>\n",
       "      <td>-0.208499</td>\n",
       "      <td>0.523508</td>\n",
       "    </tr>\n",
       "    <tr>\n",
       "      <th>E</th>\n",
       "      <td>0.247792</td>\n",
       "      <td>-0.548242</td>\n",
       "      <td>1.033801</td>\n",
       "      <td>-0.926254</td>\n",
       "    </tr>\n",
       "    <tr>\n",
       "      <th>F</th>\n",
       "      <td>-0.897157</td>\n",
       "      <td>-0.144620</td>\n",
       "      <td>-2.400454</td>\n",
       "      <td>2.007843</td>\n",
       "    </tr>\n",
       "    <tr>\n",
       "      <th>G</th>\n",
       "      <td>-0.136795</td>\n",
       "      <td>0.354020</td>\n",
       "      <td>2.030604</td>\n",
       "      <td>0.226963</td>\n",
       "    </tr>\n",
       "    <tr>\n",
       "      <th>H</th>\n",
       "      <td>0.018289</td>\n",
       "      <td>-0.035513</td>\n",
       "      <td>-1.142631</td>\n",
       "      <td>-1.152659</td>\n",
       "    </tr>\n",
       "    <tr>\n",
       "      <th>I</th>\n",
       "      <td>0.755414</td>\n",
       "      <td>0.565738</td>\n",
       "      <td>0.211883</td>\n",
       "      <td>0.631979</td>\n",
       "    </tr>\n",
       "    <tr>\n",
       "      <th>K</th>\n",
       "      <td>0.215269</td>\n",
       "      <td>1.545659</td>\n",
       "      <td>0.704721</td>\n",
       "      <td>0.039513</td>\n",
       "    </tr>\n",
       "  </tbody>\n",
       "</table>\n",
       "</div>"
      ],
      "text/plain": [
       "          1         2         3         4\n",
       "A  0.076200  0.841009 -0.974236 -0.785435\n",
       "B -0.566446 -1.445810 -0.070345  0.462060\n",
       "C  0.036142 -1.401973  0.307969  0.704228\n",
       "D -2.074978 -0.100918 -0.208499  0.523508\n",
       "E  0.247792 -0.548242  1.033801 -0.926254\n",
       "F -0.897157 -0.144620 -2.400454  2.007843\n",
       "G -0.136795  0.354020  2.030604  0.226963\n",
       "H  0.018289 -0.035513 -1.142631 -1.152659\n",
       "I  0.755414  0.565738  0.211883  0.631979\n",
       "K  0.215269  1.545659  0.704721  0.039513"
      ]
     },
     "execution_count": 19,
     "metadata": {},
     "output_type": "execute_result"
    }
   ],
   "source": [
    "# transpose / inversion of the dataframe\n",
    "df_t = df.T\n",
    "df_t"
   ]
  },
  {
   "cell_type": "markdown",
   "id": "0b56e334-ca0a-45b3-ae6d-307811d24527",
   "metadata": {},
   "source": [
    "#### Generating a RowSum"
   ]
  },
  {
   "cell_type": "code",
   "execution_count": 84,
   "id": "b0d07379-3229-4e02-83fe-f65e4d792f7f",
   "metadata": {},
   "outputs": [
    {
     "data": {
      "text/html": [
       "<div>\n",
       "<style scoped>\n",
       "    .dataframe tbody tr th:only-of-type {\n",
       "        vertical-align: middle;\n",
       "    }\n",
       "\n",
       "    .dataframe tbody tr th {\n",
       "        vertical-align: top;\n",
       "    }\n",
       "\n",
       "    .dataframe thead th {\n",
       "        text-align: right;\n",
       "    }\n",
       "</style>\n",
       "<table border=\"1\" class=\"dataframe\">\n",
       "  <thead>\n",
       "    <tr style=\"text-align: right;\">\n",
       "      <th></th>\n",
       "      <th>Kisumu</th>\n",
       "      <th>Nakuru</th>\n",
       "      <th>Embu</th>\n",
       "      <th>Nanyuki</th>\n",
       "      <th>RowSum</th>\n",
       "    </tr>\n",
       "  </thead>\n",
       "  <tbody>\n",
       "    <tr>\n",
       "      <th>A</th>\n",
       "      <td>0.076200</td>\n",
       "      <td>0.841009</td>\n",
       "      <td>-0.974236</td>\n",
       "      <td>-0.785435</td>\n",
       "      <td>-3.369853</td>\n",
       "    </tr>\n",
       "    <tr>\n",
       "      <th>B</th>\n",
       "      <td>-0.566446</td>\n",
       "      <td>-1.445810</td>\n",
       "      <td>-0.070345</td>\n",
       "      <td>0.462060</td>\n",
       "      <td>-6.482165</td>\n",
       "    </tr>\n",
       "    <tr>\n",
       "      <th>C</th>\n",
       "      <td>0.036142</td>\n",
       "      <td>-1.401973</td>\n",
       "      <td>0.307969</td>\n",
       "      <td>0.704228</td>\n",
       "      <td>-1.414537</td>\n",
       "    </tr>\n",
       "    <tr>\n",
       "      <th>D</th>\n",
       "      <td>-2.074978</td>\n",
       "      <td>-0.100918</td>\n",
       "      <td>-0.208499</td>\n",
       "      <td>0.523508</td>\n",
       "      <td>-7.443546</td>\n",
       "    </tr>\n",
       "    <tr>\n",
       "      <th>E</th>\n",
       "      <td>0.247792</td>\n",
       "      <td>-0.548242</td>\n",
       "      <td>1.033801</td>\n",
       "      <td>-0.926254</td>\n",
       "      <td>-0.771615</td>\n",
       "    </tr>\n",
       "    <tr>\n",
       "      <th>F</th>\n",
       "      <td>-0.897157</td>\n",
       "      <td>-0.144620</td>\n",
       "      <td>-2.400454</td>\n",
       "      <td>2.007843</td>\n",
       "      <td>-5.737548</td>\n",
       "    </tr>\n",
       "    <tr>\n",
       "      <th>G</th>\n",
       "      <td>-0.136795</td>\n",
       "      <td>0.354020</td>\n",
       "      <td>2.030604</td>\n",
       "      <td>0.226963</td>\n",
       "      <td>9.899167</td>\n",
       "    </tr>\n",
       "    <tr>\n",
       "      <th>H</th>\n",
       "      <td>0.018289</td>\n",
       "      <td>-0.035513</td>\n",
       "      <td>-1.142631</td>\n",
       "      <td>-1.152659</td>\n",
       "      <td>-9.250057</td>\n",
       "    </tr>\n",
       "    <tr>\n",
       "      <th>I</th>\n",
       "      <td>0.755414</td>\n",
       "      <td>0.565738</td>\n",
       "      <td>0.211883</td>\n",
       "      <td>0.631979</td>\n",
       "      <td>8.660060</td>\n",
       "    </tr>\n",
       "    <tr>\n",
       "      <th>K</th>\n",
       "      <td>0.215269</td>\n",
       "      <td>1.545659</td>\n",
       "      <td>0.704721</td>\n",
       "      <td>0.039513</td>\n",
       "      <td>10.020643</td>\n",
       "    </tr>\n",
       "  </tbody>\n",
       "</table>\n",
       "</div>"
      ],
      "text/plain": [
       "     Kisumu    Nakuru      Embu   Nanyuki     RowSum\n",
       "A  0.076200  0.841009 -0.974236 -0.785435  -3.369853\n",
       "B -0.566446 -1.445810 -0.070345  0.462060  -6.482165\n",
       "C  0.036142 -1.401973  0.307969  0.704228  -1.414537\n",
       "D -2.074978 -0.100918 -0.208499  0.523508  -7.443546\n",
       "E  0.247792 -0.548242  1.033801 -0.926254  -0.771615\n",
       "F -0.897157 -0.144620 -2.400454  2.007843  -5.737548\n",
       "G -0.136795  0.354020  2.030604  0.226963   9.899167\n",
       "H  0.018289 -0.035513 -1.142631 -1.152659  -9.250057\n",
       "I  0.755414  0.565738  0.211883  0.631979   8.660060\n",
       "K  0.215269  1.545659  0.704721  0.039513  10.020643"
      ]
     },
     "execution_count": 84,
     "metadata": {},
     "output_type": "execute_result"
    }
   ],
   "source": [
    "RowSum = df_t.sum(axis=1)\n",
    "df_t[\"RowSum\"] = RowSum\n",
    "df_t.rename(columns = {1:\"Kisumu\", 2:\"Nakuru\", 3:\"Embu\", 4:\"Nanyuki\"}, inplace = True)\n",
    "df_t"
   ]
  },
  {
   "cell_type": "code",
   "execution_count": 80,
   "id": "29cbf976-6212-45a4-8ad1-614ac403b10f",
   "metadata": {},
   "outputs": [
    {
     "data": {
      "text/plain": [
       "A    0.076200\n",
       "B   -0.566446\n",
       "C    0.036142\n",
       "D   -2.074978\n",
       "E    0.247792\n",
       "F   -0.897157\n",
       "G   -0.136795\n",
       "H    0.018289\n",
       "I    0.755414\n",
       "K    0.215269\n",
       "Name: Kisumu, dtype: float64"
      ]
     },
     "execution_count": 80,
     "metadata": {},
     "output_type": "execute_result"
    }
   ],
   "source": [
    "# slice of column\n",
    "col1_df = df_t[\"Kisumu\"]\n",
    "col1_df"
   ]
  },
  {
   "cell_type": "markdown",
   "id": "4e40790e-15f2-485c-8f49-1c39225df6fb",
   "metadata": {},
   "source": [
    "#### Pandas Plotting "
   ]
  },
  {
   "cell_type": "code",
   "execution_count": 69,
   "id": "3b999e74-e413-45a2-ab4f-2af87fcae2b8",
   "metadata": {},
   "outputs": [
    {
     "data": {
      "text/plain": [
       "<Axes: >"
      ]
     },
     "execution_count": 69,
     "metadata": {},
     "output_type": "execute_result"
    },
    {
     "data": {
      "image/png": "[encoded data removed]",
      "text/plain": [
       "<Figure size 640x480 with 1 Axes>"
      ]
     },
     "metadata": {},
     "output_type": "display_data"
    }
   ],
   "source": [
    "# bar plot of just one column\n",
    "col1_df.plot(kind = 'bar')"
   ]
  },
  {
   "cell_type": "code",
   "execution_count": 53,
   "id": "80f8c28d-965e-4ad4-985a-bbf23c105761",
   "metadata": {},
   "outputs": [
    {
     "data": {
      "text/plain": [
       "<Axes: >"
      ]
     },
     "execution_count": 53,
     "metadata": {},
     "output_type": "execute_result"
    },
    {
     "data": {
      "image/png": "[encoded data removed]",
      "text/plain": [
       "<Figure size 640x480 with 1 Axes>"
      ]
     },
     "metadata": {},
     "output_type": "display_data"
    }
   ],
   "source": [
    "# bar plot of just one column\n",
    "col1_df.plot(kind = 'barh')"
   ]
  },
  {
   "cell_type": "code",
   "execution_count": 40,
   "id": "0de776e8-e800-4387-ad65-e9c6bfb95bb0",
   "metadata": {},
   "outputs": [
    {
     "data": {
      "text/plain": [
       "<Axes: >"
      ]
     },
     "execution_count": 40,
     "metadata": {},
     "output_type": "execute_result"
    },
    {
     "data": {
      "image/png": "[encoded data removed]",
      "text/plain": [
       "<Figure size 640x480 with 1 Axes>"
      ]
     },
     "metadata": {},
     "output_type": "display_data"
    }
   ],
   "source": [
    "# bar plot\n",
    "df_t.plot(kind = 'bar')"
   ]
  },
  {
   "cell_type": "code",
   "execution_count": 86,
   "id": "4648ce4e-ceab-4fc3-b723-ac3b251398bf",
   "metadata": {},
   "outputs": [
    {
     "data": {
      "text/plain": [
       "<Axes: xlabel='Kisumu', ylabel='Nakuru'>"
      ]
     },
     "execution_count": 86,
     "metadata": {},
     "output_type": "execute_result"
    },
    {
     "data": {
      "image/png": "[encoded data removed]",
      "text/plain": [
       "<Figure size 640x480 with 1 Axes>"
      ]
     },
     "metadata": {},
     "output_type": "display_data"
    }
   ],
   "source": [
    "# scatter plot\n",
    "col2_df = df_t[[\"Kisumu\", \"Nakuru\"]]\n",
    "col2_df\n",
    "col2_df.plot(kind = 'scatter', x= \"Kisumu\", y=\"Nakuru\")"
   ]
  },
  {
   "cell_type": "code",
   "execution_count": null,
   "id": "282e89f2-53e7-4a13-ba13-ce0a5408d854",
   "metadata": {},
   "outputs": [],
   "source": [
    "# histogram\n",
    "\n",
    "# scatter plot\n",
    "\n",
    "# pie chart"
   ]
  }
 ],
 "metadata": {
  "kernelspec": {
   "display_name": "Python 3 (ipykernel)",
   "language": "python",
   "name": "python3"
  },
  "language_info": {
   "codemirror_mode": {
    "name": "ipython",
    "version": 3
   },
   "file_extension": ".py",
   "mimetype": "text/x-python",
   "name": "python",
   "nbconvert_exporter": "python",
   "pygments_lexer": "ipython3",
   "version": "3.11.7"
  }
 },
 "nbformat": 4,
 "nbformat_minor": 5
}
