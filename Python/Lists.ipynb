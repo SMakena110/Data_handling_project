{
 "cells": [
  {
   "cell_type": "markdown",
   "id": "5eb61bbe-550c-4757-b1ef-397b8ff13506",
   "metadata": {},
   "source": [
    "#### 1.CREATE A NEW OBJECT LIST"
   ]
  },
  {
   "cell_type": "code",
   "execution_count": 1,
   "id": "85ab7ae1-6c16-4c08-969d-17af0270197a",
   "metadata": {},
   "outputs": [],
   "source": [
    "my_fruit_basket = []"
   ]
  },
  {
   "cell_type": "raw",
   "id": "083f4b9f-c8a8-4e6e-b033-1c61b8f8f5a1",
   "metadata": {},
   "source": [
    "print(my_fruit_basket)"
   ]
  },
  {
   "cell_type": "markdown",
   "id": "dbc78aac-6ff5-4af4-b715-035cbd49cd7b",
   "metadata": {},
   "source": [
    "#### 2. Add Items To List Objects"
   ]
  },
  {
   "cell_type": "code",
   "execution_count": 2,
   "id": "5460f8eb-a8ad-4336-92fe-011f0abc127c",
   "metadata": {},
   "outputs": [],
   "source": [
    "my_fruit_basket.append(\"Oranges\")"
   ]
  },
  {
   "cell_type": "code",
   "execution_count": 3,
   "id": "b78c57b9-d8dc-4bf5-a2f0-0a90d234bf06",
   "metadata": {},
   "outputs": [
    {
     "name": "stdout",
     "output_type": "stream",
     "text": [
      "['Oranges']\n"
     ]
    }
   ],
   "source": [
    "print (my_fruit_basket)"
   ]
  },
  {
   "cell_type": "code",
   "execution_count": 4,
   "id": "f7fec7e2-ea4e-453a-8c28-af54aeda62d4",
   "metadata": {},
   "outputs": [],
   "source": [
    "my_fruit_basket.append (\"Lemons\")"
   ]
  },
  {
   "cell_type": "code",
   "execution_count": 5,
   "id": "bc5260eb-5fa8-4063-a6b5-3d4debda70ac",
   "metadata": {},
   "outputs": [
    {
     "name": "stdout",
     "output_type": "stream",
     "text": [
      "['Oranges', 'Lemons']\n"
     ]
    }
   ],
   "source": [
    "print (my_fruit_basket)"
   ]
  },
  {
   "cell_type": "code",
   "execution_count": 6,
   "id": "ba1a87be-ed46-4171-9ac0-94dd60a82d5d",
   "metadata": {},
   "outputs": [],
   "source": [
    "my_fruit_basket.append([\"ground_nuts\",\"seseme_seeds\",\"peas\"])"
   ]
  },
  {
   "cell_type": "code",
   "execution_count": 7,
   "id": "cc9d5b0b-14f7-4d7a-87c6-ddf1edbfad78",
   "metadata": {},
   "outputs": [
    {
     "name": "stdout",
     "output_type": "stream",
     "text": [
      "['Oranges', 'Lemons', ['ground_nuts', 'seseme_seeds', 'peas']]\n"
     ]
    }
   ],
   "source": [
    "print(my_fruit_basket)"
   ]
  },
  {
   "cell_type": "markdown",
   "id": "618457f5-b588-4191-ad3b-2080a5cc3eef",
   "metadata": {},
   "source": [
    "#### 3. Pick an Item From The List"
   ]
  },
  {
   "cell_type": "code",
   "execution_count": 8,
   "id": "0fa0297d-b67f-44ce-a5c7-efa1582e2fae",
   "metadata": {},
   "outputs": [
    {
     "data": {
      "text/plain": [
       "'Oranges'"
      ]
     },
     "execution_count": 8,
     "metadata": {},
     "output_type": "execute_result"
    }
   ],
   "source": [
    "my_fruit_basket [0]"
   ]
  },
  {
   "cell_type": "code",
   "execution_count": 9,
   "id": "0436d7d2-e3d8-44bb-aade-85f2378a7e15",
   "metadata": {},
   "outputs": [
    {
     "data": {
      "text/plain": [
       "'Lemons'"
      ]
     },
     "execution_count": 9,
     "metadata": {},
     "output_type": "execute_result"
    }
   ],
   "source": [
    "my_fruit_basket [1]"
   ]
  },
  {
   "cell_type": "code",
   "execution_count": 10,
   "id": "52bfe51d-2f10-4a1a-bee4-2ef7772d3f26",
   "metadata": {},
   "outputs": [
    {
     "data": {
      "text/plain": [
       "['ground_nuts', 'seseme_seeds', 'peas']"
      ]
     },
     "execution_count": 10,
     "metadata": {},
     "output_type": "execute_result"
    }
   ],
   "source": [
    "my_fruit_basket [2]"
   ]
  },
  {
   "cell_type": "markdown",
   "id": "817630ac-233a-4885-9d03-469081597423",
   "metadata": {},
   "source": [
    "#### 4. Remove an Item from The List"
   ]
  },
  {
   "cell_type": "markdown",
   "id": "27232487-4ff4-4363-92d8-e645c8a763f6",
   "metadata": {},
   "source": [
    "To remove an item from the list, you must know the index number of the item"
   ]
  },
  {
   "cell_type": "code",
   "execution_count": 11,
   "id": "7d4f1e5a-335f-4b7f-a1a3-6e1ea1496355",
   "metadata": {},
   "outputs": [
    {
     "data": {
      "text/plain": [
       "'Oranges'"
      ]
     },
     "execution_count": 11,
     "metadata": {},
     "output_type": "execute_result"
    }
   ],
   "source": [
    "my_fruit_basket.pop(0)"
   ]
  },
  {
   "cell_type": "markdown",
   "id": "52d8ebb4-23f0-43b7-a84d-98fa6d8ae5f5",
   "metadata": {},
   "source": [
    "#### 5. Join Two or More Lists"
   ]
  },
  {
   "cell_type": "code",
   "execution_count": 12,
   "id": "b59e7712-16f1-4f49-8151-bb01623a694c",
   "metadata": {},
   "outputs": [],
   "source": [
    "List_1 = \"Mangoes\",\"Oranges\""
   ]
  },
  {
   "cell_type": "code",
   "execution_count": 13,
   "id": "dfe7cf1f-c52c-459d-ac68-d74d02a36c57",
   "metadata": {},
   "outputs": [],
   "source": [
    "List_2 = \"Cacao\", \"Lemons\""
   ]
  },
  {
   "cell_type": "code",
   "execution_count": 14,
   "id": "7f4946ac-fa55-4383-a8ab-22da8ad2736c",
   "metadata": {},
   "outputs": [],
   "source": [
    "List_3 = List_1 + List_2 "
   ]
  },
  {
   "cell_type": "code",
   "execution_count": 15,
   "id": "0a673c00-9ec9-421d-bd38-803075cf72f2",
   "metadata": {},
   "outputs": [
    {
     "data": {
      "text/plain": [
       "('Mangoes', 'Oranges', 'Cacao', 'Lemons')"
      ]
     },
     "execution_count": 15,
     "metadata": {},
     "output_type": "execute_result"
    }
   ],
   "source": [
    "List_3"
   ]
  },
  {
   "cell_type": "markdown",
   "id": "e91755fe-7f6a-4be0-8b7f-08208cd67492",
   "metadata": {},
   "source": [
    "Method 2"
   ]
  },
  {
   "cell_type": "code",
   "execution_count": 16,
   "id": "516ebd7a-6584-4668-aa4f-4060f77cbd3a",
   "metadata": {},
   "outputs": [
    {
     "ename": "AttributeError",
     "evalue": "'tuple' object has no attribute 'extend'",
     "output_type": "error",
     "traceback": [
      "\u001b[1;31m---------------------------------------------------------------------------\u001b[0m",
      "\u001b[1;31mAttributeError\u001b[0m                            Traceback (most recent call last)",
      "Cell \u001b[1;32mIn[16], line 1\u001b[0m\n\u001b[1;32m----> 1\u001b[0m List_1\u001b[38;5;241m.\u001b[39mextend(List_2)\n",
      "\u001b[1;31mAttributeError\u001b[0m: 'tuple' object has no attribute 'extend'"
     ]
    }
   ],
   "source": [
    "List_1.extend(List_2)"
   ]
  },
  {
   "cell_type": "code",
   "execution_count": null,
   "id": "b5ff820c-ae6d-4e26-a3d2-f4f14557f35b",
   "metadata": {},
   "outputs": [],
   "source": [
    "List_3"
   ]
  },
  {
   "cell_type": "code",
   "execution_count": null,
   "id": "0ebd14f4-de48-4f59-a860-6847b8989886",
   "metadata": {},
   "outputs": [],
   "source": []
  }
 ],
 "metadata": {
  "kernelspec": {
   "display_name": "Python 3 (ipykernel)",
   "language": "python",
   "name": "python3"
  },
  "language_info": {
   "codemirror_mode": {
    "name": "ipython",
    "version": 3
   },
   "file_extension": ".py",
   "mimetype": "text/x-python",
   "name": "python",
   "nbconvert_exporter": "python",
   "pygments_lexer": "ipython3",
   "version": "3.11.7"
  }
 },
 "nbformat": 4,
 "nbformat_minor": 5
}
