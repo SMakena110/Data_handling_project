{
 "cells": [
  {
   "cell_type": "markdown",
   "id": "c8fb29d4-cbee-411d-a92e-476a9c310cb8",
   "metadata": {},
   "source": [
    "#### PANDAS DATAFRAMES"
   ]
  },
  {
   "cell_type": "markdown",
   "id": "a17aace7-43c4-4d29-9b86-f3112ae5e546",
   "metadata": {},
   "source": [
    "#### 1. How to create a Table (dataframe)"
   ]
  },
  {
   "cell_type": "code",
   "execution_count": 3,
   "id": "0b139bb4-c536-40f6-91f4-b21127b0d6b5",
   "metadata": {},
   "outputs": [],
   "source": [
    "# 1. Import the necesarry library\n",
    "import pandas as pd"
   ]
  },
  {
   "cell_type": "code",
   "execution_count": 4,
   "id": "251ba199-bb3a-48ee-83c4-61cef00abed5",
   "metadata": {},
   "outputs": [
    {
     "data": {
      "text/html": [
       "<div>\n",
       "<style scoped>\n",
       "    .dataframe tbody tr th:only-of-type {\n",
       "        vertical-align: middle;\n",
       "    }\n",
       "\n",
       "    .dataframe tbody tr th {\n",
       "        vertical-align: top;\n",
       "    }\n",
       "\n",
       "    .dataframe thead th {\n",
       "        text-align: right;\n",
       "    }\n",
       "</style>\n",
       "<table border=\"1\" class=\"dataframe\">\n",
       "  <thead>\n",
       "    <tr style=\"text-align: right;\">\n",
       "      <th></th>\n",
       "    </tr>\n",
       "  </thead>\n",
       "  <tbody>\n",
       "  </tbody>\n",
       "</table>\n",
       "</div>"
      ],
      "text/plain": [
       "Empty DataFrame\n",
       "Columns: []\n",
       "Index: []"
      ]
     },
     "execution_count": 4,
     "metadata": {},
     "output_type": "execute_result"
    }
   ],
   "source": [
    "# How to initialize an empty dataframe in an Table\n",
    "df = pd.DataFrame()\n",
    "df"
   ]
  },
  {
   "cell_type": "markdown",
   "id": "37f6778f-2d77-4e06-90e9-a5fb03387d80",
   "metadata": {},
   "source": [
    "#### 2. How to create a dataframe from a list(s)"
   ]
  },
  {
   "cell_type": "code",
   "execution_count": 6,
   "id": "f833e4ac-ac54-48ed-9329-4147cf111870",
   "metadata": {},
   "outputs": [],
   "source": [
    "A_list = [112,124,162,106,137,168]"
   ]
  },
  {
   "cell_type": "code",
   "execution_count": 7,
   "id": "bb9b6615-1555-4d17-9251-f6f046cd8632",
   "metadata": {},
   "outputs": [],
   "source": [
    "df1 = pd.DataFrame(A_list)"
   ]
  },
  {
   "cell_type": "code",
   "execution_count": 8,
   "id": "c571ee06-4ab7-4f91-acaa-261853dc74a6",
   "metadata": {},
   "outputs": [
    {
     "data": {
      "text/html": [
       "<div>\n",
       "<style scoped>\n",
       "    .dataframe tbody tr th:only-of-type {\n",
       "        vertical-align: middle;\n",
       "    }\n",
       "\n",
       "    .dataframe tbody tr th {\n",
       "        vertical-align: top;\n",
       "    }\n",
       "\n",
       "    .dataframe thead th {\n",
       "        text-align: right;\n",
       "    }\n",
       "</style>\n",
       "<table border=\"1\" class=\"dataframe\">\n",
       "  <thead>\n",
       "    <tr style=\"text-align: right;\">\n",
       "      <th></th>\n",
       "      <th>0</th>\n",
       "    </tr>\n",
       "  </thead>\n",
       "  <tbody>\n",
       "    <tr>\n",
       "      <th>0</th>\n",
       "      <td>112</td>\n",
       "    </tr>\n",
       "    <tr>\n",
       "      <th>1</th>\n",
       "      <td>124</td>\n",
       "    </tr>\n",
       "    <tr>\n",
       "      <th>2</th>\n",
       "      <td>162</td>\n",
       "    </tr>\n",
       "    <tr>\n",
       "      <th>3</th>\n",
       "      <td>106</td>\n",
       "    </tr>\n",
       "    <tr>\n",
       "      <th>4</th>\n",
       "      <td>137</td>\n",
       "    </tr>\n",
       "    <tr>\n",
       "      <th>5</th>\n",
       "      <td>168</td>\n",
       "    </tr>\n",
       "  </tbody>\n",
       "</table>\n",
       "</div>"
      ],
      "text/plain": [
       "     0\n",
       "0  112\n",
       "1  124\n",
       "2  162\n",
       "3  106\n",
       "4  137\n",
       "5  168"
      ]
     },
     "execution_count": 8,
     "metadata": {},
     "output_type": "execute_result"
    }
   ],
   "source": [
    "df1"
   ]
  },
  {
   "cell_type": "markdown",
   "id": "785a6244-e24f-4949-a165-f60c3f753441",
   "metadata": {},
   "source": [
    "#### 3. add column to label to a dataframe"
   ]
  },
  {
   "cell_type": "code",
   "execution_count": 10,
   "id": "e2ca9ffc-d3ca-4ddf-91e6-3feea4b63840",
   "metadata": {},
   "outputs": [
    {
     "data": {
      "text/html": [
       "<div>\n",
       "<style scoped>\n",
       "    .dataframe tbody tr th:only-of-type {\n",
       "        vertical-align: middle;\n",
       "    }\n",
       "\n",
       "    .dataframe tbody tr th {\n",
       "        vertical-align: top;\n",
       "    }\n",
       "\n",
       "    .dataframe thead th {\n",
       "        text-align: right;\n",
       "    }\n",
       "</style>\n",
       "<table border=\"1\" class=\"dataframe\">\n",
       "  <thead>\n",
       "    <tr style=\"text-align: right;\">\n",
       "      <th></th>\n",
       "      <th>Total</th>\n",
       "    </tr>\n",
       "  </thead>\n",
       "  <tbody>\n",
       "    <tr>\n",
       "      <th>0</th>\n",
       "      <td>112</td>\n",
       "    </tr>\n",
       "    <tr>\n",
       "      <th>1</th>\n",
       "      <td>124</td>\n",
       "    </tr>\n",
       "    <tr>\n",
       "      <th>2</th>\n",
       "      <td>162</td>\n",
       "    </tr>\n",
       "    <tr>\n",
       "      <th>3</th>\n",
       "      <td>106</td>\n",
       "    </tr>\n",
       "    <tr>\n",
       "      <th>4</th>\n",
       "      <td>137</td>\n",
       "    </tr>\n",
       "    <tr>\n",
       "      <th>5</th>\n",
       "      <td>168</td>\n",
       "    </tr>\n",
       "  </tbody>\n",
       "</table>\n",
       "</div>"
      ],
      "text/plain": [
       "   Total\n",
       "0    112\n",
       "1    124\n",
       "2    162\n",
       "3    106\n",
       "4    137\n",
       "5    168"
      ]
     },
     "execution_count": 10,
     "metadata": {},
     "output_type": "execute_result"
    }
   ],
   "source": [
    "df2 = pd.DataFrame(A_list, columns = ['Total'])\n",
    "df2"
   ]
  },
  {
   "cell_type": "code",
   "execution_count": 11,
   "id": "533f13d5-7463-4b97-a0e2-3a4eae0f2c8d",
   "metadata": {},
   "outputs": [
    {
     "data": {
      "text/html": [
       "<div>\n",
       "<style scoped>\n",
       "    .dataframe tbody tr th:only-of-type {\n",
       "        vertical-align: middle;\n",
       "    }\n",
       "\n",
       "    .dataframe tbody tr th {\n",
       "        vertical-align: top;\n",
       "    }\n",
       "\n",
       "    .dataframe thead th {\n",
       "        text-align: right;\n",
       "    }\n",
       "</style>\n",
       "<table border=\"1\" class=\"dataframe\">\n",
       "  <thead>\n",
       "    <tr style=\"text-align: right;\">\n",
       "      <th></th>\n",
       "      <th>First_name</th>\n",
       "      <th>Age</th>\n",
       "      <th>Marital_status</th>\n",
       "      <th>Gender</th>\n",
       "    </tr>\n",
       "  </thead>\n",
       "  <tbody>\n",
       "    <tr>\n",
       "      <th>0</th>\n",
       "      <td>Victor</td>\n",
       "      <td>25</td>\n",
       "      <td>Single</td>\n",
       "      <td>Male</td>\n",
       "    </tr>\n",
       "    <tr>\n",
       "      <th>1</th>\n",
       "      <td>Martin</td>\n",
       "      <td>26</td>\n",
       "      <td>Married</td>\n",
       "      <td>Male</td>\n",
       "    </tr>\n",
       "    <tr>\n",
       "      <th>2</th>\n",
       "      <td>Linda</td>\n",
       "      <td>19</td>\n",
       "      <td>Maried</td>\n",
       "      <td>Female</td>\n",
       "    </tr>\n",
       "  </tbody>\n",
       "</table>\n",
       "</div>"
      ],
      "text/plain": [
       "  First_name  Age Marital_status  Gender\n",
       "0     Victor   25         Single    Male\n",
       "1     Martin   26        Married    Male\n",
       "2      Linda   19         Maried  Female"
      ]
     },
     "execution_count": 11,
     "metadata": {},
     "output_type": "execute_result"
    }
   ],
   "source": [
    "students = [['Victor', 25, 'Single','Male'],['Martin',26,'Married','Male'],['Linda',19,'Maried','Female']]\n",
    "students_df = pd.DataFrame(students, columns = ['First_name','Age','Marital_status','Gender'])\n",
    "students_df"
   ]
  },
  {
   "cell_type": "markdown",
   "id": "6c24db2f-bb5f-420c-80b2-b1ab2c76d281",
   "metadata": {},
   "source": [
    "#### 4. How to retrieve a column from a DataFrame"
   ]
  },
  {
   "cell_type": "code",
   "execution_count": 13,
   "id": "ae54ab86-abd3-4d3f-b945-646c7df0f6b4",
   "metadata": {},
   "outputs": [
    {
     "data": {
      "text/plain": [
       "0      Male\n",
       "1      Male\n",
       "2    Female\n",
       "Name: Gender, dtype: object"
      ]
     },
     "execution_count": 13,
     "metadata": {},
     "output_type": "execute_result"
    }
   ],
   "source": [
    "students_df['Gender']"
   ]
  },
  {
   "cell_type": "markdown",
   "id": "10bbbcbb-ca60-408f-8033-886722b51f7e",
   "metadata": {},
   "source": [
    "#### 5. How to retrieve multiple columns from a DataFrame"
   ]
  },
  {
   "cell_type": "code",
   "execution_count": 15,
   "id": "304803d4-e6ff-4e30-99be-82b31b51505d",
   "metadata": {},
   "outputs": [
    {
     "data": {
      "text/html": [
       "<div>\n",
       "<style scoped>\n",
       "    .dataframe tbody tr th:only-of-type {\n",
       "        vertical-align: middle;\n",
       "    }\n",
       "\n",
       "    .dataframe tbody tr th {\n",
       "        vertical-align: top;\n",
       "    }\n",
       "\n",
       "    .dataframe thead th {\n",
       "        text-align: right;\n",
       "    }\n",
       "</style>\n",
       "<table border=\"1\" class=\"dataframe\">\n",
       "  <thead>\n",
       "    <tr style=\"text-align: right;\">\n",
       "      <th></th>\n",
       "      <th>Marital_status</th>\n",
       "      <th>Age</th>\n",
       "      <th>Gender</th>\n",
       "    </tr>\n",
       "  </thead>\n",
       "  <tbody>\n",
       "    <tr>\n",
       "      <th>0</th>\n",
       "      <td>Single</td>\n",
       "      <td>25</td>\n",
       "      <td>Male</td>\n",
       "    </tr>\n",
       "    <tr>\n",
       "      <th>1</th>\n",
       "      <td>Married</td>\n",
       "      <td>26</td>\n",
       "      <td>Male</td>\n",
       "    </tr>\n",
       "    <tr>\n",
       "      <th>2</th>\n",
       "      <td>Maried</td>\n",
       "      <td>19</td>\n",
       "      <td>Female</td>\n",
       "    </tr>\n",
       "  </tbody>\n",
       "</table>\n",
       "</div>"
      ],
      "text/plain": [
       "  Marital_status  Age  Gender\n",
       "0         Single   25    Male\n",
       "1        Married   26    Male\n",
       "2         Maried   19  Female"
      ]
     },
     "execution_count": 15,
     "metadata": {},
     "output_type": "execute_result"
    }
   ],
   "source": [
    "students_df[['Marital_status','Age','Gender']]"
   ]
  },
  {
   "cell_type": "markdown",
   "id": "63a51731-0f9b-41a7-980a-b6e0c6a28afd",
   "metadata": {},
   "source": [
    "#### 5. How to retrieve the table headers/column name"
   ]
  },
  {
   "cell_type": "code",
   "execution_count": 17,
   "id": "e82925dc-6721-498f-bd84-ea9e6b07525e",
   "metadata": {},
   "outputs": [
    {
     "data": {
      "text/plain": [
       "Index(['First_name', 'Age', 'Marital_status', 'Gender'], dtype='object')"
      ]
     },
     "execution_count": 17,
     "metadata": {},
     "output_type": "execute_result"
    }
   ],
   "source": [
    "students_df.columns"
   ]
  },
  {
   "cell_type": "code",
   "execution_count": 18,
   "id": "6dc8e24a-082b-4dd4-a276-39c9d027ffbd",
   "metadata": {},
   "outputs": [],
   "source": [
    "new_column_name = ['Name','How_old?','Married','Sex']\n",
    "students_df.columns = new_column_name"
   ]
  },
  {
   "cell_type": "code",
   "execution_count": 19,
   "id": "708e3f18-930a-4e58-8045-393df5a05ab4",
   "metadata": {},
   "outputs": [
    {
     "data": {
      "text/html": [
       "<div>\n",
       "<style scoped>\n",
       "    .dataframe tbody tr th:only-of-type {\n",
       "        vertical-align: middle;\n",
       "    }\n",
       "\n",
       "    .dataframe tbody tr th {\n",
       "        vertical-align: top;\n",
       "    }\n",
       "\n",
       "    .dataframe thead th {\n",
       "        text-align: right;\n",
       "    }\n",
       "</style>\n",
       "<table border=\"1\" class=\"dataframe\">\n",
       "  <thead>\n",
       "    <tr style=\"text-align: right;\">\n",
       "      <th></th>\n",
       "      <th>Name</th>\n",
       "      <th>How_old?</th>\n",
       "      <th>Married</th>\n",
       "      <th>Sex</th>\n",
       "    </tr>\n",
       "  </thead>\n",
       "  <tbody>\n",
       "    <tr>\n",
       "      <th>0</th>\n",
       "      <td>Victor</td>\n",
       "      <td>25</td>\n",
       "      <td>Single</td>\n",
       "      <td>Male</td>\n",
       "    </tr>\n",
       "    <tr>\n",
       "      <th>1</th>\n",
       "      <td>Martin</td>\n",
       "      <td>26</td>\n",
       "      <td>Married</td>\n",
       "      <td>Male</td>\n",
       "    </tr>\n",
       "    <tr>\n",
       "      <th>2</th>\n",
       "      <td>Linda</td>\n",
       "      <td>19</td>\n",
       "      <td>Maried</td>\n",
       "      <td>Female</td>\n",
       "    </tr>\n",
       "  </tbody>\n",
       "</table>\n",
       "</div>"
      ],
      "text/plain": [
       "     Name  How_old?  Married     Sex\n",
       "0  Victor        25   Single    Male\n",
       "1  Martin        26  Married    Male\n",
       "2   Linda        19   Maried  Female"
      ]
     },
     "execution_count": 19,
     "metadata": {},
     "output_type": "execute_result"
    }
   ],
   "source": [
    "students_df"
   ]
  },
  {
   "cell_type": "code",
   "execution_count": 20,
   "id": "d812fd32-90f8-4dd6-b828-7f425e6787db",
   "metadata": {},
   "outputs": [],
   "source": [
    "Linda = ['Linda','19','Maried','Female']"
   ]
  },
  {
   "cell_type": "code",
   "execution_count": 21,
   "id": "c06e7b07-3400-48aa-aaba-eda7df3a579c",
   "metadata": {},
   "outputs": [
    {
     "data": {
      "text/plain": [
       "['Linda', 34, 'Maried', 'Female']"
      ]
     },
     "execution_count": 21,
     "metadata": {},
     "output_type": "execute_result"
    }
   ],
   "source": [
    "Linda[1] = 34\n",
    "Linda"
   ]
  },
  {
   "cell_type": "code",
   "execution_count": 22,
   "id": "19003091-4d89-42e6-9886-c93569f3b9ca",
   "metadata": {},
   "outputs": [
    {
     "data": {
      "text/plain": [
       "['Linda', 34, 'Maried', 'Banker', 'Female']"
      ]
     },
     "execution_count": 22,
     "metadata": {},
     "output_type": "execute_result"
    }
   ],
   "source": [
    "# insert a record in a specific position in a list object\n",
    "Linda.insert(-1,'Banker')\n",
    "Linda"
   ]
  },
  {
   "cell_type": "code",
   "execution_count": 23,
   "id": "3bffb7f7-01c5-4794-8bc4-e4a01f5b7fe9",
   "metadata": {},
   "outputs": [
    {
     "data": {
      "text/plain": [
       "['Linda', 34, 'Maried']"
      ]
     },
     "execution_count": 23,
     "metadata": {},
     "output_type": "execute_result"
    }
   ],
   "source": [
    "Linda[:3]"
   ]
  },
  {
   "cell_type": "markdown",
   "id": "4c7c4546-cf72-40c8-8ee5-f04d4be6b86c",
   "metadata": {},
   "source": [
    "#Read the first 2 rows"
   ]
  },
  {
   "cell_type": "code",
   "execution_count": 25,
   "id": "b2a3e057-8cc2-4614-a8d5-d8799d391dbd",
   "metadata": {},
   "outputs": [
    {
     "data": {
      "text/html": [
       "<div>\n",
       "<style scoped>\n",
       "    .dataframe tbody tr th:only-of-type {\n",
       "        vertical-align: middle;\n",
       "    }\n",
       "\n",
       "    .dataframe tbody tr th {\n",
       "        vertical-align: top;\n",
       "    }\n",
       "\n",
       "    .dataframe thead th {\n",
       "        text-align: right;\n",
       "    }\n",
       "</style>\n",
       "<table border=\"1\" class=\"dataframe\">\n",
       "  <thead>\n",
       "    <tr style=\"text-align: right;\">\n",
       "      <th></th>\n",
       "      <th>Name</th>\n",
       "      <th>How_old?</th>\n",
       "      <th>Married</th>\n",
       "      <th>Sex</th>\n",
       "    </tr>\n",
       "  </thead>\n",
       "  <tbody>\n",
       "    <tr>\n",
       "      <th>0</th>\n",
       "      <td>Victor</td>\n",
       "      <td>25</td>\n",
       "      <td>Single</td>\n",
       "      <td>Male</td>\n",
       "    </tr>\n",
       "    <tr>\n",
       "      <th>1</th>\n",
       "      <td>Martin</td>\n",
       "      <td>26</td>\n",
       "      <td>Married</td>\n",
       "      <td>Male</td>\n",
       "    </tr>\n",
       "  </tbody>\n",
       "</table>\n",
       "</div>"
      ],
      "text/plain": [
       "     Name  How_old?  Married   Sex\n",
       "0  Victor        25   Single  Male\n",
       "1  Martin        26  Married  Male"
      ]
     },
     "execution_count": 25,
     "metadata": {},
     "output_type": "execute_result"
    }
   ],
   "source": [
    "#Method 1 using head method\n",
    "students_df.head(2)"
   ]
  },
  {
   "cell_type": "code",
   "execution_count": 26,
   "id": "b1056fa7-94ac-4f7a-9e38-bb0d635e427e",
   "metadata": {},
   "outputs": [
    {
     "data": {
      "text/html": [
       "<div>\n",
       "<style scoped>\n",
       "    .dataframe tbody tr th:only-of-type {\n",
       "        vertical-align: middle;\n",
       "    }\n",
       "\n",
       "    .dataframe tbody tr th {\n",
       "        vertical-align: top;\n",
       "    }\n",
       "\n",
       "    .dataframe thead th {\n",
       "        text-align: right;\n",
       "    }\n",
       "</style>\n",
       "<table border=\"1\" class=\"dataframe\">\n",
       "  <thead>\n",
       "    <tr style=\"text-align: right;\">\n",
       "      <th></th>\n",
       "      <th>Name</th>\n",
       "      <th>How_old?</th>\n",
       "    </tr>\n",
       "  </thead>\n",
       "  <tbody>\n",
       "    <tr>\n",
       "      <th>0</th>\n",
       "      <td>Victor</td>\n",
       "      <td>25</td>\n",
       "    </tr>\n",
       "    <tr>\n",
       "      <th>1</th>\n",
       "      <td>Martin</td>\n",
       "      <td>26</td>\n",
       "    </tr>\n",
       "  </tbody>\n",
       "</table>\n",
       "</div>"
      ],
      "text/plain": [
       "     Name  How_old?\n",
       "0  Victor        25\n",
       "1  Martin        26"
      ]
     },
     "execution_count": 26,
     "metadata": {},
     "output_type": "execute_result"
    }
   ],
   "source": [
    "#Method 2 using index position (row:column) iloc(index location)\n",
    "students_df.iloc[:2,:2]"
   ]
  },
  {
   "cell_type": "code",
   "execution_count": 27,
   "id": "575e2f93-ee75-4dd9-9343-d3506df7a7dd",
   "metadata": {},
   "outputs": [
    {
     "data": {
      "text/html": [
       "<div>\n",
       "<style scoped>\n",
       "    .dataframe tbody tr th:only-of-type {\n",
       "        vertical-align: middle;\n",
       "    }\n",
       "\n",
       "    .dataframe tbody tr th {\n",
       "        vertical-align: top;\n",
       "    }\n",
       "\n",
       "    .dataframe thead th {\n",
       "        text-align: right;\n",
       "    }\n",
       "</style>\n",
       "<table border=\"1\" class=\"dataframe\">\n",
       "  <thead>\n",
       "    <tr style=\"text-align: right;\">\n",
       "      <th></th>\n",
       "      <th>Name</th>\n",
       "      <th>How_old?</th>\n",
       "      <th>Married</th>\n",
       "      <th>Sex</th>\n",
       "    </tr>\n",
       "  </thead>\n",
       "  <tbody>\n",
       "    <tr>\n",
       "      <th>1</th>\n",
       "      <td>Martin</td>\n",
       "      <td>26</td>\n",
       "      <td>Married</td>\n",
       "      <td>Male</td>\n",
       "    </tr>\n",
       "    <tr>\n",
       "      <th>2</th>\n",
       "      <td>Linda</td>\n",
       "      <td>19</td>\n",
       "      <td>Maried</td>\n",
       "      <td>Female</td>\n",
       "    </tr>\n",
       "  </tbody>\n",
       "</table>\n",
       "</div>"
      ],
      "text/plain": [
       "     Name  How_old?  Married     Sex\n",
       "1  Martin        26  Married    Male\n",
       "2   Linda        19   Maried  Female"
      ]
     },
     "execution_count": 27,
     "metadata": {},
     "output_type": "execute_result"
    }
   ],
   "source": [
    "students_df.tail(2)"
   ]
  },
  {
   "cell_type": "markdown",
   "id": "fba586e1-d2fb-49c7-9604-e66522100d33",
   "metadata": {},
   "source": [
    "### Dictionaries"
   ]
  },
  {
   "cell_type": "code",
   "execution_count": 29,
   "id": "75db35c2-51db-4385-b02d-d68f943e3397",
   "metadata": {},
   "outputs": [],
   "source": [
    " # Dictionaries are key value pairs- every object has a key and a value"
   ]
  },
  {
   "cell_type": "markdown",
   "id": "e3033733-11bb-4d1a-940a-4d9c4b164161",
   "metadata": {},
   "source": [
    " How to create a Dictionary"
   ]
  },
  {
   "cell_type": "code",
   "execution_count": 31,
   "id": "751e57e3-95ae-4424-8d46-b7a4c313cb97",
   "metadata": {},
   "outputs": [
    {
     "data": {
      "text/plain": [
       "['Linda', 34, 'Maried', 'Banker', 'Female']"
      ]
     },
     "execution_count": 31,
     "metadata": {},
     "output_type": "execute_result"
    }
   ],
   "source": [
    "Linda"
   ]
  },
  {
   "cell_type": "code",
   "execution_count": 32,
   "id": "f40ba233-e88b-4151-b22d-2545bd44d168",
   "metadata": {},
   "outputs": [
    {
     "data": {
      "text/plain": [
       "{34, 'Banker', 'Female', 'Linda', 'Maried'}"
      ]
     },
     "execution_count": 32,
     "metadata": {},
     "output_type": "execute_result"
    }
   ],
   "source": [
    "unique_Linda = set(Linda)\n",
    "unique_Linda"
   ]
  },
  {
   "cell_type": "code",
   "execution_count": 33,
   "id": "8aaa5026-0639-4ce2-b1e4-8181187eebf4",
   "metadata": {},
   "outputs": [],
   "source": [
    "Linda_the_dictionary ={'Age': 19,'Occupation': 'Banker','Gender':'Female','First_name': 'Linda','Marital_Status':'Married'}"
   ]
  },
  {
   "cell_type": "code",
   "execution_count": 34,
   "id": "d211ad79-4ce7-4291-9376-ad42853b0c0b",
   "metadata": {},
   "outputs": [
    {
     "data": {
      "text/plain": [
       "{'Age': 19,\n",
       " 'Occupation': 'Banker',\n",
       " 'Gender': 'Female',\n",
       " 'First_name': 'Linda',\n",
       " 'Marital_Status': 'Married'}"
      ]
     },
     "execution_count": 34,
     "metadata": {},
     "output_type": "execute_result"
    }
   ],
   "source": [
    "Linda_the_dictionary"
   ]
  },
  {
   "cell_type": "code",
   "execution_count": 35,
   "id": "f0111848-89e8-4b92-bc69-47a2516b2931",
   "metadata": {},
   "outputs": [
    {
     "data": {
      "text/plain": [
       "dict"
      ]
     },
     "execution_count": 35,
     "metadata": {},
     "output_type": "execute_result"
    }
   ],
   "source": [
    "type(Linda_the_dictionary)"
   ]
  },
  {
   "cell_type": "code",
   "execution_count": 36,
   "id": "094dbc95-dfb4-47fe-8006-d0c42ffbbc18",
   "metadata": {},
   "outputs": [
    {
     "data": {
      "text/plain": [
       "[['Victor', 25, 'Single', 'Male'],\n",
       " ['Martin', 26, 'Married', 'Male'],\n",
       " ['Linda', 19, 'Maried', 'Female']]"
      ]
     },
     "execution_count": 36,
     "metadata": {},
     "output_type": "execute_result"
    }
   ],
   "source": [
    "students "
   ]
  },
  {
   "cell_type": "code",
   "execution_count": 37,
   "id": "8fd63dd4-1ac8-41e3-acdf-a12e7e1c817c",
   "metadata": {},
   "outputs": [
    {
     "data": {
      "text/plain": [
       "{'Name': 'Victor', 'Age': '25', 'Marital_Status': 'Single', 'Gender': 'Male'}"
      ]
     },
     "execution_count": 37,
     "metadata": {},
     "output_type": "execute_result"
    }
   ],
   "source": [
    "students_dict ={'Name': 'Victor','Age': '25','Marital_Status':'Single','Gender':'Male'}\n",
    "students_dict"
   ]
  },
  {
   "cell_type": "code",
   "execution_count": 38,
   "id": "df729d97-91f5-422a-9d14-c3a2684c6b5a",
   "metadata": {},
   "outputs": [
    {
     "data": {
      "text/plain": [
       "[{'Name': 'Victor', 'Age': '25', 'Marital_Status': 'Single', 'Gender': 'Male'},\n",
       " {'Name': 'Martin',\n",
       "  'Age': '26',\n",
       "  'Marital_Status': 'Married',\n",
       "  'Gender': 'Male'},\n",
       " {'Name': 'Linda',\n",
       "  'Age': '19',\n",
       "  'Marital_Status': 'Married',\n",
       "  'Gender': 'Female'}]"
      ]
     },
     "execution_count": 38,
     "metadata": {},
     "output_type": "execute_result"
    }
   ],
   "source": [
    "students_dict = [\n",
    "                  {'Name': 'Victor','Age': '25','Marital_Status':'Single','Gender':'Male'},\n",
    "                   {'Name': 'Martin','Age': '26','Marital_Status':'Married','Gender':'Male'},\n",
    "                   {'Name': 'Linda','Age': '19','Marital_Status':'Married','Gender':'Female'}\n",
    "                ]\n",
    "students_dict"
   ]
  },
  {
   "cell_type": "code",
   "execution_count": null,
   "id": "0899448d-f28e-4d43-b909-fa62937895be",
   "metadata": {},
   "outputs": [],
   "source": []
  }
 ],
 "metadata": {
  "kernelspec": {
   "display_name": "Python 3 (ipykernel)",
   "language": "python",
   "name": "python3"
  },
  "language_info": {
   "codemirror_mode": {
    "name": "ipython",
    "version": 3
   },
   "file_extension": ".py",
   "mimetype": "text/x-python",
   "name": "python",
   "nbconvert_exporter": "python",
   "pygments_lexer": "ipython3",
   "version": "3.11.7"
  }
 },
 "nbformat": 4,
 "nbformat_minor": 5
}
