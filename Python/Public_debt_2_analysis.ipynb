{
 "cells": [
  {
   "cell_type": "markdown",
   "id": "726f331f-7201-433e-9c86-7d64a534de04",
   "metadata": {},
   "source": [
    "#### Analysis of Kenya's Public Dataset(2021)"
   ]
  },
  {
   "cell_type": "code",
   "execution_count": 1,
   "id": "6cbb55d1-049c-4f04-ba09-cef65afceef8",
   "metadata": {},
   "outputs": [],
   "source": [
    "# get the pandas library\n",
    "import pandas as pd"
   ]
  },
  {
   "cell_type": "code",
   "execution_count": 2,
   "id": "62ae149c-e707-42c1-b53b-10ab1b79b22c",
   "metadata": {},
   "outputs": [],
   "source": [
    "#create a dataframe object and read downloaded dataset\n",
    "df= pd.read_csv(\"Public Debt (Ksh Million).csv\")"
   ]
  },
  {
   "cell_type": "code",
   "execution_count": 3,
   "id": "769494e0-96fa-401f-820f-71d396896065",
   "metadata": {},
   "outputs": [
    {
     "data": {
      "text/plain": [
       "(262, 5)"
      ]
     },
     "execution_count": 3,
     "metadata": {},
     "output_type": "execute_result"
    }
   ],
   "source": [
    "# How many rows and columns do we have in this dataset len df\n",
    "df.shape "
   ]
  },
  {
   "cell_type": "code",
   "execution_count": 7,
   "id": "56aa5180-289d-43ec-b2a9-5e28a54763f3",
   "metadata": {},
   "outputs": [
    {
     "data": {
      "text/html": [
       "<div>\n",
       "<style scoped>\n",
       "    .dataframe tbody tr th:only-of-type {\n",
       "        vertical-align: middle;\n",
       "    }\n",
       "\n",
       "    .dataframe tbody tr th {\n",
       "        vertical-align: top;\n",
       "    }\n",
       "\n",
       "    .dataframe thead th {\n",
       "        text-align: right;\n",
       "    }\n",
       "</style>\n",
       "<table border=\"1\" class=\"dataframe\">\n",
       "  <thead>\n",
       "    <tr style=\"text-align: right;\">\n",
       "      <th></th>\n",
       "      <th>Year</th>\n",
       "      <th>Month</th>\n",
       "      <th>Domestic Debt</th>\n",
       "      <th>External Debt</th>\n",
       "      <th>Total</th>\n",
       "    </tr>\n",
       "  </thead>\n",
       "  <tbody>\n",
       "    <tr>\n",
       "      <th>0</th>\n",
       "      <td>2021</td>\n",
       "      <td>December</td>\n",
       "      <td>4,032,368.18</td>\n",
       "      <td>4,174,371.53</td>\n",
       "      <td>8,206,739.71</td>\n",
       "    </tr>\n",
       "    <tr>\n",
       "      <th>1</th>\n",
       "      <td>2021</td>\n",
       "      <td>November</td>\n",
       "      <td>4,008,077.30</td>\n",
       "      <td>4,109,282.85</td>\n",
       "      <td>8,117,360.15</td>\n",
       "    </tr>\n",
       "    <tr>\n",
       "      <th>2</th>\n",
       "      <td>2021</td>\n",
       "      <td>October</td>\n",
       "      <td>3,959,523.30</td>\n",
       "      <td>4,083,124.54</td>\n",
       "      <td>8,042,647.84</td>\n",
       "    </tr>\n",
       "  </tbody>\n",
       "</table>\n",
       "</div>"
      ],
      "text/plain": [
       "   Year     Month Domestic Debt External Debt         Total\n",
       "0  2021  December  4,032,368.18  4,174,371.53  8,206,739.71\n",
       "1  2021  November  4,008,077.30  4,109,282.85  8,117,360.15\n",
       "2  2021   October  3,959,523.30  4,083,124.54  8,042,647.84"
      ]
     },
     "execution_count": 7,
     "metadata": {},
     "output_type": "execute_result"
    }
   ],
   "source": [
    "# What does the first 3 rows look like in this dataset\n",
    "df.head(3)"
   ]
  },
  {
   "cell_type": "code",
   "execution_count": 9,
   "id": "cea7aeea-6d85-40a3-b5d1-b17cf9bfd481",
   "metadata": {},
   "outputs": [
    {
     "data": {
      "text/html": [
       "<div>\n",
       "<style scoped>\n",
       "    .dataframe tbody tr th:only-of-type {\n",
       "        vertical-align: middle;\n",
       "    }\n",
       "\n",
       "    .dataframe tbody tr th {\n",
       "        vertical-align: top;\n",
       "    }\n",
       "\n",
       "    .dataframe thead th {\n",
       "        text-align: right;\n",
       "    }\n",
       "</style>\n",
       "<table border=\"1\" class=\"dataframe\">\n",
       "  <thead>\n",
       "    <tr style=\"text-align: right;\">\n",
       "      <th></th>\n",
       "      <th>Year</th>\n",
       "      <th>Month</th>\n",
       "      <th>Domestic Debt</th>\n",
       "      <th>External Debt</th>\n",
       "      <th>Total</th>\n",
       "    </tr>\n",
       "  </thead>\n",
       "  <tbody>\n",
       "    <tr>\n",
       "      <th>220</th>\n",
       "      <td>2003</td>\n",
       "      <td>August</td>\n",
       "      <td>295,494.51</td>\n",
       "      <td>397,991.28</td>\n",
       "      <td>693,485.79</td>\n",
       "    </tr>\n",
       "    <tr>\n",
       "      <th>221</th>\n",
       "      <td>2003</td>\n",
       "      <td>July</td>\n",
       "      <td>292,277.47</td>\n",
       "      <td>398,532.85</td>\n",
       "      <td>690,810.32</td>\n",
       "    </tr>\n",
       "    <tr>\n",
       "      <th>222</th>\n",
       "      <td>2003</td>\n",
       "      <td>June</td>\n",
       "      <td>289,376.97</td>\n",
       "      <td>407,053.00</td>\n",
       "      <td>696,429.97</td>\n",
       "    </tr>\n",
       "  </tbody>\n",
       "</table>\n",
       "</div>"
      ],
      "text/plain": [
       "     Year   Month Domestic Debt External Debt       Total\n",
       "220  2003  August    295,494.51    397,991.28  693,485.79\n",
       "221  2003    July    292,277.47    398,532.85  690,810.32\n",
       "222  2003    June    289,376.97    407,053.00  696,429.97"
      ]
     },
     "execution_count": 9,
     "metadata": {},
     "output_type": "execute_result"
    }
   ],
   "source": [
    "# what about random 3 mid-level rows\n",
    "df.loc[[220,221,222]]"
   ]
  },
  {
   "cell_type": "code",
   "execution_count": 11,
   "id": "0165a41f-4079-4500-8470-94f1de108681",
   "metadata": {},
   "outputs": [
    {
     "data": {
      "text/html": [
       "<div>\n",
       "<style scoped>\n",
       "    .dataframe tbody tr th:only-of-type {\n",
       "        vertical-align: middle;\n",
       "    }\n",
       "\n",
       "    .dataframe tbody tr th {\n",
       "        vertical-align: top;\n",
       "    }\n",
       "\n",
       "    .dataframe thead th {\n",
       "        text-align: right;\n",
       "    }\n",
       "</style>\n",
       "<table border=\"1\" class=\"dataframe\">\n",
       "  <thead>\n",
       "    <tr style=\"text-align: right;\">\n",
       "      <th></th>\n",
       "      <th>External Debt</th>\n",
       "      <th>Total</th>\n",
       "    </tr>\n",
       "  </thead>\n",
       "  <tbody>\n",
       "    <tr>\n",
       "      <th>8</th>\n",
       "      <td>3,778,131.44</td>\n",
       "      <td>7,411,046.24</td>\n",
       "    </tr>\n",
       "    <tr>\n",
       "      <th>9</th>\n",
       "      <td>3,769,866.74</td>\n",
       "      <td>7,339,707.31</td>\n",
       "    </tr>\n",
       "  </tbody>\n",
       "</table>\n",
       "</div>"
      ],
      "text/plain": [
       "  External Debt         Total\n",
       "8  3,778,131.44  7,411,046.24\n",
       "9  3,769,866.74  7,339,707.31"
      ]
     },
     "execution_count": 11,
     "metadata": {},
     "output_type": "execute_result"
    }
   ],
   "source": [
    "# iloc gives us access to a specific value in a row and column [:,:]\n",
    "df.iloc[8:10,3:]"
   ]
  },
  {
   "cell_type": "code",
   "execution_count": 13,
   "id": "c7853178-3589-43b7-83a1-f83af0f336db",
   "metadata": {},
   "outputs": [
    {
     "data": {
      "text/html": [
       "<div>\n",
       "<style scoped>\n",
       "    .dataframe tbody tr th:only-of-type {\n",
       "        vertical-align: middle;\n",
       "    }\n",
       "\n",
       "    .dataframe tbody tr th {\n",
       "        vertical-align: top;\n",
       "    }\n",
       "\n",
       "    .dataframe thead th {\n",
       "        text-align: right;\n",
       "    }\n",
       "</style>\n",
       "<table border=\"1\" class=\"dataframe\">\n",
       "  <thead>\n",
       "    <tr style=\"text-align: right;\">\n",
       "      <th></th>\n",
       "      <th>Year</th>\n",
       "      <th>Month</th>\n",
       "      <th>Domestic Debt</th>\n",
       "      <th>External Debt</th>\n",
       "      <th>Total</th>\n",
       "    </tr>\n",
       "  </thead>\n",
       "  <tbody>\n",
       "    <tr>\n",
       "      <th>259</th>\n",
       "      <td>2000</td>\n",
       "      <td>March</td>\n",
       "      <td>201,463.22</td>\n",
       "      <td>396,800.00</td>\n",
       "      <td>598,263.22</td>\n",
       "    </tr>\n",
       "    <tr>\n",
       "      <th>260</th>\n",
       "      <td>1999</td>\n",
       "      <td>December</td>\n",
       "      <td>190,300.00</td>\n",
       "      <td>311,953.00</td>\n",
       "      <td>502,253.00</td>\n",
       "    </tr>\n",
       "    <tr>\n",
       "      <th>261</th>\n",
       "      <td>1999</td>\n",
       "      <td>September</td>\n",
       "      <td>183,417.00</td>\n",
       "      <td>320,137.00</td>\n",
       "      <td>503,554.00</td>\n",
       "    </tr>\n",
       "  </tbody>\n",
       "</table>\n",
       "</div>"
      ],
      "text/plain": [
       "     Year      Month Domestic Debt External Debt       Total\n",
       "259  2000      March    201,463.22    396,800.00  598,263.22\n",
       "260  1999   December    190,300.00    311,953.00  502,253.00\n",
       "261  1999  September    183,417.00    320,137.00  503,554.00"
      ]
     },
     "execution_count": 13,
     "metadata": {},
     "output_type": "execute_result"
    }
   ],
   "source": [
    "#What does the last 3 rows look like\n",
    "df.tail(3)"
   ]
  },
  {
   "cell_type": "code",
   "execution_count": 15,
   "id": "4712c1c2-b2b5-4f08-aa23-03286a2febfa",
   "metadata": {},
   "outputs": [
    {
     "data": {
      "text/html": [
       "<div>\n",
       "<style scoped>\n",
       "    .dataframe tbody tr th:only-of-type {\n",
       "        vertical-align: middle;\n",
       "    }\n",
       "\n",
       "    .dataframe tbody tr th {\n",
       "        vertical-align: top;\n",
       "    }\n",
       "\n",
       "    .dataframe thead th {\n",
       "        text-align: right;\n",
       "    }\n",
       "</style>\n",
       "<table border=\"1\" class=\"dataframe\">\n",
       "  <thead>\n",
       "    <tr style=\"text-align: right;\">\n",
       "      <th></th>\n",
       "      <th>Year</th>\n",
       "      <th>Month</th>\n",
       "      <th>Domestic Debt</th>\n",
       "      <th>External Debt</th>\n",
       "      <th>Total</th>\n",
       "    </tr>\n",
       "  </thead>\n",
       "  <tbody>\n",
       "    <tr>\n",
       "      <th>0</th>\n",
       "      <td>2021</td>\n",
       "      <td>December</td>\n",
       "      <td>4,032,368.18</td>\n",
       "      <td>4,174,371.53</td>\n",
       "      <td>8,206,739.71</td>\n",
       "    </tr>\n",
       "    <tr>\n",
       "      <th>1</th>\n",
       "      <td>2021</td>\n",
       "      <td>November</td>\n",
       "      <td>4,008,077.30</td>\n",
       "      <td>4,109,282.85</td>\n",
       "      <td>8,117,360.15</td>\n",
       "    </tr>\n",
       "    <tr>\n",
       "      <th>2</th>\n",
       "      <td>2021</td>\n",
       "      <td>October</td>\n",
       "      <td>3,959,523.30</td>\n",
       "      <td>4,083,124.54</td>\n",
       "      <td>8,042,647.84</td>\n",
       "    </tr>\n",
       "    <tr>\n",
       "      <th>3</th>\n",
       "      <td>2021</td>\n",
       "      <td>September</td>\n",
       "      <td>3,937,777.45</td>\n",
       "      <td>4,062,504.78</td>\n",
       "      <td>8,000,282.23</td>\n",
       "    </tr>\n",
       "    <tr>\n",
       "      <th>4</th>\n",
       "      <td>2021</td>\n",
       "      <td>August</td>\n",
       "      <td>3,864,875.78</td>\n",
       "      <td>4,054,862.85</td>\n",
       "      <td>7,919,738.63</td>\n",
       "    </tr>\n",
       "    <tr>\n",
       "      <th>5</th>\n",
       "      <td>2021</td>\n",
       "      <td>July</td>\n",
       "      <td>3,792,146.89</td>\n",
       "      <td>4,020,629.30</td>\n",
       "      <td>7,812,776.19</td>\n",
       "    </tr>\n",
       "    <tr>\n",
       "      <th>6</th>\n",
       "      <td>2021</td>\n",
       "      <td>June</td>\n",
       "      <td>3,697,093.18</td>\n",
       "      <td>4,015,299.38</td>\n",
       "      <td>7,712,392.57</td>\n",
       "    </tr>\n",
       "    <tr>\n",
       "      <th>7</th>\n",
       "      <td>2021</td>\n",
       "      <td>May</td>\n",
       "      <td>3,686,891.72</td>\n",
       "      <td>3,799,018.81</td>\n",
       "      <td>7,485,910.53</td>\n",
       "    </tr>\n",
       "    <tr>\n",
       "      <th>8</th>\n",
       "      <td>2021</td>\n",
       "      <td>April</td>\n",
       "      <td>3,632,914.80</td>\n",
       "      <td>3,778,131.44</td>\n",
       "      <td>7,411,046.24</td>\n",
       "    </tr>\n",
       "    <tr>\n",
       "      <th>9</th>\n",
       "      <td>2021</td>\n",
       "      <td>March</td>\n",
       "      <td>3,569,840.57</td>\n",
       "      <td>3,769,866.74</td>\n",
       "      <td>7,339,707.31</td>\n",
       "    </tr>\n",
       "    <tr>\n",
       "      <th>10</th>\n",
       "      <td>2021</td>\n",
       "      <td>February</td>\n",
       "      <td>3,531,182.93</td>\n",
       "      <td>3,814,288.77</td>\n",
       "      <td>7,345,471.70</td>\n",
       "    </tr>\n",
       "    <tr>\n",
       "      <th>11</th>\n",
       "      <td>2021</td>\n",
       "      <td>January</td>\n",
       "      <td>3,532,561.52</td>\n",
       "      <td>3,819,699.66</td>\n",
       "      <td>7,352,261.18</td>\n",
       "    </tr>\n",
       "    <tr>\n",
       "      <th>12</th>\n",
       "      <td>2020</td>\n",
       "      <td>December</td>\n",
       "      <td>3,488,541.18</td>\n",
       "      <td>3,793,285.24</td>\n",
       "      <td>7,281,826.42</td>\n",
       "    </tr>\n",
       "    <tr>\n",
       "      <th>13</th>\n",
       "      <td>2020</td>\n",
       "      <td>November</td>\n",
       "      <td>3,482,653.56</td>\n",
       "      <td>3,771,808.47</td>\n",
       "      <td>7,254,462.03</td>\n",
       "    </tr>\n",
       "    <tr>\n",
       "      <th>14</th>\n",
       "      <td>2020</td>\n",
       "      <td>October</td>\n",
       "      <td>3,457,644.63</td>\n",
       "      <td>3,705,644.24</td>\n",
       "      <td>7,163,288.87</td>\n",
       "    </tr>\n",
       "    <tr>\n",
       "      <th>15</th>\n",
       "      <td>2020</td>\n",
       "      <td>September</td>\n",
       "      <td>3,457,106.50</td>\n",
       "      <td>3,663,491.22</td>\n",
       "      <td>7,120,597.72</td>\n",
       "    </tr>\n",
       "    <tr>\n",
       "      <th>16</th>\n",
       "      <td>2020</td>\n",
       "      <td>August</td>\n",
       "      <td>3,402,500.73</td>\n",
       "      <td>3,666,321.29</td>\n",
       "      <td>7,068,822.02</td>\n",
       "    </tr>\n",
       "    <tr>\n",
       "      <th>17</th>\n",
       "      <td>2020</td>\n",
       "      <td>July</td>\n",
       "      <td>3,273,551.44</td>\n",
       "      <td>3,638,506.49</td>\n",
       "      <td>6,912,057.93</td>\n",
       "    </tr>\n",
       "    <tr>\n",
       "      <th>18</th>\n",
       "      <td>2020</td>\n",
       "      <td>June</td>\n",
       "      <td>3,178,421.28</td>\n",
       "      <td>3,515,810.78</td>\n",
       "      <td>6,694,232.06</td>\n",
       "    </tr>\n",
       "    <tr>\n",
       "      <th>19</th>\n",
       "      <td>2020</td>\n",
       "      <td>May</td>\n",
       "      <td>3,153,143.94</td>\n",
       "      <td>3,496,428.84</td>\n",
       "      <td>6,649,572.77</td>\n",
       "    </tr>\n",
       "    <tr>\n",
       "      <th>20</th>\n",
       "      <td>2020</td>\n",
       "      <td>April</td>\n",
       "      <td>3,119,415.80</td>\n",
       "      <td>3,317,330.98</td>\n",
       "      <td>6,436,746.77</td>\n",
       "    </tr>\n",
       "    <tr>\n",
       "      <th>21</th>\n",
       "      <td>2020</td>\n",
       "      <td>March</td>\n",
       "      <td>3,070,189.38</td>\n",
       "      <td>3,212,634.23</td>\n",
       "      <td>6,282,823.61</td>\n",
       "    </tr>\n",
       "    <tr>\n",
       "      <th>22</th>\n",
       "      <td>2020</td>\n",
       "      <td>February</td>\n",
       "      <td>3,040,964.55</td>\n",
       "      <td>3,117,038.57</td>\n",
       "      <td>6,158,003.12</td>\n",
       "    </tr>\n",
       "    <tr>\n",
       "      <th>23</th>\n",
       "      <td>2020</td>\n",
       "      <td>January</td>\n",
       "      <td>3,003,700.30</td>\n",
       "      <td>3,112,897.95</td>\n",
       "      <td>6,116,598.25</td>\n",
       "    </tr>\n",
       "    <tr>\n",
       "      <th>24</th>\n",
       "      <td>2019</td>\n",
       "      <td>December</td>\n",
       "      <td>2,942,103.54</td>\n",
       "      <td>3,106,822.96</td>\n",
       "      <td>6,048,926.50</td>\n",
       "    </tr>\n",
       "    <tr>\n",
       "      <th>25</th>\n",
       "      <td>2019</td>\n",
       "      <td>November</td>\n",
       "      <td>2,917,362.29</td>\n",
       "      <td>3,114,959.69</td>\n",
       "      <td>6,032,321.98</td>\n",
       "    </tr>\n",
       "    <tr>\n",
       "      <th>26</th>\n",
       "      <td>2019</td>\n",
       "      <td>October</td>\n",
       "      <td>2,897,141.36</td>\n",
       "      <td>3,127,601.26</td>\n",
       "      <td>6,024,742.62</td>\n",
       "    </tr>\n",
       "    <tr>\n",
       "      <th>27</th>\n",
       "      <td>2019</td>\n",
       "      <td>September</td>\n",
       "      <td>2,851,639.21</td>\n",
       "      <td>3,111,767.28</td>\n",
       "      <td>5,963,406.49</td>\n",
       "    </tr>\n",
       "    <tr>\n",
       "      <th>28</th>\n",
       "      <td>2019</td>\n",
       "      <td>August</td>\n",
       "      <td>2,875,502.65</td>\n",
       "      <td>3,133,543.34</td>\n",
       "      <td>6,009,045.99</td>\n",
       "    </tr>\n",
       "    <tr>\n",
       "      <th>29</th>\n",
       "      <td>2019</td>\n",
       "      <td>July</td>\n",
       "      <td>2,843,666.89</td>\n",
       "      <td>3,160,057.46</td>\n",
       "      <td>6,003,724.35</td>\n",
       "    </tr>\n",
       "  </tbody>\n",
       "</table>\n",
       "</div>"
      ],
      "text/plain": [
       "    Year      Month Domestic Debt External Debt         Total\n",
       "0   2021   December  4,032,368.18  4,174,371.53  8,206,739.71\n",
       "1   2021   November  4,008,077.30  4,109,282.85  8,117,360.15\n",
       "2   2021    October  3,959,523.30  4,083,124.54  8,042,647.84\n",
       "3   2021  September  3,937,777.45  4,062,504.78  8,000,282.23\n",
       "4   2021     August  3,864,875.78  4,054,862.85  7,919,738.63\n",
       "5   2021       July  3,792,146.89  4,020,629.30  7,812,776.19\n",
       "6   2021       June  3,697,093.18  4,015,299.38  7,712,392.57\n",
       "7   2021        May  3,686,891.72  3,799,018.81  7,485,910.53\n",
       "8   2021      April  3,632,914.80  3,778,131.44  7,411,046.24\n",
       "9   2021      March  3,569,840.57  3,769,866.74  7,339,707.31\n",
       "10  2021   February  3,531,182.93  3,814,288.77  7,345,471.70\n",
       "11  2021    January  3,532,561.52  3,819,699.66  7,352,261.18\n",
       "12  2020   December  3,488,541.18  3,793,285.24  7,281,826.42\n",
       "13  2020   November  3,482,653.56  3,771,808.47  7,254,462.03\n",
       "14  2020    October  3,457,644.63  3,705,644.24  7,163,288.87\n",
       "15  2020  September  3,457,106.50  3,663,491.22  7,120,597.72\n",
       "16  2020     August  3,402,500.73  3,666,321.29  7,068,822.02\n",
       "17  2020       July  3,273,551.44  3,638,506.49  6,912,057.93\n",
       "18  2020       June  3,178,421.28  3,515,810.78  6,694,232.06\n",
       "19  2020        May  3,153,143.94  3,496,428.84  6,649,572.77\n",
       "20  2020      April  3,119,415.80  3,317,330.98  6,436,746.77\n",
       "21  2020      March  3,070,189.38  3,212,634.23  6,282,823.61\n",
       "22  2020   February  3,040,964.55  3,117,038.57  6,158,003.12\n",
       "23  2020    January  3,003,700.30  3,112,897.95  6,116,598.25\n",
       "24  2019   December  2,942,103.54  3,106,822.96  6,048,926.50\n",
       "25  2019   November  2,917,362.29  3,114,959.69  6,032,321.98\n",
       "26  2019    October  2,897,141.36  3,127,601.26  6,024,742.62\n",
       "27  2019  September  2,851,639.21  3,111,767.28  5,963,406.49\n",
       "28  2019     August  2,875,502.65  3,133,543.34  6,009,045.99\n",
       "29  2019       July  2,843,666.89  3,160,057.46  6,003,724.35"
      ]
     },
     "execution_count": 15,
     "metadata": {},
     "output_type": "execute_result"
    }
   ],
   "source": [
    "# can I just see more of this data\n",
    "df[:30]"
   ]
  },
  {
   "cell_type": "markdown",
   "id": "ece6691e-4905-44e1-a6be-4c8bb3985883",
   "metadata": {},
   "source": [
    "```\n",
    "    -Does the rows and headers make sense to me?\n",
    "    - we can perharps verify the total column does what it says i.e domestic_debt + external_debt = Total\n",
    "```"
   ]
  },
  {
   "cell_type": "code",
   "execution_count": 20,
   "id": "845b46cc-43d6-42d9-b492-9fe363bd0bc5",
   "metadata": {},
   "outputs": [
    {
     "data": {
      "text/plain": [
       "8206739.71"
      ]
     },
     "execution_count": 20,
     "metadata": {},
     "output_type": "execute_result"
    }
   ],
   "source": [
    "domestic_debt = float(df.loc[0][\"Domestic Debt\"].replace(\",\",\"\"))\n",
    "domestic_debt\n",
    "external_debt = float(df.loc[0][\"External Debt\"].replace(\",\",\"\"))\n",
    "total_debt = domestic_debt + external_debt\n",
    "total_debt"
   ]
  },
  {
   "cell_type": "code",
   "execution_count": 22,
   "id": "325cab39-da92-40bd-a8fe-28795adc5173",
   "metadata": {},
   "outputs": [
    {
     "name": "stdout",
     "output_type": "stream",
     "text": [
      "<class 'pandas.core.frame.DataFrame'>\n",
      "RangeIndex: 262 entries, 0 to 261\n",
      "Data columns (total 5 columns):\n",
      " #   Column         Non-Null Count  Dtype \n",
      "---  ------         --------------  ----- \n",
      " 0   Year           262 non-null    int64 \n",
      " 1   Month          262 non-null    object\n",
      " 2   Domestic Debt  262 non-null    object\n",
      " 3   External Debt  262 non-null    object\n",
      " 4   Total          262 non-null    object\n",
      "dtypes: int64(1), object(4)\n",
      "memory usage: 10.4+ KB\n"
     ]
    }
   ],
   "source": [
    "df.info()"
   ]
  },
  {
   "cell_type": "code",
   "execution_count": 29,
   "id": "db8ff17b-6a49-44c7-9ffd-c1ba913c3fb0",
   "metadata": {},
   "outputs": [
    {
     "data": {
      "text/plain": [
       "'4032368.18'"
      ]
     },
     "execution_count": 29,
     "metadata": {},
     "output_type": "execute_result"
    }
   ],
   "source": [
    "my_string = (df.loc[0][\"Domestic Debt\"]).replace(\",\",\"\")\n",
    "my_string"
   ]
  },
  {
   "cell_type": "code",
   "execution_count": 1,
   "id": "74b71223-96ad-4bf7-944f-1bce4c821bf9",
   "metadata": {},
   "outputs": [
    {
     "name": "stdout",
     "output_type": "stream",
     "text": [
      "Object `loc` not found.\n"
     ]
    }
   ],
   "source": [
    ".loc?"
   ]
  },
  {
   "cell_type": "code",
   "execution_count": 31,
   "id": "72f6c742-82ed-42d3-aae2-c2a9afc3b787",
   "metadata": {},
   "outputs": [
    {
     "ename": "NameError",
     "evalue": "name 'mt_string' is not defined",
     "output_type": "error",
     "traceback": [
      "\u001b[1;31m---------------------------------------------------------------------------\u001b[0m",
      "\u001b[1;31mNameError\u001b[0m                                 Traceback (most recent call last)",
      "Cell \u001b[1;32mIn[31], line 2\u001b[0m\n\u001b[0;32m      1\u001b[0m my_string\u001b[38;5;241m.\u001b[39mreplace(\u001b[38;5;124m\"\u001b[39m\u001b[38;5;124m,\u001b[39m\u001b[38;5;124m\"\u001b[39m,\u001b[38;5;124m\"\u001b[39m\u001b[38;5;124m\"\u001b[39m)\n\u001b[1;32m----> 2\u001b[0m mt_string\n",
      "\u001b[1;31mNameError\u001b[0m: name 'mt_string' is not defined"
     ]
    }
   ],
   "source": [
    "my_string.replace(\",\",\"\")\n",
    "mt_string"
   ]
  },
  {
   "cell_type": "code",
   "execution_count": null,
   "id": "6adaf50b-c882-42bb-983d-399ee2c2be0b",
   "metadata": {},
   "outputs": [],
   "source": [
    "int(float(my_string))"
   ]
  },
  {
   "cell_type": "code",
   "execution_count": null,
   "id": "155a38f5-c441-44e5-ac92-437548c55ee3",
   "metadata": {},
   "outputs": [],
   "source": []
  },
  {
   "cell_type": "code",
   "execution_count": null,
   "id": "3900f101-a9e6-4145-a9b1-a416e86f960a",
   "metadata": {},
   "outputs": [],
   "source": []
  }
 ],
 "metadata": {
  "kernelspec": {
   "display_name": "Python 3 (ipykernel)",
   "language": "python",
   "name": "python3"
  },
  "language_info": {
   "codemirror_mode": {
    "name": "ipython",
    "version": 3
   },
   "file_extension": ".py",
   "mimetype": "text/x-python",
   "name": "python",
   "nbconvert_exporter": "python",
   "pygments_lexer": "ipython3",
   "version": "3.11.7"
  }
 },
 "nbformat": 4,
 "nbformat_minor": 5
}
