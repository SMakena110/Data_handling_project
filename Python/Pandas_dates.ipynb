{
 "cells": [
  {
   "cell_type": "markdown",
   "id": "43f3ddc8-03a8-4bb3-b08d-15b81b2f346b",
   "metadata": {},
   "source": [
    "#### 1. Working with Dates and Times\n",
    "- Pandas can automatically parse date columns, but sometimes you'll need to manually parse strings into dates. \n",
    "- You can use **pd.to_datetime()** function to convert strings to datetime objects."
   ]
  },
  {
   "cell_type": "markdown",
   "id": "394fa03e-9525-4fbd-b470-3e5eb0d5f7e0",
   "metadata": {},
   "source": [
    "##### 1.1 Parsing Dates"
   ]
  },
  {
   "cell_type": "code",
   "execution_count": 3,
   "id": "b244232e-1e68-48a4-bcc1-2114b9ff6891",
   "metadata": {},
   "outputs": [
    {
     "data": {
      "text/html": [
       "<div>\n",
       "<style scoped>\n",
       "    .dataframe tbody tr th:only-of-type {\n",
       "        vertical-align: middle;\n",
       "    }\n",
       "\n",
       "    .dataframe tbody tr th {\n",
       "        vertical-align: top;\n",
       "    }\n",
       "\n",
       "    .dataframe thead th {\n",
       "        text-align: right;\n",
       "    }\n",
       "</style>\n",
       "<table border=\"1\" class=\"dataframe\">\n",
       "  <thead>\n",
       "    <tr style=\"text-align: right;\">\n",
       "      <th></th>\n",
       "      <th>Name</th>\n",
       "      <th>Join_Date</th>\n",
       "    </tr>\n",
       "  </thead>\n",
       "  <tbody>\n",
       "    <tr>\n",
       "      <th>0</th>\n",
       "      <td>Alice</td>\n",
       "      <td>2024-01-15</td>\n",
       "    </tr>\n",
       "    <tr>\n",
       "      <th>1</th>\n",
       "      <td>Bob</td>\n",
       "      <td>2024-03-22</td>\n",
       "    </tr>\n",
       "  </tbody>\n",
       "</table>\n",
       "</div>"
      ],
      "text/plain": [
       "    Name   Join_Date\n",
       "0  Alice  2024-01-15\n",
       "1    Bob  2024-03-22"
      ]
     },
     "execution_count": 3,
     "metadata": {},
     "output_type": "execute_result"
    }
   ],
   "source": [
    "import pandas as pd\n",
    "# sample data\n",
    "data = {\"Name\": [\"Alice\", \"Bob\"], \"Join_Date\": [\"2024-01-15\",\"2024-03-22\"]}\n",
    "df = pd.DataFrame(data)\n",
    "df"
   ]
  },
  {
   "cell_type": "code",
   "execution_count": 4,
   "id": "bce79bbe-90e6-46f6-9f0c-09bbaf272452",
   "metadata": {},
   "outputs": [
    {
     "name": "stdout",
     "output_type": "stream",
     "text": [
      "<class 'pandas.core.frame.DataFrame'>\n",
      "RangeIndex: 2 entries, 0 to 1\n",
      "Data columns (total 2 columns):\n",
      " #   Column     Non-Null Count  Dtype         \n",
      "---  ------     --------------  -----         \n",
      " 0   Name       2 non-null      object        \n",
      " 1   Join_Date  2 non-null      datetime64[ns]\n",
      "dtypes: datetime64[ns](1), object(1)\n",
      "memory usage: 164.0+ bytes\n"
     ]
    }
   ],
   "source": [
    "df[\"Join_Date\"]= pd.to_datetime(df[\"Join_Date\"])\n",
    "df.info()"
   ]
  },
  {
   "cell_type": "markdown",
   "id": "12a09e3a-7b78-42da-84c1-0afc16c606ff",
   "metadata": {},
   "source": [
    "##### 1.2 Extracting Date Components\n",
    "- Once dates are parsed, you can extract componnts like year, month, day"
   ]
  },
  {
   "cell_type": "code",
   "execution_count": 6,
   "id": "4200e153-dc36-4644-a3b1-66a8dd973253",
   "metadata": {},
   "outputs": [
    {
     "data": {
      "text/html": [
       "<div>\n",
       "<style scoped>\n",
       "    .dataframe tbody tr th:only-of-type {\n",
       "        vertical-align: middle;\n",
       "    }\n",
       "\n",
       "    .dataframe tbody tr th {\n",
       "        vertical-align: top;\n",
       "    }\n",
       "\n",
       "    .dataframe thead th {\n",
       "        text-align: right;\n",
       "    }\n",
       "</style>\n",
       "<table border=\"1\" class=\"dataframe\">\n",
       "  <thead>\n",
       "    <tr style=\"text-align: right;\">\n",
       "      <th></th>\n",
       "      <th>Name</th>\n",
       "      <th>Join_Date</th>\n",
       "      <th>Year</th>\n",
       "      <th>Month</th>\n",
       "      <th>Day</th>\n",
       "    </tr>\n",
       "  </thead>\n",
       "  <tbody>\n",
       "    <tr>\n",
       "      <th>0</th>\n",
       "      <td>Alice</td>\n",
       "      <td>2024-01-15</td>\n",
       "      <td>2024</td>\n",
       "      <td>1</td>\n",
       "      <td>15</td>\n",
       "    </tr>\n",
       "    <tr>\n",
       "      <th>1</th>\n",
       "      <td>Bob</td>\n",
       "      <td>2024-03-22</td>\n",
       "      <td>2024</td>\n",
       "      <td>3</td>\n",
       "      <td>22</td>\n",
       "    </tr>\n",
       "  </tbody>\n",
       "</table>\n",
       "</div>"
      ],
      "text/plain": [
       "    Name  Join_Date  Year  Month  Day\n",
       "0  Alice 2024-01-15  2024      1   15\n",
       "1    Bob 2024-03-22  2024      3   22"
      ]
     },
     "execution_count": 6,
     "metadata": {},
     "output_type": "execute_result"
    }
   ],
   "source": [
    "# extract year, month and day\n",
    "df[\"Year\"] = df[\"Join_Date\"].dt.year\n",
    "df[\"Month\"] = df[\"Join_Date\"].dt.month\n",
    "df[\"Day\"] = df[\"Join_Date\"].dt.day\n",
    "df"
   ]
  },
  {
   "cell_type": "markdown",
   "id": "041aafe0-e376-4dca-9627-b9c33129246b",
   "metadata": {},
   "source": [
    "##### 1.3 Date Arithmetic\n",
    "- You can perform arithmetics like adding and substracting days and finding the difference between dates."
   ]
  },
  {
   "cell_type": "markdown",
   "id": "bf2bc089-ca99-45a2-88dc-a5d434ffef99",
   "metadata": {},
   "source": [
    "##### 1.3.1 Adding and Substracting Days"
   ]
  },
  {
   "cell_type": "code",
   "execution_count": 9,
   "id": "e4314bb5-2ee0-4130-82b7-d6233c0c627b",
   "metadata": {},
   "outputs": [
    {
     "name": "stderr",
     "output_type": "stream",
     "text": [
      "C:\\Users\\Hp\\AppData\\Local\\Temp\\ipykernel_15636\\85096817.py:4: PerformanceWarning: Non-vectorized DateOffset being applied to Series or DatetimeIndex.\n",
      "  df[\"Join_Date_minus_1_month\"] = df[\"Join_Date\"] - pd.DateOffset(month=1)\n"
     ]
    },
    {
     "data": {
      "text/html": [
       "<div>\n",
       "<style scoped>\n",
       "    .dataframe tbody tr th:only-of-type {\n",
       "        vertical-align: middle;\n",
       "    }\n",
       "\n",
       "    .dataframe tbody tr th {\n",
       "        vertical-align: top;\n",
       "    }\n",
       "\n",
       "    .dataframe thead th {\n",
       "        text-align: right;\n",
       "    }\n",
       "</style>\n",
       "<table border=\"1\" class=\"dataframe\">\n",
       "  <thead>\n",
       "    <tr style=\"text-align: right;\">\n",
       "      <th></th>\n",
       "      <th>Name</th>\n",
       "      <th>Join_Date</th>\n",
       "      <th>Year</th>\n",
       "      <th>Month</th>\n",
       "      <th>Day</th>\n",
       "      <th>Join_Date_plus_7</th>\n",
       "      <th>Join_Date_minus_1_month</th>\n",
       "    </tr>\n",
       "  </thead>\n",
       "  <tbody>\n",
       "    <tr>\n",
       "      <th>0</th>\n",
       "      <td>Alice</td>\n",
       "      <td>2024-01-15</td>\n",
       "      <td>2024</td>\n",
       "      <td>1</td>\n",
       "      <td>15</td>\n",
       "      <td>2024-01-22</td>\n",
       "      <td>2024-01-15</td>\n",
       "    </tr>\n",
       "    <tr>\n",
       "      <th>1</th>\n",
       "      <td>Bob</td>\n",
       "      <td>2024-03-22</td>\n",
       "      <td>2024</td>\n",
       "      <td>3</td>\n",
       "      <td>22</td>\n",
       "      <td>2024-03-29</td>\n",
       "      <td>2024-01-22</td>\n",
       "    </tr>\n",
       "  </tbody>\n",
       "</table>\n",
       "</div>"
      ],
      "text/plain": [
       "    Name  Join_Date  Year  Month  Day Join_Date_plus_7 Join_Date_minus_1_month\n",
       "0  Alice 2024-01-15  2024      1   15       2024-01-22              2024-01-15\n",
       "1    Bob 2024-03-22  2024      3   22       2024-03-29              2024-01-22"
      ]
     },
     "execution_count": 9,
     "metadata": {},
     "output_type": "execute_result"
    }
   ],
   "source": [
    "# add 7 days to Join_Date\n",
    "df[\"Join_Date_plus_7\"] = df[\"Join_Date\"] + pd.DateOffset(days=7)\n",
    "# substracting 1 month from Join_Date\n",
    "df[\"Join_Date_minus_1_month\"] = df[\"Join_Date\"] - pd.DateOffset(month=1)\n",
    "df"
   ]
  },
  {
   "cell_type": "markdown",
   "id": "20c65af5-59f6-4a46-a4ff-cd62f89fbefa",
   "metadata": {},
   "source": [
    "##### 1.3.2 Calculating Difference Between Dates\n",
    "- Calculate the difference between two dates using **Substraction**"
   ]
  },
  {
   "cell_type": "code",
   "execution_count": 11,
   "id": "05c44c86-5243-4822-885d-5df77e1d99be",
   "metadata": {},
   "outputs": [
    {
     "data": {
      "text/html": [
       "<div>\n",
       "<style scoped>\n",
       "    .dataframe tbody tr th:only-of-type {\n",
       "        vertical-align: middle;\n",
       "    }\n",
       "\n",
       "    .dataframe tbody tr th {\n",
       "        vertical-align: top;\n",
       "    }\n",
       "\n",
       "    .dataframe thead th {\n",
       "        text-align: right;\n",
       "    }\n",
       "</style>\n",
       "<table border=\"1\" class=\"dataframe\">\n",
       "  <thead>\n",
       "    <tr style=\"text-align: right;\">\n",
       "      <th></th>\n",
       "      <th>Name</th>\n",
       "      <th>Join_Date</th>\n",
       "      <th>Year</th>\n",
       "      <th>Month</th>\n",
       "      <th>Day</th>\n",
       "      <th>Join_Date_plus_7</th>\n",
       "      <th>Join_Date_minus_1_month</th>\n",
       "      <th>Days_Since_Join</th>\n",
       "    </tr>\n",
       "  </thead>\n",
       "  <tbody>\n",
       "    <tr>\n",
       "      <th>0</th>\n",
       "      <td>Alice</td>\n",
       "      <td>2024-01-15</td>\n",
       "      <td>2024</td>\n",
       "      <td>1</td>\n",
       "      <td>15</td>\n",
       "      <td>2024-01-22</td>\n",
       "      <td>2024-01-15</td>\n",
       "      <td>305</td>\n",
       "    </tr>\n",
       "    <tr>\n",
       "      <th>1</th>\n",
       "      <td>Bob</td>\n",
       "      <td>2024-03-22</td>\n",
       "      <td>2024</td>\n",
       "      <td>3</td>\n",
       "      <td>22</td>\n",
       "      <td>2024-03-29</td>\n",
       "      <td>2024-01-22</td>\n",
       "      <td>238</td>\n",
       "    </tr>\n",
       "  </tbody>\n",
       "</table>\n",
       "</div>"
      ],
      "text/plain": [
       "    Name  Join_Date  Year  Month  Day Join_Date_plus_7  \\\n",
       "0  Alice 2024-01-15  2024      1   15       2024-01-22   \n",
       "1    Bob 2024-03-22  2024      3   22       2024-03-29   \n",
       "\n",
       "  Join_Date_minus_1_month  Days_Since_Join  \n",
       "0              2024-01-15              305  \n",
       "1              2024-01-22              238  "
      ]
     },
     "execution_count": 11,
     "metadata": {},
     "output_type": "execute_result"
    }
   ],
   "source": [
    "# Timestamp.now extracts the root\n",
    "df[\"Days_Since_Join\"] = (pd.Timestamp.now() - df[\"Join_Date\"]).dt.days\n",
    "df"
   ]
  },
  {
   "cell_type": "markdown",
   "id": "aac278e2-1240-4662-9bfa-b6fd00aa3881",
   "metadata": {},
   "source": [
    "##### 1.4 Working with Time Series Data\n",
    "- For time series data, Pndas provides tools to resample and aggregate data by specific time intervals"
   ]
  },
  {
   "cell_type": "markdown",
   "id": "1382eaa2-64b0-4d93-9fde-d2c4f7c89fcd",
   "metadata": {},
   "source": [
    "##### 1.4.1 Setting the Index to DateTime"
   ]
  },
  {
   "cell_type": "markdown",
   "id": "a1b177f0-c1e3-458d-a121-9bdb2624ec64",
   "metadata": {},
   "source": [
    "setting a datetime column as the index is OFTEN useful in time series analysis."
   ]
  },
  {
   "cell_type": "code",
   "execution_count": 15,
   "id": "6ea4fee4-d920-4c70-a34a-2aa602fcaa51",
   "metadata": {},
   "outputs": [
    {
     "data": {
      "text/html": [
       "<div>\n",
       "<style scoped>\n",
       "    .dataframe tbody tr th:only-of-type {\n",
       "        vertical-align: middle;\n",
       "    }\n",
       "\n",
       "    .dataframe tbody tr th {\n",
       "        vertical-align: top;\n",
       "    }\n",
       "\n",
       "    .dataframe thead th {\n",
       "        text-align: right;\n",
       "    }\n",
       "</style>\n",
       "<table border=\"1\" class=\"dataframe\">\n",
       "  <thead>\n",
       "    <tr style=\"text-align: right;\">\n",
       "      <th></th>\n",
       "      <th>Name</th>\n",
       "      <th>Year</th>\n",
       "      <th>Month</th>\n",
       "      <th>Day</th>\n",
       "      <th>Join_Date_plus_7</th>\n",
       "      <th>Join_Date_minus_1_month</th>\n",
       "      <th>Days_Since_Join</th>\n",
       "    </tr>\n",
       "    <tr>\n",
       "      <th>Join_Date</th>\n",
       "      <th></th>\n",
       "      <th></th>\n",
       "      <th></th>\n",
       "      <th></th>\n",
       "      <th></th>\n",
       "      <th></th>\n",
       "      <th></th>\n",
       "    </tr>\n",
       "  </thead>\n",
       "  <tbody>\n",
       "    <tr>\n",
       "      <th>2024-01-15</th>\n",
       "      <td>Alice</td>\n",
       "      <td>2024</td>\n",
       "      <td>1</td>\n",
       "      <td>15</td>\n",
       "      <td>2024-01-22</td>\n",
       "      <td>2024-01-15</td>\n",
       "      <td>305</td>\n",
       "    </tr>\n",
       "    <tr>\n",
       "      <th>2024-03-22</th>\n",
       "      <td>Bob</td>\n",
       "      <td>2024</td>\n",
       "      <td>3</td>\n",
       "      <td>22</td>\n",
       "      <td>2024-03-29</td>\n",
       "      <td>2024-01-22</td>\n",
       "      <td>238</td>\n",
       "    </tr>\n",
       "  </tbody>\n",
       "</table>\n",
       "</div>"
      ],
      "text/plain": [
       "             Name  Year  Month  Day Join_Date_plus_7 Join_Date_minus_1_month  \\\n",
       "Join_Date                                                                      \n",
       "2024-01-15  Alice  2024      1   15       2024-01-22              2024-01-15   \n",
       "2024-03-22    Bob  2024      3   22       2024-03-29              2024-01-22   \n",
       "\n",
       "            Days_Since_Join  \n",
       "Join_Date                    \n",
       "2024-01-15              305  \n",
       "2024-03-22              238  "
      ]
     },
     "execution_count": 15,
     "metadata": {},
     "output_type": "execute_result"
    }
   ],
   "source": [
    "# set Join_Date as index\n",
    "df.set_index(\"Join_Date\", inplace = True)\n",
    "df"
   ]
  },
  {
   "cell_type": "markdown",
   "id": "602afb5d-3597-4a7c-9bbb-8403e5cfe12f",
   "metadata": {},
   "source": [
    "##### 1.4.2 Resampling Time Series Data"
   ]
  },
  {
   "cell_type": "code",
   "execution_count": 17,
   "id": "438781e4-0d5d-4d8d-9ab0-8e65f0b7de99",
   "metadata": {},
   "outputs": [
    {
     "data": {
      "text/html": [
       "<div>\n",
       "<style scoped>\n",
       "    .dataframe tbody tr th:only-of-type {\n",
       "        vertical-align: middle;\n",
       "    }\n",
       "\n",
       "    .dataframe tbody tr th {\n",
       "        vertical-align: top;\n",
       "    }\n",
       "\n",
       "    .dataframe thead th {\n",
       "        text-align: right;\n",
       "    }\n",
       "</style>\n",
       "<table border=\"1\" class=\"dataframe\">\n",
       "  <thead>\n",
       "    <tr style=\"text-align: right;\">\n",
       "      <th></th>\n",
       "      <th>Value</th>\n",
       "    </tr>\n",
       "  </thead>\n",
       "  <tbody>\n",
       "    <tr>\n",
       "      <th>2024-01-01</th>\n",
       "      <td>0</td>\n",
       "    </tr>\n",
       "    <tr>\n",
       "      <th>2024-01-02</th>\n",
       "      <td>1</td>\n",
       "    </tr>\n",
       "    <tr>\n",
       "      <th>2024-01-03</th>\n",
       "      <td>2</td>\n",
       "    </tr>\n",
       "    <tr>\n",
       "      <th>2024-01-04</th>\n",
       "      <td>3</td>\n",
       "    </tr>\n",
       "    <tr>\n",
       "      <th>2024-01-05</th>\n",
       "      <td>4</td>\n",
       "    </tr>\n",
       "    <tr>\n",
       "      <th>...</th>\n",
       "      <td>...</td>\n",
       "    </tr>\n",
       "    <tr>\n",
       "      <th>2024-03-27</th>\n",
       "      <td>86</td>\n",
       "    </tr>\n",
       "    <tr>\n",
       "      <th>2024-03-28</th>\n",
       "      <td>87</td>\n",
       "    </tr>\n",
       "    <tr>\n",
       "      <th>2024-03-29</th>\n",
       "      <td>88</td>\n",
       "    </tr>\n",
       "    <tr>\n",
       "      <th>2024-03-30</th>\n",
       "      <td>89</td>\n",
       "    </tr>\n",
       "    <tr>\n",
       "      <th>2024-03-31</th>\n",
       "      <td>90</td>\n",
       "    </tr>\n",
       "  </tbody>\n",
       "</table>\n",
       "<p>91 rows × 1 columns</p>\n",
       "</div>"
      ],
      "text/plain": [
       "            Value\n",
       "2024-01-01      0\n",
       "2024-01-02      1\n",
       "2024-01-03      2\n",
       "2024-01-04      3\n",
       "2024-01-05      4\n",
       "...           ...\n",
       "2024-03-27     86\n",
       "2024-03-28     87\n",
       "2024-03-29     88\n",
       "2024-03-30     89\n",
       "2024-03-31     90\n",
       "\n",
       "[91 rows x 1 columns]"
      ]
     },
     "execution_count": 17,
     "metadata": {},
     "output_type": "execute_result"
    }
   ],
   "source": [
    "# Example Dataframe with a dataframe index\n",
    "date_range = pd.date_range(start= \"2024-01-01\", end=\"2024-03-31\", freq=\"D\")\n",
    "# range returns the start and end \n",
    "df_time = pd.DataFrame({\"Value\": range(len(date_range))}, index=date_range)\n",
    "df_time"
   ]
  },
  {
   "cell_type": "code",
   "execution_count": 18,
   "id": "ab70cfeb-3f56-42d0-a061-d2f649472878",
   "metadata": {},
   "outputs": [
    {
     "data": {
      "text/html": [
       "<div>\n",
       "<style scoped>\n",
       "    .dataframe tbody tr th:only-of-type {\n",
       "        vertical-align: middle;\n",
       "    }\n",
       "\n",
       "    .dataframe tbody tr th {\n",
       "        vertical-align: top;\n",
       "    }\n",
       "\n",
       "    .dataframe thead th {\n",
       "        text-align: right;\n",
       "    }\n",
       "</style>\n",
       "<table border=\"1\" class=\"dataframe\">\n",
       "  <thead>\n",
       "    <tr style=\"text-align: right;\">\n",
       "      <th></th>\n",
       "      <th>Value</th>\n",
       "    </tr>\n",
       "  </thead>\n",
       "  <tbody>\n",
       "    <tr>\n",
       "      <th>2024-01-31</th>\n",
       "      <td>15.0</td>\n",
       "    </tr>\n",
       "    <tr>\n",
       "      <th>2024-02-29</th>\n",
       "      <td>45.0</td>\n",
       "    </tr>\n",
       "    <tr>\n",
       "      <th>2024-03-31</th>\n",
       "      <td>75.0</td>\n",
       "    </tr>\n",
       "  </tbody>\n",
       "</table>\n",
       "</div>"
      ],
      "text/plain": [
       "            Value\n",
       "2024-01-31   15.0\n",
       "2024-02-29   45.0\n",
       "2024-03-31   75.0"
      ]
     },
     "execution_count": 18,
     "metadata": {},
     "output_type": "execute_result"
    }
   ],
   "source": [
    "# resampling date to monthly mean\n",
    "monthly_mean = df_time.resample(\"M\").mean()\n",
    "monthly_mean"
   ]
  },
  {
   "cell_type": "markdown",
   "id": "0eaf3091-eb8b-4bf4-8aef-a63f4d4457fd",
   "metadata": {},
   "source": [
    "##### 1.5 Time Zone Handling\n",
    "- If you are working with data from different time zones, you can localize and convert time zones using Pandas."
   ]
  },
  {
   "cell_type": "markdown",
   "id": "055b3e28-4211-4e7e-9502-0fbbc153207e",
   "metadata": {},
   "source": [
    "##### 1.5.1 Localizing Time Zones\n",
    "Use **.dt_tz_localize()**"
   ]
  },
  {
   "cell_type": "code",
   "execution_count": 21,
   "id": "825c0870-ba0c-4d56-b91d-0bde837b1ff4",
   "metadata": {},
   "outputs": [
    {
     "data": {
      "text/html": [
       "<div>\n",
       "<style scoped>\n",
       "    .dataframe tbody tr th:only-of-type {\n",
       "        vertical-align: middle;\n",
       "    }\n",
       "\n",
       "    .dataframe tbody tr th {\n",
       "        vertical-align: top;\n",
       "    }\n",
       "\n",
       "    .dataframe thead th {\n",
       "        text-align: right;\n",
       "    }\n",
       "</style>\n",
       "<table border=\"1\" class=\"dataframe\">\n",
       "  <thead>\n",
       "    <tr style=\"text-align: right;\">\n",
       "      <th></th>\n",
       "      <th>Value</th>\n",
       "    </tr>\n",
       "  </thead>\n",
       "  <tbody>\n",
       "    <tr>\n",
       "      <th>2024-01-01 00:00:00+00:00</th>\n",
       "      <td>0</td>\n",
       "    </tr>\n",
       "    <tr>\n",
       "      <th>2024-01-02 00:00:00+00:00</th>\n",
       "      <td>1</td>\n",
       "    </tr>\n",
       "    <tr>\n",
       "      <th>2024-01-03 00:00:00+00:00</th>\n",
       "      <td>2</td>\n",
       "    </tr>\n",
       "    <tr>\n",
       "      <th>2024-01-04 00:00:00+00:00</th>\n",
       "      <td>3</td>\n",
       "    </tr>\n",
       "    <tr>\n",
       "      <th>2024-01-05 00:00:00+00:00</th>\n",
       "      <td>4</td>\n",
       "    </tr>\n",
       "    <tr>\n",
       "      <th>...</th>\n",
       "      <td>...</td>\n",
       "    </tr>\n",
       "    <tr>\n",
       "      <th>2024-03-27 00:00:00+00:00</th>\n",
       "      <td>86</td>\n",
       "    </tr>\n",
       "    <tr>\n",
       "      <th>2024-03-28 00:00:00+00:00</th>\n",
       "      <td>87</td>\n",
       "    </tr>\n",
       "    <tr>\n",
       "      <th>2024-03-29 00:00:00+00:00</th>\n",
       "      <td>88</td>\n",
       "    </tr>\n",
       "    <tr>\n",
       "      <th>2024-03-30 00:00:00+00:00</th>\n",
       "      <td>89</td>\n",
       "    </tr>\n",
       "    <tr>\n",
       "      <th>2024-03-31 00:00:00+00:00</th>\n",
       "      <td>90</td>\n",
       "    </tr>\n",
       "  </tbody>\n",
       "</table>\n",
       "<p>91 rows × 1 columns</p>\n",
       "</div>"
      ],
      "text/plain": [
       "                           Value\n",
       "2024-01-01 00:00:00+00:00      0\n",
       "2024-01-02 00:00:00+00:00      1\n",
       "2024-01-03 00:00:00+00:00      2\n",
       "2024-01-04 00:00:00+00:00      3\n",
       "2024-01-05 00:00:00+00:00      4\n",
       "...                          ...\n",
       "2024-03-27 00:00:00+00:00     86\n",
       "2024-03-28 00:00:00+00:00     87\n",
       "2024-03-29 00:00:00+00:00     88\n",
       "2024-03-30 00:00:00+00:00     89\n",
       "2024-03-31 00:00:00+00:00     90\n",
       "\n",
       "[91 rows x 1 columns]"
      ]
     },
     "execution_count": 21,
     "metadata": {},
     "output_type": "execute_result"
    }
   ],
   "source": [
    "# localize to UTC\n",
    "df_time.index = df_time.index.tz_localize(\"UTC\")\n",
    "df_time"
   ]
  },
  {
   "cell_type": "code",
   "execution_count": 22,
   "id": "fb4e7f59-1cf5-43ad-a983-7e8e9634049b",
   "metadata": {},
   "outputs": [
    {
     "name": "stdout",
     "output_type": "stream",
     "text": [
      "Timezone:\n"
     ]
    }
   ],
   "source": [
    "import pytz\n",
    "print(\"Timezone:\")\n",
    "africa_tz_list= []\n",
    "other_tz_list = []\n",
    "for time_zone in pytz.all_timezones:\n",
    "    if \"Africa\" in time_zone:\n",
    "        africa_tz_list.append(time_zone)\n",
    "    else:\n",
    "        other_tz_list.append(time_zone)"
   ]
  }
 ],
 "metadata": {
  "kernelspec": {
   "display_name": "Python 3 (ipykernel)",
   "language": "python",
   "name": "python3"
  },
  "language_info": {
   "codemirror_mode": {
    "name": "ipython",
    "version": 3
   },
   "file_extension": ".py",
   "mimetype": "text/x-python",
   "name": "python",
   "nbconvert_exporter": "python",
   "pygments_lexer": "ipython3",
   "version": "3.11.7"
  }
 },
 "nbformat": 4,
 "nbformat_minor": 5
}
