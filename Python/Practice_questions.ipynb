{
 "cells": [
  {
   "cell_type": "code",
   "execution_count": 1,
   "id": "55342256-ac46-48fd-8161-ba95ff80ceaf",
   "metadata": {},
   "outputs": [],
   "source": [
    "# First we are will import pandas as pd\n",
    "import pandas as pd"
   ]
  },
  {
   "cell_type": "markdown",
   "id": "71ac01b3-6b29-4150-a729-3b11546bee4a",
   "metadata": {},
   "source": [
    "###### 1. Write a Python function to find the maximum of three numbers."
   ]
  },
  {
   "cell_type": "code",
   "execution_count": 18,
   "id": "4b812f0d-3936-4898-b2ac-fc4c3e5ed10d",
   "metadata": {},
   "outputs": [
    {
     "data": {
      "text/plain": [
       "245"
      ]
     },
     "execution_count": 18,
     "metadata": {},
     "output_type": "execute_result"
    }
   ],
   "source": [
    "# \n",
    "# a = 245\n",
    "# b = 16\n",
    "# c = 89\n",
    "def find_maximum_num(a,b,c):\n",
    "    return max(a,b,c)\n",
    "find_maximum_num(245, 16,89)"
   ]
  },
  {
   "cell_type": "markdown",
   "id": "475f9a4f-b9a4-47b7-a57e-b92a88e187d3",
   "metadata": {},
   "source": [
    "##### 2.Write a Python function to sum all the numbers in a list.\n",
    "- Sample List : (8, 2, 3, 0, 7)\n",
    "- Expected Output : 20"
   ]
  },
  {
   "cell_type": "code",
   "execution_count": 62,
   "id": "62d27ad8-b5ec-40f3-9c9a-a47bab403acd",
   "metadata": {},
   "outputs": [],
   "source": [
    "def find_sum_of_nums(numbers):\n",
    "    total = 0\n",
    "    for num in numbers:\n",
    "        total += num\n",
    "    return total"
   ]
  },
  {
   "cell_type": "code",
   "execution_count": 66,
   "id": "08c49993-57d3-4e3a-ad33-00472db0c5a8",
   "metadata": {},
   "outputs": [
    {
     "data": {
      "text/plain": [
       "20"
      ]
     },
     "execution_count": 66,
     "metadata": {},
     "output_type": "execute_result"
    }
   ],
   "source": [
    "find_sum_of_nums([8,2,3,0,7])  "
   ]
  },
  {
   "cell_type": "code",
   "execution_count": 4,
   "id": "3408735f-4708-46db-9f63-fb1265fec3c4",
   "metadata": {},
   "outputs": [
    {
     "data": {
      "text/plain": [
       "20"
      ]
     },
     "execution_count": 4,
     "metadata": {},
     "output_type": "execute_result"
    }
   ],
   "source": [
    "def add_numbers(numbers):\n",
    "    return sum(numbers)\n",
    "add_numbers([8, 2, 3, 0, 7])   "
   ]
  },
  {
   "cell_type": "markdown",
   "id": "a4077878-aa89-454a-834b-0b5fc5d1ee86",
   "metadata": {},
   "source": [
    "##### 3.Write a Python function to multiply all the numbers in a list.\n",
    "- Sample List : (8, 2, 3, -1, 7)\n",
    "- Expected Output : -336"
   ]
  },
  {
   "cell_type": "code",
   "execution_count": 14,
   "id": "1290311a-1afc-472a-a667-dee6cb8b9482",
   "metadata": {},
   "outputs": [
    {
     "data": {
      "text/plain": [
       "448"
      ]
     },
     "execution_count": 14,
     "metadata": {},
     "output_type": "execute_result"
    }
   ],
   "source": [
    "# numbers = [8, 2, 3, -1, 7]\n",
    "def multiply_num(numbers):\n",
    "    multiple_of_num = 1\n",
    "    for num in numbers:\n",
    "        multiple_of_num *= num\n",
    "    return multiple_of_num \n",
    "multiply_num([4,7,8,2])       "
   ]
  },
  {
   "cell_type": "code",
   "execution_count": 8,
   "id": "0ff3455f-8616-498d-a117-a446f7d4b5fe",
   "metadata": {},
   "outputs": [
    {
     "data": {
      "text/plain": [
       "-336"
      ]
     },
     "execution_count": 8,
     "metadata": {},
     "output_type": "execute_result"
    }
   ],
   "source": [
    "def multiply_num(a,b,c,d,e):\n",
    "    multiple_of_num = a*b*c*d*e\n",
    "    return multiple_of_num\n",
    "multiply_num(8, 2, 3, -1, 7)    "
   ]
  },
  {
   "cell_type": "markdown",
   "id": "c9bc4996-dded-4149-afc7-e0190467ae87",
   "metadata": {},
   "source": [
    "##### 4.Write a Python program to reverse a string.\n",
    "- Sample String : \"1234abcd\"\n",
    "- Expected Output : \"dcba4321\""
   ]
  },
  {
   "cell_type": "code",
   "execution_count": 11,
   "id": "ee5a1642-6b68-459b-a0c7-178eb8563686",
   "metadata": {},
   "outputs": [
    {
     "data": {
      "text/plain": [
       "'dcba4321'"
      ]
     },
     "execution_count": 11,
     "metadata": {},
     "output_type": "execute_result"
    }
   ],
   "source": [
    "def reverse_string(str1):\n",
    "   return \"\".join(reversed(str1))\n",
    "reverse_string(\"1234abcd\")    "
   ]
  },
  {
   "cell_type": "code",
   "execution_count": 36,
   "id": "a65e174d-b4d5-4dc0-b278-0c1cb917de6d",
   "metadata": {},
   "outputs": [
    {
     "data": {
      "text/plain": [
       "'dcba4321'"
      ]
     },
     "execution_count": 36,
     "metadata": {},
     "output_type": "execute_result"
    }
   ],
   "source": [
    "my_string = \"1234abcd\"\n",
    "my_string[::-1]"
   ]
  },
  {
   "cell_type": "markdown",
   "id": "72b8adad-0960-4cb6-bf34-eb85c8ce04f3",
   "metadata": {},
   "source": [
    "##### 5.Write a Python function to check whether a number falls within a given range."
   ]
  },
  {
   "cell_type": "code",
   "execution_count": 38,
   "id": "47cadc4a-1e1a-470a-9403-2f21f29bf43d",
   "metadata": {},
   "outputs": [
    {
     "name": "stdout",
     "output_type": "stream",
     "text": [
      "12 is within range\n",
      "89 is within range\n",
      "76 is within range\n",
      "190 is not in range\n",
      "88 is within range\n",
      "56 is within range\n",
      "400 is not in range\n"
     ]
    }
   ],
   "source": [
    "my_range = range(1,100)\n",
    "my_list = [12,89,76,190,88,56,400]\n",
    "for num in my_list:\n",
    "    if num not in my_range:\n",
    "        print(f'{num} is not in range')  \n",
    "    else:\n",
    "        print(f'{num} is within range')\n"
   ]
  },
  {
   "cell_type": "code",
   "execution_count": 40,
   "id": "9e2ee6a3-b116-43b7-a387-cffee47e4d23",
   "metadata": {},
   "outputs": [
    {
     "data": {
      "text/plain": [
       "False"
      ]
     },
     "execution_count": 40,
     "metadata": {},
     "output_type": "execute_result"
    }
   ],
   "source": [
    "def within_range(num,start,end):\n",
    "    if num >= start and num <=end:\n",
    "        return True\n",
    "    else:\n",
    "        return False\n",
    "my_number = within_range(20,2,17)        \n",
    "my_number       "
   ]
  },
  {
   "cell_type": "code",
   "execution_count": 48,
   "id": "e7f60918-8cd4-41d3-96ff-b7f1d42b0ca7",
   "metadata": {},
   "outputs": [
    {
     "name": "stdout",
     "output_type": "stream",
     "text": [
      "34is in range\n"
     ]
    }
   ],
   "source": [
    "def within_range(number):\n",
    "    if number in range(10,100):\n",
    "        print(f'{number}is in range')\n",
    "    else:\n",
    "        print(f'{number} not in range')\n",
    "within_range(34)        "
   ]
  },
  {
   "cell_type": "markdown",
   "id": "49a16df0-2c20-46af-a328-4ed6288a2105",
   "metadata": {},
   "source": [
    "##### 6.Write a Python function that accepts a string and counts the number of upper and lower case letters.\n",
    "- Sample String : 'The quick Brow Fox'\n",
    "- Expected Output :\n",
    "- No. of Upper case characters : 3\n",
    "- No. of Lower case Characters : 12"
   ]
  },
  {
   "cell_type": "code",
   "execution_count": 52,
   "id": "4f721771-3980-4cd2-a0d2-6459adae0560",
   "metadata": {},
   "outputs": [
    {
     "data": {
      "text/plain": [
       "(12, 3)"
      ]
     },
     "execution_count": 52,
     "metadata": {},
     "output_type": "execute_result"
    }
   ],
   "source": [
    "def check_string(str):\n",
    "    lower_case = 0\n",
    "    upper_case = 0\n",
    "    for char in str:\n",
    "        if char.islower():\n",
    "            lower_case += 1\n",
    "        elif char.isupper():\n",
    "            upper_case += 1\n",
    "    return lower_case, upper_case\n",
    "check_string(\"The quick Brow Fox\")\n",
    "#print(f'The No. of lower case characters {lower_case}\\n No.of upper case character {upper_case}')         "
   ]
  },
  {
   "cell_type": "markdown",
   "id": "d73d32c9-56d4-4d56-bfb6-3f0a66066eb8",
   "metadata": {},
   "source": [
    "###### 7.Write a Python function that takes a list and returns a new list with distinct elements from the first list.\n",
    "- Sample List : [1,2,3,3,3,3,4,5]\n",
    "- Unique List : [1, 2, 3, 4, 5]"
   ]
  },
  {
   "cell_type": "code",
   "execution_count": 56,
   "id": "9bfe3a85-301e-4713-b27b-f80344ec125d",
   "metadata": {},
   "outputs": [
    {
     "data": {
      "text/plain": [
       "[1, 2, 3, 4, 5]"
      ]
     },
     "execution_count": 56,
     "metadata": {},
     "output_type": "execute_result"
    }
   ],
   "source": [
    "def unique_elements(sample_list):\n",
    "    return list(set(sample_list))\n",
    "new_list = unique_elements([1,2,3,3,3,3,4,5])\n",
    "new_list"
   ]
  },
  {
   "cell_type": "markdown",
   "id": "7806660c-bf82-42e8-897c-783689c3d08f",
   "metadata": {},
   "source": [
    "###### 8.Write a Python program to print a specified list after removing the 0th, 4th and 5th elements.\n",
    "- Sample List : ['Red', 'Green', 'White', 'Black', 'Pink', 'Yellow']\n",
    "- Expected Output : ['Green', 'White', 'Black']"
   ]
  },
  {
   "cell_type": "code",
   "execution_count": 22,
   "id": "3ca25b27-2417-4868-acd4-70c64d5bcb0f",
   "metadata": {},
   "outputs": [
    {
     "data": {
      "text/plain": [
       "['Green', 'White', 'Black']"
      ]
     },
     "execution_count": 22,
     "metadata": {},
     "output_type": "execute_result"
    }
   ],
   "source": [
    "sample_list = ['Red', 'Green', 'White', 'Black', 'Pink', 'Yellow']\n",
    "expected_output = sample_list[1:4]\n",
    "expected_output"
   ]
  },
  {
   "cell_type": "code",
   "execution_count": 23,
   "id": "137c1f7e-d0cf-4a72-b55a-172d24694b10",
   "metadata": {},
   "outputs": [
    {
     "data": {
      "text/plain": [
       "['Green', 'White', 'Black']"
      ]
     },
     "execution_count": 23,
     "metadata": {},
     "output_type": "execute_result"
    }
   ],
   "source": [
    "def removed_items(sample_list):\n",
    "    return sample_list[1:4]\n",
    "expected_output = removed_items(sample_list)\n",
    "expected_output"
   ]
  },
  {
   "cell_type": "markdown",
   "id": "864b9c2d-c58b-4d21-a028-575b32e43b9a",
   "metadata": {},
   "source": [
    "###### 9. Write a Python script to sort (ascending and descending) a dictionary by value."
   ]
  },
  {
   "cell_type": "code",
   "execution_count": 60,
   "id": "2afc1052-46c2-4055-91e3-febdedf5ce13",
   "metadata": {},
   "outputs": [
    {
     "data": {
      "text/plain": [
       "{2: 20, 1: 10}"
      ]
     },
     "execution_count": 60,
     "metadata": {},
     "output_type": "execute_result"
    }
   ],
   "source": [
    "dict1={1:10, 2:20} \n",
    "my_sorted_dict = sorted(dict1.items(), key = lambda i: i[1], reverse = True)\n",
    "sorted_dict_1 = dict(my_sorted_dict)\n",
    "sorted_dict_1 "
   ]
  },
  {
   "cell_type": "markdown",
   "id": "6da98579-cbe6-4eec-8458-aaa5ccea7185",
   "metadata": {},
   "source": [
    "###### 10. ⁠Write a Python script to concatenate the following dictionaries to create a new one.\n",
    "\n",
    "- Sample Dictionary :\n",
    "dic1={1:10, 2:20}\n",
    "dic2={3:30, 4:40}\n",
    "dic3={5:50,6:60}\n",
    "Expected Result : {1: 10, 2: 20, 3: 30, 4: 40, 5: 50, 6: 60}"
   ]
  },
  {
   "cell_type": "code",
   "execution_count": 30,
   "id": "342d80fd-e038-4ea9-81aa-d76e96a39dff",
   "metadata": {},
   "outputs": [
    {
     "data": {
      "text/plain": [
       "{1: 10, 2: 20, 3: 30, 4: 40, 5: 50, 6: 60}"
      ]
     },
     "execution_count": 30,
     "metadata": {},
     "output_type": "execute_result"
    }
   ],
   "source": [
    "dic1={1:10, 2:20} \n",
    "dic2={3:30, 4:40} \n",
    "dic3={5:50,6:60} \n",
    "# Expected Result : {1: 10, 2: 20, 3: 30, 4: 40, 5: 50, 6: 60}\n",
    "# new_dic = {**dic1,**dic2,**dic3}\n",
    "# new_dic\n",
    "new_dic = dic1|dic2|dic3\n",
    "new_dic"
   ]
  }
 ],
 "metadata": {
  "kernelspec": {
   "display_name": "Python 3 (ipykernel)",
   "language": "python",
   "name": "python3"
  },
  "language_info": {
   "codemirror_mode": {
    "name": "ipython",
    "version": 3
   },
   "file_extension": ".py",
   "mimetype": "text/x-python",
   "name": "python",
   "nbconvert_exporter": "python",
   "pygments_lexer": "ipython3",
   "version": "3.11.7"
  }
 },
 "nbformat": 4,
 "nbformat_minor": 5
}
