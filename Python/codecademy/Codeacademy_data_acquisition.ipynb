{
 "cells": [
  {
   "cell_type": "markdown",
   "id": "6e0de0b9-039f-43ac-a831-6b0aa07d110c",
   "metadata": {},
   "source": [
    "#### How to pull data with codeacademy"
   ]
  },
  {
   "cell_type": "code",
   "execution_count": 2,
   "id": "989662bf-34c2-4e23-9e48-e1a05577cd03",
   "metadata": {},
   "outputs": [],
   "source": [
    "import requests"
   ]
  },
  {
   "cell_type": "code",
   "execution_count": 6,
   "id": "3acbe81a-7ec8-4025-90fb-92858bce7c92",
   "metadata": {},
   "outputs": [
    {
     "name": "stdout",
     "output_type": "stream",
     "text": [
      "[[\"NAME\",\"B08303_001E\",\"state\"],\n",
      "[\"Pennsylvania\",\"5652158\",\"42\"],\n",
      "[\"California\",\"16710195\",\"06\"],\n",
      "[\"West Virginia\",\"697042\",\"54\"],\n",
      "[\"Utah\",\"1378826\",\"49\"],\n",
      "[\"New York\",\"8584828\",\"36\"],\n",
      "[\"District of Columbia\",\"332618\",\"11\"],\n",
      "[\"Alaska\",\"330203\",\"02\"],\n",
      "[\"Florida\",\"8817718\",\"12\"],\n",
      "[\"South Carolina\",\"2174285\",\"45\"],\n",
      "[\"North Dakota\",\"380227\",\"38\"],\n",
      "[\"Maine\",\"608861\",\"23\"],\n",
      "[\"Georgia\",\"4475685\",\"13\"],\n",
      "[\"Alabama\",\"2002359\",\"01\"],\n",
      "[\"New Hampshire\",\"656277\",\"33\"],\n",
      "[\"Oregon\",\"1790252\",\"41\"],\n",
      "[\"Wyoming\",\"267249\",\"56\"],\n",
      "[\"Arizona\",\"2897654\",\"04\"],\n",
      "[\"Louisiana\",\"1917930\",\"22\"],\n",
      "[\"Indiana\",\"2985939\",\"18\"],\n",
      "[\"Idaho\",\"744565\",\"16\"],\n",
      "[\"Connecticut\",\"1641807\",\"09\"],\n",
      "[\"Hawaii\",\"657643\",\"15\"],\n",
      "[\"Illinois\",\"5686627\",\"17\"],\n",
      "[\"Massachusetts\",\"3251466\",\"25\"],\n",
      "[\"Texas\",\"12371575\",\"48\"],\n",
      "[\"Montana\",\"471094\",\"30\"],\n",
      "[\"Nebraska\",\"928064\",\"31\"],\n",
      "[\"Ohio\",\"5163570\",\"39\"],\n",
      "[\"Colorado\",\"2604698\",\"08\"],\n",
      "[\"New Jersey\",\"4016070\",\"34\"],\n",
      "[\"Maryland\",\"2799889\",\"24\"],\n",
      "[\"Virginia\",\"3883690\",\"51\"],\n",
      "[\"Vermont\",\"292982\",\"50\"],\n",
      "[\"North Carolina\",\"4458769\",\"37\"],\n",
      "[\"Arkansas\",\"1238100\",\"05\"],\n",
      "[\"Washington\",\"3302637\",\"53\"],\n",
      "[\"Kansas\",\"1345103\",\"20\"],\n",
      "[\"Oklahoma\",\"1674019\",\"40\"],\n",
      "[\"Wisconsin\",\"2747826\",\"55\"],\n",
      "[\"Mississippi\",\"1193668\",\"28\"],\n",
      "[\"Missouri\",\"2707728\",\"29\"],\n",
      "[\"Michigan\",\"4288646\",\"26\"],\n",
      "[\"Rhode Island\",\"495214\",\"44\"],\n",
      "[\"Minnesota\",\"2654657\",\"27\"],\n",
      "[\"Iowa\",\"1482217\",\"19\"],\n",
      "[\"New Mexico\",\"829659\",\"35\"],\n",
      "[\"Nevada\",\"1321596\",\"32\"],\n",
      "[\"Delaware\",\"419600\",\"10\"],\n",
      "[\"Puerto Rico\",\"969379\",\"72\"],\n",
      "[\"Kentucky\",\"1858458\",\"21\"],\n",
      "[\"South Dakota\",\"411590\",\"46\"],\n",
      "[\"Tennessee\",\"2909026\",\"47\"]]\n"
     ]
    }
   ],
   "source": [
    "r=requests.get('https://api.census.gov/data/2020/acs/acs5?get=NAME,B08303_001E&for=state:*')\n",
    "print (r.text)"
   ]
  },
  {
   "cell_type": "code",
   "execution_count": 8,
   "id": "e1212f60-976b-465d-8476-f73ac69edcc1",
   "metadata": {},
   "outputs": [],
   "source": [
    "import requests"
   ]
  },
  {
   "cell_type": "code",
   "execution_count": null,
   "id": "868f699b-7a57-4bec-8c2b-dea92069a141",
   "metadata": {},
   "outputs": [],
   "source": []
  }
 ],
 "metadata": {
  "kernelspec": {
   "display_name": "Python 3 (ipykernel)",
   "language": "python",
   "name": "python3"
  },
  "language_info": {
   "codemirror_mode": {
    "name": "ipython",
    "version": 3
   },
   "file_extension": ".py",
   "mimetype": "text/x-python",
   "name": "python",
   "nbconvert_exporter": "python",
   "pygments_lexer": "ipython3",
   "version": "3.11.7"
  }
 },
 "nbformat": 4,
 "nbformat_minor": 5
}
