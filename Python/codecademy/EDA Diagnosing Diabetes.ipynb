{
 "cells": [
  {
   "cell_type": "markdown",
   "id": "f4c71b09",
   "metadata": {},
   "source": [
    "# EDA: Diagnosing Diabetes"
   ]
  },
  {
   "cell_type": "markdown",
   "id": "7cf00067",
   "metadata": {},
   "source": [
    "In this project, you'll imagine you are a data scientist interested in exploring data that looks at how certain diagnostic factors affect the diabetes outcome of women patients.\n",
    "\n",
    "You will use your EDA skills to help inspect, clean, and validate the data.\n",
    "\n",
    "**Note**: This [dataset](https://www.kaggle.com/uciml/pima-indians-diabetes-database) is from the National Institute of Diabetes and Digestive and Kidney Diseases. It contains the following columns:\n",
    "\n",
    "- `Pregnancies`: Number of times pregnant\n",
    "- `Glucose`: Plasma glucose concentration per 2 hours in an oral glucose tolerance test\n",
    "- `BloodPressure`: Diastolic blood pressure\n",
    "- `SkinThickness`: Triceps skinfold thickness\n",
    "- `Insulin`: 2-Hour serum insulin\n",
    "- `BMI`: Body mass index\n",
    "- `DiabetesPedigreeFunction`: Diabetes pedigree function\n",
    "- `Age`: Age (years)\n",
    "- `Outcome`: Class variable (0 or 1)\n",
    "\n",
    "Let's get started!"
   ]
  },
  {
   "cell_type": "markdown",
   "id": "6e1cc217",
   "metadata": {},
   "source": [
    "## Initial Inspection"
   ]
  },
  {
   "cell_type": "markdown",
   "id": "76684c5b",
   "metadata": {},
   "source": [
    "1. First, familiarize yourself with the dataset [here](https://www.kaggle.com/uciml/pima-indians-diabetes-database).\n",
    "\n",
    "   Look at each of the nine columns in the documentation.\n",
    "   \n",
    "   What do you expect each data type to be?"
   ]
  },
  {
   "cell_type": "markdown",
   "id": "f7bdb023",
   "metadata": {},
   "source": [
    "Expected data type for each column:\n",
    "\n",
    "- `Pregnancies`: \n",
    "- `Glucose`: \n",
    "- `BloodPressure`: \n",
    "- `SkinThickness`: \n",
    "- `Insulin`: \n",
    "- `BMI`: \n",
    "- `DiabetesPedigreeFunction`: \n",
    "- `Age`: \n",
    "- `Outcome`: "
   ]
  },
  {
   "cell_type": "markdown",
   "id": "fc54249b",
   "metadata": {},
   "source": [
    "2. Next, let's load in the diabetes data to start exploring.\n",
    "\n",
    "   Load the data in a variable called `diabetes_data` and print the first few rows.\n",
    "   \n",
    "   **Note**: The data is stored in a file called `diabetes.csv`."
   ]
  },
  {
   "cell_type": "code",
   "execution_count": 12,
   "id": "4839762f",
   "metadata": {},
   "outputs": [
    {
     "ename": "FileNotFoundError",
     "evalue": "[Errno 2] No such file or directory: 'diabetes.csv'",
     "output_type": "error",
     "traceback": [
      "\u001b[1;31m---------------------------------------------------------------------------\u001b[0m",
      "\u001b[1;31mFileNotFoundError\u001b[0m                         Traceback (most recent call last)",
      "Cell \u001b[1;32mIn[12], line 5\u001b[0m\n\u001b[0;32m      1\u001b[0m \u001b[38;5;28;01mimport\u001b[39;00m \u001b[38;5;21;01mpandas\u001b[39;00m \u001b[38;5;28;01mas\u001b[39;00m \u001b[38;5;21;01mpd\u001b[39;00m\n\u001b[0;32m      2\u001b[0m \u001b[38;5;66;03m# import numpy as np\u001b[39;00m\n\u001b[0;32m      3\u001b[0m \n\u001b[0;32m      4\u001b[0m \u001b[38;5;66;03m# load in data \u001b[39;00m\n\u001b[1;32m----> 5\u001b[0m diabetes_data \u001b[38;5;241m=\u001b[39m pd\u001b[38;5;241m.\u001b[39mread_csv(\u001b[38;5;124m'\u001b[39m\u001b[38;5;124mdiabetes.csv\u001b[39m\u001b[38;5;124m'\u001b[39m)\n\u001b[0;32m      6\u001b[0m \u001b[38;5;28mprint\u001b[39m(diabetes_data\u001b[38;5;241m.\u001b[39mhead())\n",
      "File \u001b[1;32m~\\anaconda3\\Lib\\site-packages\\pandas\\io\\parsers\\readers.py:948\u001b[0m, in \u001b[0;36mread_csv\u001b[1;34m(filepath_or_buffer, sep, delimiter, header, names, index_col, usecols, dtype, engine, converters, true_values, false_values, skipinitialspace, skiprows, skipfooter, nrows, na_values, keep_default_na, na_filter, verbose, skip_blank_lines, parse_dates, infer_datetime_format, keep_date_col, date_parser, date_format, dayfirst, cache_dates, iterator, chunksize, compression, thousands, decimal, lineterminator, quotechar, quoting, doublequote, escapechar, comment, encoding, encoding_errors, dialect, on_bad_lines, delim_whitespace, low_memory, memory_map, float_precision, storage_options, dtype_backend)\u001b[0m\n\u001b[0;32m    935\u001b[0m kwds_defaults \u001b[38;5;241m=\u001b[39m _refine_defaults_read(\n\u001b[0;32m    936\u001b[0m     dialect,\n\u001b[0;32m    937\u001b[0m     delimiter,\n\u001b[1;32m   (...)\u001b[0m\n\u001b[0;32m    944\u001b[0m     dtype_backend\u001b[38;5;241m=\u001b[39mdtype_backend,\n\u001b[0;32m    945\u001b[0m )\n\u001b[0;32m    946\u001b[0m kwds\u001b[38;5;241m.\u001b[39mupdate(kwds_defaults)\n\u001b[1;32m--> 948\u001b[0m \u001b[38;5;28;01mreturn\u001b[39;00m _read(filepath_or_buffer, kwds)\n",
      "File \u001b[1;32m~\\anaconda3\\Lib\\site-packages\\pandas\\io\\parsers\\readers.py:611\u001b[0m, in \u001b[0;36m_read\u001b[1;34m(filepath_or_buffer, kwds)\u001b[0m\n\u001b[0;32m    608\u001b[0m _validate_names(kwds\u001b[38;5;241m.\u001b[39mget(\u001b[38;5;124m\"\u001b[39m\u001b[38;5;124mnames\u001b[39m\u001b[38;5;124m\"\u001b[39m, \u001b[38;5;28;01mNone\u001b[39;00m))\n\u001b[0;32m    610\u001b[0m \u001b[38;5;66;03m# Create the parser.\u001b[39;00m\n\u001b[1;32m--> 611\u001b[0m parser \u001b[38;5;241m=\u001b[39m TextFileReader(filepath_or_buffer, \u001b[38;5;241m*\u001b[39m\u001b[38;5;241m*\u001b[39mkwds)\n\u001b[0;32m    613\u001b[0m \u001b[38;5;28;01mif\u001b[39;00m chunksize \u001b[38;5;129;01mor\u001b[39;00m iterator:\n\u001b[0;32m    614\u001b[0m     \u001b[38;5;28;01mreturn\u001b[39;00m parser\n",
      "File \u001b[1;32m~\\anaconda3\\Lib\\site-packages\\pandas\\io\\parsers\\readers.py:1448\u001b[0m, in \u001b[0;36mTextFileReader.__init__\u001b[1;34m(self, f, engine, **kwds)\u001b[0m\n\u001b[0;32m   1445\u001b[0m     \u001b[38;5;28mself\u001b[39m\u001b[38;5;241m.\u001b[39moptions[\u001b[38;5;124m\"\u001b[39m\u001b[38;5;124mhas_index_names\u001b[39m\u001b[38;5;124m\"\u001b[39m] \u001b[38;5;241m=\u001b[39m kwds[\u001b[38;5;124m\"\u001b[39m\u001b[38;5;124mhas_index_names\u001b[39m\u001b[38;5;124m\"\u001b[39m]\n\u001b[0;32m   1447\u001b[0m \u001b[38;5;28mself\u001b[39m\u001b[38;5;241m.\u001b[39mhandles: IOHandles \u001b[38;5;241m|\u001b[39m \u001b[38;5;28;01mNone\u001b[39;00m \u001b[38;5;241m=\u001b[39m \u001b[38;5;28;01mNone\u001b[39;00m\n\u001b[1;32m-> 1448\u001b[0m \u001b[38;5;28mself\u001b[39m\u001b[38;5;241m.\u001b[39m_engine \u001b[38;5;241m=\u001b[39m \u001b[38;5;28mself\u001b[39m\u001b[38;5;241m.\u001b[39m_make_engine(f, \u001b[38;5;28mself\u001b[39m\u001b[38;5;241m.\u001b[39mengine)\n",
      "File \u001b[1;32m~\\anaconda3\\Lib\\site-packages\\pandas\\io\\parsers\\readers.py:1705\u001b[0m, in \u001b[0;36mTextFileReader._make_engine\u001b[1;34m(self, f, engine)\u001b[0m\n\u001b[0;32m   1703\u001b[0m     \u001b[38;5;28;01mif\u001b[39;00m \u001b[38;5;124m\"\u001b[39m\u001b[38;5;124mb\u001b[39m\u001b[38;5;124m\"\u001b[39m \u001b[38;5;129;01mnot\u001b[39;00m \u001b[38;5;129;01min\u001b[39;00m mode:\n\u001b[0;32m   1704\u001b[0m         mode \u001b[38;5;241m+\u001b[39m\u001b[38;5;241m=\u001b[39m \u001b[38;5;124m\"\u001b[39m\u001b[38;5;124mb\u001b[39m\u001b[38;5;124m\"\u001b[39m\n\u001b[1;32m-> 1705\u001b[0m \u001b[38;5;28mself\u001b[39m\u001b[38;5;241m.\u001b[39mhandles \u001b[38;5;241m=\u001b[39m get_handle(\n\u001b[0;32m   1706\u001b[0m     f,\n\u001b[0;32m   1707\u001b[0m     mode,\n\u001b[0;32m   1708\u001b[0m     encoding\u001b[38;5;241m=\u001b[39m\u001b[38;5;28mself\u001b[39m\u001b[38;5;241m.\u001b[39moptions\u001b[38;5;241m.\u001b[39mget(\u001b[38;5;124m\"\u001b[39m\u001b[38;5;124mencoding\u001b[39m\u001b[38;5;124m\"\u001b[39m, \u001b[38;5;28;01mNone\u001b[39;00m),\n\u001b[0;32m   1709\u001b[0m     compression\u001b[38;5;241m=\u001b[39m\u001b[38;5;28mself\u001b[39m\u001b[38;5;241m.\u001b[39moptions\u001b[38;5;241m.\u001b[39mget(\u001b[38;5;124m\"\u001b[39m\u001b[38;5;124mcompression\u001b[39m\u001b[38;5;124m\"\u001b[39m, \u001b[38;5;28;01mNone\u001b[39;00m),\n\u001b[0;32m   1710\u001b[0m     memory_map\u001b[38;5;241m=\u001b[39m\u001b[38;5;28mself\u001b[39m\u001b[38;5;241m.\u001b[39moptions\u001b[38;5;241m.\u001b[39mget(\u001b[38;5;124m\"\u001b[39m\u001b[38;5;124mmemory_map\u001b[39m\u001b[38;5;124m\"\u001b[39m, \u001b[38;5;28;01mFalse\u001b[39;00m),\n\u001b[0;32m   1711\u001b[0m     is_text\u001b[38;5;241m=\u001b[39mis_text,\n\u001b[0;32m   1712\u001b[0m     errors\u001b[38;5;241m=\u001b[39m\u001b[38;5;28mself\u001b[39m\u001b[38;5;241m.\u001b[39moptions\u001b[38;5;241m.\u001b[39mget(\u001b[38;5;124m\"\u001b[39m\u001b[38;5;124mencoding_errors\u001b[39m\u001b[38;5;124m\"\u001b[39m, \u001b[38;5;124m\"\u001b[39m\u001b[38;5;124mstrict\u001b[39m\u001b[38;5;124m\"\u001b[39m),\n\u001b[0;32m   1713\u001b[0m     storage_options\u001b[38;5;241m=\u001b[39m\u001b[38;5;28mself\u001b[39m\u001b[38;5;241m.\u001b[39moptions\u001b[38;5;241m.\u001b[39mget(\u001b[38;5;124m\"\u001b[39m\u001b[38;5;124mstorage_options\u001b[39m\u001b[38;5;124m\"\u001b[39m, \u001b[38;5;28;01mNone\u001b[39;00m),\n\u001b[0;32m   1714\u001b[0m )\n\u001b[0;32m   1715\u001b[0m \u001b[38;5;28;01massert\u001b[39;00m \u001b[38;5;28mself\u001b[39m\u001b[38;5;241m.\u001b[39mhandles \u001b[38;5;129;01mis\u001b[39;00m \u001b[38;5;129;01mnot\u001b[39;00m \u001b[38;5;28;01mNone\u001b[39;00m\n\u001b[0;32m   1716\u001b[0m f \u001b[38;5;241m=\u001b[39m \u001b[38;5;28mself\u001b[39m\u001b[38;5;241m.\u001b[39mhandles\u001b[38;5;241m.\u001b[39mhandle\n",
      "File \u001b[1;32m~\\anaconda3\\Lib\\site-packages\\pandas\\io\\common.py:863\u001b[0m, in \u001b[0;36mget_handle\u001b[1;34m(path_or_buf, mode, encoding, compression, memory_map, is_text, errors, storage_options)\u001b[0m\n\u001b[0;32m    858\u001b[0m \u001b[38;5;28;01melif\u001b[39;00m \u001b[38;5;28misinstance\u001b[39m(handle, \u001b[38;5;28mstr\u001b[39m):\n\u001b[0;32m    859\u001b[0m     \u001b[38;5;66;03m# Check whether the filename is to be opened in binary mode.\u001b[39;00m\n\u001b[0;32m    860\u001b[0m     \u001b[38;5;66;03m# Binary mode does not support 'encoding' and 'newline'.\u001b[39;00m\n\u001b[0;32m    861\u001b[0m     \u001b[38;5;28;01mif\u001b[39;00m ioargs\u001b[38;5;241m.\u001b[39mencoding \u001b[38;5;129;01mand\u001b[39;00m \u001b[38;5;124m\"\u001b[39m\u001b[38;5;124mb\u001b[39m\u001b[38;5;124m\"\u001b[39m \u001b[38;5;129;01mnot\u001b[39;00m \u001b[38;5;129;01min\u001b[39;00m ioargs\u001b[38;5;241m.\u001b[39mmode:\n\u001b[0;32m    862\u001b[0m         \u001b[38;5;66;03m# Encoding\u001b[39;00m\n\u001b[1;32m--> 863\u001b[0m         handle \u001b[38;5;241m=\u001b[39m \u001b[38;5;28mopen\u001b[39m(\n\u001b[0;32m    864\u001b[0m             handle,\n\u001b[0;32m    865\u001b[0m             ioargs\u001b[38;5;241m.\u001b[39mmode,\n\u001b[0;32m    866\u001b[0m             encoding\u001b[38;5;241m=\u001b[39mioargs\u001b[38;5;241m.\u001b[39mencoding,\n\u001b[0;32m    867\u001b[0m             errors\u001b[38;5;241m=\u001b[39merrors,\n\u001b[0;32m    868\u001b[0m             newline\u001b[38;5;241m=\u001b[39m\u001b[38;5;124m\"\u001b[39m\u001b[38;5;124m\"\u001b[39m,\n\u001b[0;32m    869\u001b[0m         )\n\u001b[0;32m    870\u001b[0m     \u001b[38;5;28;01melse\u001b[39;00m:\n\u001b[0;32m    871\u001b[0m         \u001b[38;5;66;03m# Binary mode\u001b[39;00m\n\u001b[0;32m    872\u001b[0m         handle \u001b[38;5;241m=\u001b[39m \u001b[38;5;28mopen\u001b[39m(handle, ioargs\u001b[38;5;241m.\u001b[39mmode)\n",
      "\u001b[1;31mFileNotFoundError\u001b[0m: [Errno 2] No such file or directory: 'diabetes.csv'"
     ]
    }
   ],
   "source": [
    "import pandas as pd\n",
    "# import numpy as np\n",
    "\n",
    "# load in data \n",
    "diabetes_data = pd.read_csv('diabetes.csv')\n",
    "print(diabetes_data.head())"
   ]
  },
  {
   "cell_type": "markdown",
   "id": "90d35b44",
   "metadata": {},
   "source": [
    "3. How many columns (features) does the data contain?"
   ]
  },
  {
   "cell_type": "code",
   "execution_count": 14,
   "id": "c7fc98c4",
   "metadata": {},
   "outputs": [
    {
     "ename": "NameError",
     "evalue": "name 'diabetes_data' is not defined",
     "output_type": "error",
     "traceback": [
      "\u001b[1;31m---------------------------------------------------------------------------\u001b[0m",
      "\u001b[1;31mNameError\u001b[0m                                 Traceback (most recent call last)",
      "Cell \u001b[1;32mIn[14], line 2\u001b[0m\n\u001b[0;32m      1\u001b[0m \u001b[38;5;66;03m# print number of columns\u001b[39;00m\n\u001b[1;32m----> 2\u001b[0m diabetes_data\u001b[38;5;241m.\u001b[39mshape()\n",
      "\u001b[1;31mNameError\u001b[0m: name 'diabetes_data' is not defined"
     ]
    }
   ],
   "source": [
    "# print number of columns\n",
    "diabetes_data.shape()"
   ]
  },
  {
   "cell_type": "markdown",
   "id": "35d2bf80",
   "metadata": {},
   "source": [
    "4. How many rows (observations) does the data contain?"
   ]
  },
  {
   "cell_type": "code",
   "execution_count": null,
   "id": "190b7a90",
   "metadata": {},
   "outputs": [],
   "source": [
    "# print number of rows\n"
   ]
  },
  {
   "cell_type": "markdown",
   "id": "65d8ddf0",
   "metadata": {},
   "source": [
    "## Further Inspection"
   ]
  },
  {
   "cell_type": "markdown",
   "id": "04e3c6ef",
   "metadata": {},
   "source": [
    "5. Let's inspect `diabetes_data` further.\n",
    "\n",
    "   Do any of the columns in the data contain null (missing) values?"
   ]
  },
  {
   "cell_type": "code",
   "execution_count": null,
   "id": "d0fa3860",
   "metadata": {},
   "outputs": [],
   "source": [
    "# find whether columns contain null values\n"
   ]
  },
  {
   "cell_type": "markdown",
   "id": "8ee62c01",
   "metadata": {},
   "source": [
    "6. If you answered no to the question above, not so fast!\n",
    "\n",
    "   While it's technically true that none of the columns contain null values, that doesn't necessarily mean that the data isn't missing any values.\n",
    "   \n",
    "   When exploring data, you should always question your assumptions and try to dig deeper.\n",
    "   \n",
    "   To investigate further, calculate summary statistics on `diabetes_data` using the `.describe()` method."
   ]
  },
  {
   "cell_type": "code",
   "execution_count": null,
   "id": "451efb00",
   "metadata": {},
   "outputs": [],
   "source": [
    "# perform summary statistics\n"
   ]
  },
  {
   "cell_type": "markdown",
   "id": "ad900272",
   "metadata": {},
   "source": [
    "7. Looking at the summary statistics, do you notice anything odd about the following columns?\n",
    "\n",
    "   - `Glucose`\n",
    "   - `BloodPressure`\n",
    "   - `SkinThickness`\n",
    "   - `Insulin`\n",
    "   - `BMI`"
   ]
  },
  {
   "cell_type": "markdown",
   "id": "7131eacb",
   "metadata": {},
   "source": [
    "**Your response to question 7**:"
   ]
  },
  {
   "cell_type": "markdown",
   "id": "3ed15b79",
   "metadata": {},
   "source": [
    "8. Do you spot any other outliers in the data?"
   ]
  },
  {
   "cell_type": "markdown",
   "id": "8a708e88",
   "metadata": {},
   "source": [
    "**Your response to question 8**:"
   ]
  },
  {
   "cell_type": "markdown",
   "id": "4b5bcf47",
   "metadata": {},
   "source": [
    "9. Let's see if we can get a more accurate view of the missing values in the data.\n",
    "\n",
    "   Use the following code to replace the instances of `0` with `NaN` in the five columns mentioned:\n",
    "   \n",
    "   ```py\n",
    "   diabetes_data[['Glucose', 'BloodPressure', 'SkinThickness', 'Insulin', 'BMI']] = diabetes_data[['Glucose', 'BloodPressure', 'SkinThickness', 'Insulin', 'BMI']].replace(0, np.NaN)\n",
    "   ```"
   ]
  },
  {
   "cell_type": "code",
   "execution_count": null,
   "id": "623def40",
   "metadata": {},
   "outputs": [],
   "source": [
    "# replace instances of 0 with NaN\n"
   ]
  },
  {
   "cell_type": "markdown",
   "id": "ad9fc71d",
   "metadata": {},
   "source": [
    "10. Next, check for missing (null) values in all of the columns just like you did in Step 5.\n",
    "\n",
    "    Now how many missing values are there?"
   ]
  },
  {
   "cell_type": "code",
   "execution_count": null,
   "id": "1e4d2845",
   "metadata": {},
   "outputs": [],
   "source": [
    "# find whether columns contain null values after replacements are made\n"
   ]
  },
  {
   "cell_type": "markdown",
   "id": "4265329e",
   "metadata": {},
   "source": [
    "11. Let's take a closer look at these rows to get a better idea of _why_ some data might be missing.\n",
    "\n",
    "    Print out all the rows that contain missing (null) values."
   ]
  },
  {
   "cell_type": "code",
   "execution_count": null,
   "id": "91f5b1fe",
   "metadata": {},
   "outputs": [],
   "source": [
    "# print rows with missing values\n"
   ]
  },
  {
   "cell_type": "markdown",
   "id": "e3f06a2e",
   "metadata": {},
   "source": [
    "12. Go through the rows with missing data. Do you notice any patterns or overlaps between the missing data?"
   ]
  },
  {
   "cell_type": "markdown",
   "id": "cb42cfe6",
   "metadata": {},
   "source": [
    "**Your response to question 12**:"
   ]
  },
  {
   "cell_type": "markdown",
   "id": "5b597d09",
   "metadata": {},
   "source": [
    "13. Next, take a closer look at the data types of each column in `diabetes_data`.\n",
    "\n",
    "    Does the result match what you would expect?"
   ]
  },
  {
   "cell_type": "code",
   "execution_count": null,
   "id": "5855aa09",
   "metadata": {},
   "outputs": [],
   "source": [
    "# print data types using .info() method\n"
   ]
  },
  {
   "cell_type": "markdown",
   "id": "c61b8b02",
   "metadata": {},
   "source": [
    "14. To figure out why the `Outcome` column is of type `object` (string) instead of type `int64`, print out the unique values in the `Outcome` column."
   ]
  },
  {
   "cell_type": "code",
   "execution_count": null,
   "id": "ffedd117",
   "metadata": {},
   "outputs": [],
   "source": [
    "# print unique values of Outcome column\n"
   ]
  },
  {
   "cell_type": "markdown",
   "id": "42b3bcbe",
   "metadata": {},
   "source": [
    "15. How might you resolve this issue?"
   ]
  },
  {
   "cell_type": "markdown",
   "id": "7495f5b6",
   "metadata": {},
   "source": [
    "**Your response to question 15**:"
   ]
  },
  {
   "cell_type": "markdown",
   "id": "9c5fbcbe",
   "metadata": {},
   "source": [
    "## Next Steps:"
   ]
  },
  {
   "cell_type": "markdown",
   "id": "22a324d0",
   "metadata": {},
   "source": [
    "16. Congratulations! In this project, you saw how EDA can help with the initial data inspection and cleaning process. This is an important step as it helps to keep your datasets clean and reliable.\n",
    "\n",
    "    Here are some ways you might extend this project if you'd like:\n",
    "    - Use `.value_counts()` to more fully explore the values in each column.\n",
    "    - Investigate other outliers in the data that may be easily overlooked.\n",
    "    - Instead of changing the `0` values in the five columns to `NaN`, try replacing the values with the median or mean of each column."
   ]
  },
  {
   "cell_type": "code",
   "execution_count": null,
   "id": "b7f440b6",
   "metadata": {},
   "outputs": [],
   "source": []
  }
 ],
 "metadata": {
  "kernelspec": {
   "display_name": "Python 3 (ipykernel)",
   "language": "python",
   "name": "python3"
  },
  "language_info": {
   "codemirror_mode": {
    "name": "ipython",
    "version": 3
   },
   "file_extension": ".py",
   "mimetype": "text/x-python",
   "name": "python",
   "nbconvert_exporter": "python",
   "pygments_lexer": "ipython3",
   "version": "3.11.7"
  }
 },
 "nbformat": 4,
 "nbformat_minor": 5
}
