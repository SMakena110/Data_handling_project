{
 "cells": [
  {
   "cell_type": "markdown",
   "id": "5c6987c5-14b8-4ac5-b653-326a92ce4529",
   "metadata": {},
   "source": [
    "### Working with Loops (FOR Loops) in Python and Conditionals in Python"
   ]
  },
  {
   "cell_type": "markdown",
   "id": "29b3d00d-b211-450d-bcee-ceafcf3c7b2e",
   "metadata": {},
   "source": [
    "Loops help us iterate over a list(collection) of items.\n",
    "Examples of collections in python include:\n",
    "- Lists\n",
    "- Dictionaries\n",
    "- Tuples\n",
    "- Sets"
   ]
  },
  {
   "cell_type": "code",
   "execution_count": 4,
   "id": "a9022457-7416-4980-9741-f4a0a11e5aab",
   "metadata": {},
   "outputs": [],
   "source": [
    "# assume we have a collection (list)\n",
    "my_shopping_basket_1 =[\"Sugar\", \"Eggs\", \"Cooking Oil\",\"Coffee\",\"Bread\"]\n",
    "\n",
    "my_shopping_basket_2 ={\"Sugar\" : 280,\n",
    "                      \"Eggs\" : 450,\n",
    "                      \"Cooking Oil\": 250,\n",
    "                      \"Coffee\": 100,\n",
    "                      \"Bread\": 50}"
   ]
  },
  {
   "cell_type": "code",
   "execution_count": 5,
   "id": "e790240a-8414-4510-85fe-3733774008a5",
   "metadata": {},
   "outputs": [
    {
     "name": "stdout",
     "output_type": "stream",
     "text": [
      "Sugar\n",
      "Eggs\n",
      "Cooking Oil\n",
      "Coffee\n",
      "Bread\n"
     ]
    }
   ],
   "source": [
    "# cashier print out the items in my shopping basket\n",
    "'''\n",
    "   Pseudocode:\n",
    "          I present my shoppping basket to the cashier to register. He/She then decides \n",
    "         to view every item in my basket so that she can tally my costs.\n",
    "         Structure of for loop:\n",
    "         for(item) in collection:\n",
    "               (execution) \n",
    "'''\n",
    "for item in my_shopping_basket_1:\n",
    "    print(item)"
   ]
  },
  {
   "cell_type": "code",
   "execution_count": 6,
   "id": "174480ef-2b5f-42ca-ac73-97ebdbb52169",
   "metadata": {},
   "outputs": [
    {
     "data": {
      "text/plain": [
       "dict_values([280, 450, 250, 100, 50])"
      ]
     },
     "execution_count": 6,
     "metadata": {},
     "output_type": "execute_result"
    }
   ],
   "source": [
    "# values in my dictionary\n",
    "my_shopping_basket_2.values()"
   ]
  },
  {
   "cell_type": "code",
   "execution_count": 7,
   "id": "7ba2f648-bbf8-4ade-ae98-4c84006c49ec",
   "metadata": {},
   "outputs": [
    {
     "data": {
      "text/plain": [
       "dict_keys(['Sugar', 'Eggs', 'Cooking Oil', 'Coffee', 'Bread'])"
      ]
     },
     "execution_count": 7,
     "metadata": {},
     "output_type": "execute_result"
    }
   ],
   "source": [
    "# keys in my dictionary\n",
    "my_shopping_basket_2.keys()"
   ]
  },
  {
   "cell_type": "code",
   "execution_count": 8,
   "id": "de2c04b9-df99-42b6-952d-09ce70853300",
   "metadata": {},
   "outputs": [
    {
     "data": {
      "text/plain": [
       "dict_items([('Sugar', 280), ('Eggs', 450), ('Cooking Oil', 250), ('Coffee', 100), ('Bread', 50)])"
      ]
     },
     "execution_count": 8,
     "metadata": {},
     "output_type": "execute_result"
    }
   ],
   "source": [
    "# items in my dictionary\n",
    "my_shopping_basket_2.items()"
   ]
  },
  {
   "cell_type": "code",
   "execution_count": 9,
   "id": "4241b649-30e2-4b75-bbc9-5c2679247f3a",
   "metadata": {},
   "outputs": [
    {
     "name": "stdout",
     "output_type": "stream",
     "text": [
      "Sugar 280\n",
      "Eggs 450\n",
      "Cooking Oil 250\n",
      "Coffee 100\n",
      "Bread 50\n"
     ]
    }
   ],
   "source": [
    "# cashier print out the items in my shopping basket\n",
    "'''\n",
    "   Pseudocode:\n",
    "          I present my shoppping basket to the cashier to register. He/She then decides \n",
    "         to view every item in my basket so that she can tally my costs.\n",
    "         Structure of for loop:\n",
    "         for(item) in collection:\n",
    "               (execution) \n",
    "'''\n",
    "for key,value in my_shopping_basket_2.items():\n",
    "    print(key,value)"
   ]
  },
  {
   "cell_type": "code",
   "execution_count": 10,
   "id": "b429c89a-3621-4d40-8dc8-094a0f2b91d9",
   "metadata": {},
   "outputs": [
    {
     "name": "stdout",
     "output_type": "stream",
     "text": [
      "You have purchased: Sugar\n",
      "You have purchased: Eggs\n",
      "You have purchased: Cooking Oil\n",
      "You have purchased: Coffee\n",
      "You have purchased: Bread\n"
     ]
    }
   ],
   "source": [
    "# cashier print out the items in my shopping basket\n",
    "for item in my_shopping_basket_1:\n",
    "    print(\"You have purchased:\",item)"
   ]
  },
  {
   "cell_type": "code",
   "execution_count": 11,
   "id": "fc510fe8-08a4-4b4a-9ee3-b9001216b024",
   "metadata": {},
   "outputs": [
    {
     "name": "stdout",
     "output_type": "stream",
     "text": [
      "You have purchased: Sugar and it costs Ksh 280\n",
      "You have purchased: Eggs and it costs Ksh 450\n",
      "You have purchased: Cooking Oil and it costs Ksh 250\n",
      "You have purchased: Coffee and it costs Ksh 100\n",
      "You have purchased: Bread and it costs Ksh 50\n"
     ]
    }
   ],
   "source": [
    "# cashier print out the items in my shopping basket\n",
    "for key,value in my_shopping_basket_2.items():\n",
    "    print(\"You have purchased:\",key,\"and it costs\",\"Ksh\",value)"
   ]
  },
  {
   "cell_type": "code",
   "execution_count": 12,
   "id": "60c3796e-31e4-4c22-9fb7-0c7225958cd5",
   "metadata": {},
   "outputs": [
    {
     "name": "stdout",
     "output_type": "stream",
     "text": [
      "You have purchased:Sugar and it costs Ksh 280\n",
      "You have purchased:Eggs and it costs Ksh 450\n",
      "You have purchased:Cooking Oil and it costs Ksh 250\n",
      "You have purchased:Coffee and it costs Ksh 100\n",
      "You have purchased:Bread and it costs Ksh 50\n"
     ]
    }
   ],
   "source": [
    "# USING PRINTF\n",
    "# cashier print out the items in my shopping basket\n",
    "for key,value in my_shopping_basket_2.items():\n",
    "    print(f\"You have purchased:{key} and it costs Ksh {value}\")"
   ]
  },
  {
   "cell_type": "markdown",
   "id": "75bf65f9-4ea3-43b9-a96a-fa37a583e3f4",
   "metadata": {},
   "source": [
    "#### USING CONDITIONALS INSIDE LOOPS"
   ]
  },
  {
   "cell_type": "code",
   "execution_count": 14,
   "id": "f8d03a37-3eaa-4fe4-88db-2b98a6c5d644",
   "metadata": {},
   "outputs": [
    {
     "data": {
      "text/plain": [
       "2360"
      ]
     },
     "execution_count": 14,
     "metadata": {},
     "output_type": "execute_result"
    }
   ],
   "source": [
    "'''\n",
    "I have:\n",
    "   - 2 kilos of Sugar\n",
    "    - 4 trays of Eggs\n",
    "    What is my total cost? \n",
    "\n",
    "    Ineed to get the total price of sugar \n",
    "    then add it to the total price of eggs\n",
    "'''\n",
    "total_price_of_sugar = 280 * 2\n",
    "total_price_of_eggs  = 450 * 4\n",
    "total_price_to_pay = total_price_of_sugar +total_price_of_eggs\n",
    "total_price_to_pay"
   ]
  },
  {
   "cell_type": "code",
   "execution_count": 15,
   "id": "1e2db3dd-4603-4c0b-9a89-748a9887c1f1",
   "metadata": {},
   "outputs": [
    {
     "name": "stdout",
     "output_type": "stream",
     "text": [
      "You have purchased Sugar and it costs Ksh 560\n",
      "You have purchased Eggs and it costs Ksh 1800\n",
      "You have purchased Cooking Oil and it costs Ksh 250\n",
      "You have purchased Coffee and it costs Ksh 100\n",
      "You have purchased Bread and it costs Ksh 50\n",
      "\n",
      "PLEASE PAY THE TOTAL, WHICH IS: 2760\n"
     ]
    }
   ],
   "source": [
    "# USING IF CONDITION\n",
    "# cashier print out the items in my shopping basket\n",
    "# if you buy more than 1 pkt of sugar, the second pkt is 20% off\n",
    "\n",
    "\n",
    "message = \"Please pay the total, which is:\"\n",
    "total_cost = 0\n",
    "\n",
    "for key,value in my_shopping_basket_2.items():\n",
    "    if key == \"Sugar\":\n",
    "        cost = value * 2\n",
    "        total_cost += cost\n",
    "    elif key == \"Eggs\":\n",
    "        cost = value * 4\n",
    "        total_cost += cost\n",
    "    else:\n",
    "        cost = value\n",
    "        total_cost += cost\n",
    "    print(f\"You have purchased {key} and it costs Ksh {cost}\")\n",
    "    \n",
    "print(f\"\\n{message.upper()} {total_cost}\")"
   ]
  },
  {
   "cell_type": "code",
   "execution_count": 16,
   "id": "6645489f-6edc-4859-948b-33afecf1ec1d",
   "metadata": {},
   "outputs": [],
   "source": [
    "# USING IF CONDITION\n",
    "# cashier print out the items in my shopping basket\n",
    "# if you buy more than 1 pkt of sugar, the second pkt is 20% off\n",
    "\n",
    "def check_out(basket):\n",
    "    message = \"Please pay the total, which is:\"\n",
    "    total_cost = 0\n",
    "\n",
    "    for key,value in basket.items():\n",
    "        if key == \"Sugar\":\n",
    "            cost = value * 2\n",
    "            total_cost += cost\n",
    "        elif key == \"Eggs\":\n",
    "            cost = value * 4\n",
    "            total_cost += cost\n",
    "        else:\n",
    "            cost = value\n",
    "            total_cost += cost\n",
    "        print(f\"You have purchased {key} and it costs Ksh {cost}\")\n",
    "    message = (f\"{message.upper()}KSH {total_cost}\")\n",
    "    return message "
   ]
  },
  {
   "cell_type": "code",
   "execution_count": 17,
   "id": "bd9b92d7-a42c-4d67-8e63-cbc24cd34242",
   "metadata": {},
   "outputs": [
    {
     "name": "stdout",
     "output_type": "stream",
     "text": [
      "You have purchased Sugar and it costs Ksh 560\n",
      "You have purchased Eggs and it costs Ksh 1800\n",
      "You have purchased Cooking Oil and it costs Ksh 250\n",
      "You have purchased Coffee and it costs Ksh 100\n",
      "You have purchased Bread and it costs Ksh 50\n"
     ]
    },
    {
     "data": {
      "text/plain": [
       "'PLEASE PAY THE TOTAL, WHICH IS:KSH 2760'"
      ]
     },
     "execution_count": 17,
     "metadata": {},
     "output_type": "execute_result"
    }
   ],
   "source": [
    "check_out(my_shopping_basket_2)"
   ]
  },
  {
   "cell_type": "code",
   "execution_count": 18,
   "id": "e69d13c7-5359-4c58-8233-40997231f225",
   "metadata": {},
   "outputs": [],
   "source": [
    "#write a function that takes two numbers, sums them and prints out the result\n",
    "def greet_students(greeting,student_name):\n",
    "    msg = greeting\n",
    "    return(greeting,student_name)"
   ]
  },
  {
   "cell_type": "code",
   "execution_count": 19,
   "id": "bea851f2-a051-43b1-b5a9-32cef8c8f75f",
   "metadata": {},
   "outputs": [
    {
     "data": {
      "text/plain": [
       "('Hello', 'Victor')"
      ]
     },
     "execution_count": 19,
     "metadata": {},
     "output_type": "execute_result"
    }
   ],
   "source": [
    "greet_students(\"Hello\", \"Victor\")"
   ]
  },
  {
   "cell_type": "code",
   "execution_count": 20,
   "id": "0f795974-a303-4728-96df-de0144a73bad",
   "metadata": {},
   "outputs": [
    {
     "name": "stdout",
     "output_type": "stream",
     "text": [
      "This item is: Sugar, and it costs: Kshs 200\n",
      "This item is: Eggs, and it costs: Kshs 100\n",
      "This item is: Cooking Oil, and it costs: Kshs 175\n",
      "This item is: Coffee, and it costs: Kshs 100\n",
      "This item is: Bread, and it costs: Kshs 100\n"
     ]
    }
   ],
   "source": [
    "# cashier print out the items in my shopping basket and adds a price to each print out\n",
    "# e.g If the item is sugar, then print 'This item is sugar and its cost : Ksh.200'\n",
    "# If the item is Cooking oil, then print 'This item is sugar and its cost : Ksh.175'\n",
    "# Otherwise everything else is Ksh 100\n",
    "\n",
    "for item in my_shopping_basket_1:\n",
    "    if item == \"Sugar\":\n",
    "         print(f\"This item is: {item}, and it costs: Kshs 200\")\n",
    "    elif item == \"Cooking Oil\":\n",
    "         print(f\"This item is: {item}, and it costs: Kshs 175\")\n",
    "    else:\n",
    "        print(f\"This item is: {item}, and it costs: Kshs 100\")\n",
    "        \n",
    "    "
   ]
  },
  {
   "cell_type": "code",
   "execution_count": 21,
   "id": "dc255c60-6c19-419e-94f9-f6f98856c01e",
   "metadata": {},
   "outputs": [
    {
     "data": {
      "text/plain": [
       "5"
      ]
     },
     "execution_count": 21,
     "metadata": {},
     "output_type": "execute_result"
    }
   ],
   "source": [
    "my_price_list = [200,350,220,180,100]\n",
    "len(my_price_list)"
   ]
  },
  {
   "cell_type": "markdown",
   "id": "77d4c00b-855d-402d-b480-7d7ab45774f1",
   "metadata": {},
   "source": [
    "#### Working with Tuples"
   ]
  },
  {
   "cell_type": "code",
   "execution_count": 23,
   "id": "0148652c-f131-448b-8aaa-7208c63290a3",
   "metadata": {},
   "outputs": [
    {
     "data": {
      "text/plain": [
       "dict_items([('Sugar', 280), ('Eggs', 450), ('Cooking Oil', 250), ('Coffee', 100), ('Bread', 50)])"
      ]
     },
     "execution_count": 23,
     "metadata": {},
     "output_type": "execute_result"
    }
   ],
   "source": [
    "my_tupple_object = my_shopping_basket_2.items()\n",
    "my_tupple_object"
   ]
  },
  {
   "cell_type": "code",
   "execution_count": 24,
   "id": "1e4a7bc1-d77f-4890-b602-5b8988bdbaec",
   "metadata": {},
   "outputs": [
    {
     "data": {
      "text/plain": [
       "[('Sugar', 280),\n",
       " ('Eggs', 450),\n",
       " ('Cooking Oil', 250),\n",
       " ('Coffee', 100),\n",
       " ('Bread', 50)]"
      ]
     },
     "execution_count": 24,
     "metadata": {},
     "output_type": "execute_result"
    }
   ],
   "source": [
    "my_tupple_object = list(my_shopping_basket_2.items())\n",
    "my_tupple_object"
   ]
  },
  {
   "cell_type": "markdown",
   "id": "7cb3cb85-a79f-4d71-be93-398585540a19",
   "metadata": {},
   "source": [
    "#### RANDOM STUFF"
   ]
  },
  {
   "cell_type": "code",
   "execution_count": 26,
   "id": "4ca64f6b-af95-4f1e-b3cb-543a13cdedd4",
   "metadata": {},
   "outputs": [],
   "source": [
    "#create a new dict object: schhol\n",
    "school = {}\n",
    "hospital = {}\n",
    "shopping_bag = {}\n",
    "the_anthem_dict = {}"
   ]
  },
  {
   "cell_type": "code",
   "execution_count": 27,
   "id": "e2d5ee91-f9c0-4536-af01-55d461fd8151",
   "metadata": {},
   "outputs": [],
   "source": [
    "# \"Mwangaza : 12\"\n",
    "school[\"Mwangaza\"] = 12"
   ]
  },
  {
   "cell_type": "code",
   "execution_count": 28,
   "id": "672d141b-fda0-4cf5-b18d-0b806707edb9",
   "metadata": {},
   "outputs": [
    {
     "data": {
      "text/plain": [
       "{'Mwangaza': 12}"
      ]
     },
     "execution_count": 28,
     "metadata": {},
     "output_type": "execute_result"
    }
   ],
   "source": [
    "school"
   ]
  },
  {
   "cell_type": "code",
   "execution_count": 29,
   "id": "792b2353-7376-4a89-a182-cc152d879622",
   "metadata": {},
   "outputs": [
    {
     "data": {
      "text/plain": [
       "dict"
      ]
     },
     "execution_count": 29,
     "metadata": {},
     "output_type": "execute_result"
    }
   ],
   "source": [
    "type(school)"
   ]
  },
  {
   "cell_type": "code",
   "execution_count": 30,
   "id": "72af3286-0d5a-4526-a2a5-d1838ae711cb",
   "metadata": {},
   "outputs": [],
   "source": [
    "'''\n",
    "    I want to take a key and a atching value\n",
    "    and add it to a designated dictionary object\n",
    "'''\n",
    "def add_key_value_pairs(key,value, dictionary):\n",
    "    dictionary[key] = value\n",
    "    return dictionary  "
   ]
  },
  {
   "cell_type": "code",
   "execution_count": 31,
   "id": "ce39a9d5-e984-4a45-b613-cf4f0e48b58e",
   "metadata": {},
   "outputs": [
    {
     "data": {
      "text/plain": [
       "{'KNH': 100}"
      ]
     },
     "execution_count": 31,
     "metadata": {},
     "output_type": "execute_result"
    }
   ],
   "source": [
    "# Add KNH with 100 doctors\n",
    "add_key_value_pairs(\"KNH\",100, hospital)"
   ]
  },
  {
   "cell_type": "code",
   "execution_count": 32,
   "id": "3b5a8dba-daaa-4a4b-9198-6a2988003147",
   "metadata": {},
   "outputs": [
    {
     "data": {
      "text/plain": [
       "{'KNH': 100, 'Mathare': 2}"
      ]
     },
     "execution_count": 32,
     "metadata": {},
     "output_type": "execute_result"
    }
   ],
   "source": [
    "# Add Mathare with 2 doctors\n",
    "add_key_value_pairs(\"Mathare\",2, hospital)"
   ]
  },
  {
   "cell_type": "code",
   "execution_count": 33,
   "id": "18227d51-3da2-418f-bba0-bd60b4b69caf",
   "metadata": {},
   "outputs": [
    {
     "data": {
      "text/plain": [
       "{'KNH': 100, 'Mathare': 2, 'Mama Lucy': 200}"
      ]
     },
     "execution_count": 33,
     "metadata": {},
     "output_type": "execute_result"
    }
   ],
   "source": [
    "# Add Mama Lucy with 200 doctors\n",
    "add_key_value_pairs(\"Mama Lucy\",200, hospital)"
   ]
  },
  {
   "cell_type": "code",
   "execution_count": 34,
   "id": "fa4a934e-d884-439a-89de-80697a4ada86",
   "metadata": {},
   "outputs": [
    {
     "data": {
      "text/plain": [
       "{'Bread': 100}"
      ]
     },
     "execution_count": 34,
     "metadata": {},
     "output_type": "execute_result"
    }
   ],
   "source": [
    "add_key_value_pairs(\"Bread\",100, shopping_bag)"
   ]
  },
  {
   "cell_type": "code",
   "execution_count": 35,
   "id": "ca895f76-2fcf-4a8a-b474-5a8f6ff38256",
   "metadata": {},
   "outputs": [
    {
     "data": {
      "text/plain": [
       "{'Bread': 100, 1500: ['Bread', 'Sugar', 'Cocoa', 'Bar Soap']}"
      ]
     },
     "execution_count": 35,
     "metadata": {},
     "output_type": "execute_result"
    }
   ],
   "source": [
    "add_key_value_pairs(1500, [\"Bread\", \"Sugar\", \"Cocoa\", \"Bar Soap\"], shopping_bag)"
   ]
  },
  {
   "cell_type": "code",
   "execution_count": 36,
   "id": "f594e0a5-5be0-46de-a9c7-5904b8c61d4b",
   "metadata": {},
   "outputs": [
    {
     "data": {
      "text/plain": [
       "['Bread', 'Sugar', 'Cocoa', 'Bar Soap', 'Soap', 'Sugar']"
      ]
     },
     "execution_count": 36,
     "metadata": {},
     "output_type": "execute_result"
    }
   ],
   "source": [
    "my_list = [\"Bread\", \"Sugar\", \"Cocoa\", \"Bar Soap\", \"Soap\", \"Sugar\"]\n",
    "my_list"
   ]
  },
  {
   "cell_type": "code",
   "execution_count": 37,
   "id": "9a4ec22f-26c3-46b2-9c2a-623b7b36e4d1",
   "metadata": {},
   "outputs": [
    {
     "data": {
      "text/plain": [
       "{'Bar Soap', 'Bread', 'Cocoa', 'Soap', 'Sugar'}"
      ]
     },
     "execution_count": 37,
     "metadata": {},
     "output_type": "execute_result"
    }
   ],
   "source": [
    "# how to get unique values in any collection\n",
    "set(my_list)"
   ]
  },
  {
   "cell_type": "code",
   "execution_count": 38,
   "id": "be4b274e-84e1-4ddd-b1ca-553a0579b932",
   "metadata": {},
   "outputs": [
    {
     "data": {
      "text/plain": [
       "6"
      ]
     },
     "execution_count": 38,
     "metadata": {},
     "output_type": "execute_result"
    }
   ],
   "source": [
    "len(my_list)"
   ]
  },
  {
   "cell_type": "code",
   "execution_count": 39,
   "id": "8db4ac44-8019-418b-a834-e918272b6558",
   "metadata": {},
   "outputs": [
    {
     "data": {
      "text/plain": [
       "5"
      ]
     },
     "execution_count": 39,
     "metadata": {},
     "output_type": "execute_result"
    }
   ],
   "source": [
    "len(set(my_list))"
   ]
  },
  {
   "cell_type": "code",
   "execution_count": 40,
   "id": "7af5c490-a3af-4e9f-911a-702dfcc4cebb",
   "metadata": {},
   "outputs": [
    {
     "data": {
      "text/plain": [
       "{'Bread': 100, 1500: ['Bread', 'Sugar', 'Cocoa', 'Bar Soap']}"
      ]
     },
     "execution_count": 40,
     "metadata": {},
     "output_type": "execute_result"
    }
   ],
   "source": [
    "shopping_bag"
   ]
  },
  {
   "cell_type": "code",
   "execution_count": 41,
   "id": "73996f3b-13a3-4f2d-b46c-4ef308b00667",
   "metadata": {},
   "outputs": [
    {
     "data": {
      "text/plain": [
       "dict_keys(['Bread', 1500])"
      ]
     },
     "execution_count": 41,
     "metadata": {},
     "output_type": "execute_result"
    }
   ],
   "source": [
    "shopping_bag.keys()"
   ]
  },
  {
   "cell_type": "code",
   "execution_count": 42,
   "id": "6fdf6737-1b7d-45ee-b7d1-5012a10b1677",
   "metadata": {},
   "outputs": [],
   "source": [
    "the_anthem = \"Peace and Liberty, plenty be found within our borders\""
   ]
  },
  {
   "cell_type": "code",
   "execution_count": 43,
   "id": "e55b697a-046d-4bc7-94fd-4e0977fc4c13",
   "metadata": {},
   "outputs": [
    {
     "data": {
      "text/plain": [
       "'plenty'"
      ]
     },
     "execution_count": 43,
     "metadata": {},
     "output_type": "execute_result"
    }
   ],
   "source": [
    "# what is the third word in the anthem\n",
    "the_anthem.split()[3]"
   ]
  },
  {
   "cell_type": "code",
   "execution_count": 44,
   "id": "91ce09a1-a220-4925-a233-09798f7ca794",
   "metadata": {},
   "outputs": [
    {
     "data": {
      "text/plain": [
       "['Peace',\n",
       " 'and',\n",
       " 'Liberty,',\n",
       " 'plenty',\n",
       " 'be',\n",
       " 'found',\n",
       " 'within',\n",
       " 'our',\n",
       " 'borders']"
      ]
     },
     "execution_count": 44,
     "metadata": {},
     "output_type": "execute_result"
    }
   ],
   "source": [
    "the_anthem_list = the_anthem.split()\n",
    "the_anthem_list"
   ]
  },
  {
   "cell_type": "code",
   "execution_count": 45,
   "id": "ab3c7cac-6b44-49b4-b3c6-52cae1da157a",
   "metadata": {},
   "outputs": [
    {
     "data": {
      "text/plain": [
       "'Corruption and Arrests, plenty be found within our borders'"
      ]
     },
     "execution_count": 45,
     "metadata": {},
     "output_type": "execute_result"
    }
   ],
   "source": [
    "new_anthem = the_anthem.replace(\"Peace\", \"Corruption\")\n",
    "new_anthem = new_anthem.replace(\"Liberty\", \"Arrests\")\n",
    "new_anthem "
   ]
  },
  {
   "cell_type": "code",
   "execution_count": 46,
   "id": "aec3159f-29d3-4214-bb11-7acb37c5d60a",
   "metadata": {},
   "outputs": [
    {
     "data": {
      "text/plain": [
       "'Peace and Liberty, plenty be found within our borders'"
      ]
     },
     "execution_count": 46,
     "metadata": {},
     "output_type": "execute_result"
    }
   ],
   "source": [
    "the_anthem"
   ]
  },
  {
   "cell_type": "code",
   "execution_count": 94,
   "id": "9a3726e1-b8ce-47e5-bc04-83afeb3b06f4",
   "metadata": {},
   "outputs": [
    {
     "data": {
      "text/plain": [
       "['Peace and Liberty', ' plenty be found within our borders']"
      ]
     },
     "execution_count": 94,
     "metadata": {},
     "output_type": "execute_result"
    }
   ],
   "source": [
    "the_anthem.split(',')"
   ]
  },
  {
   "cell_type": "code",
   "execution_count": 110,
   "id": "f299dc6f-e755-4a3d-96a5-d8e3a3cc3dfb",
   "metadata": {},
   "outputs": [],
   "source": [
    "'''\n",
    "    For every word in our anthem, what is the public sentiment?\n",
    "    sentiment is either \"GOOD\", \"BAD\"\n",
    "'''\n",
    "# get a list of all words in the anthem\n",
    "the_anthem_list = the_anthem.replace(',', '').split()\n",
    "the_anthem_list\n",
    "\n",
    "\n",
    "# for each word un the list above, assign a sentiment\n",
    "# e.g \"Peace\" : \"GOOD\"\n",
    "\n",
    "filler_words = ['and', 'be', 'our', 'is', 'it','at']\n",
    "\n",
    "for word in the_anthem_list:\n",
    "    if word not in filler_words:\n",
    "    # conditionals\n",
    "        if word == \"Peace\":\n",
    "            add_key_value_pairs(word,\"KEEP\",the_anthem_dict)\n",
    "        elif word == \"Liberty,\":\n",
    "            add_key_value_pairs(word,\"IMPROVE\",the_anthem_dict)\n",
    "        elif word == \"borders\":\n",
    "            add_key_value_pairs(word,\"SECURE\",the_anthem_dict)\n",
    "        else:\n",
    "            # handles a word that is not peace, liberty, borders, found or is not in filler_words.\n",
    "            add_key_value_pairs(word,\"KEEP IT UP\",the_anthem_dict)\n",
    "    # else:\n",
    "    #     add_key_value_pairs(word,\"-\",the_anthem_dict)\n",
    "    "
   ]
  },
  {
   "cell_type": "code",
   "execution_count": 112,
   "id": "da4bbbda-2828-4be4-a72e-6b40291f98cc",
   "metadata": {},
   "outputs": [
    {
     "data": {
      "text/plain": [
       "{'Peace': 'KEEP',\n",
       " 'Liberty,': 'IMPROVE',\n",
       " 'plenty': 'KEEP IT UP',\n",
       " 'found': 'KEEP IT UP',\n",
       " 'within': 'KEEP IT UP',\n",
       " 'borders': 'SECURE',\n",
       " 'Liberty': 'KEEP IT UP'}"
      ]
     },
     "execution_count": 112,
     "metadata": {},
     "output_type": "execute_result"
    }
   ],
   "source": [
    "the_anthem_dict"
   ]
  },
  {
   "cell_type": "code",
   "execution_count": null,
   "id": "57994ca8-6a05-4eca-9108-3e9bf0c8d23a",
   "metadata": {},
   "outputs": [],
   "source": []
  }
 ],
 "metadata": {
  "kernelspec": {
   "display_name": "Python 3 (ipykernel)",
   "language": "python",
   "name": "python3"
  },
  "language_info": {
   "codemirror_mode": {
    "name": "ipython",
    "version": 3
   },
   "file_extension": ".py",
   "mimetype": "text/x-python",
   "name": "python",
   "nbconvert_exporter": "python",
   "pygments_lexer": "ipython3",
   "version": "3.11.7"
  }
 },
 "nbformat": 4,
 "nbformat_minor": 5
}
