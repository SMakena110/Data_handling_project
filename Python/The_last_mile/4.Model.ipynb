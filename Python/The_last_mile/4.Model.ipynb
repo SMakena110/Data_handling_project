{
 "cells": [
  {
   "cell_type": "code",
   "execution_count": null,
   "id": "ba1f4c4e-1b6f-4d1d-9a51-4e93a010192f",
   "metadata": {},
   "outputs": [],
   "source": []
  }
 ],
 "metadata": {
  "kernelspec": {
   "display_name": "Python 3 (ipykernel)",
   "language": "python",
   "name": "python3"
  },
  "language_info": {
   "codemirror_mode": {
    "name": "ipython",
    "version": 3
   },
   "file_extension": ".py",
   "mimetype": "text/x-python",
   "name": "python",
   "nbconvert_exporter": "python",
   "pygments_lexer": "ipython3",
   "version": "3.11.7"
  }
 },
 "nbformat": 4,
 "nbformat_minor": 5
}
