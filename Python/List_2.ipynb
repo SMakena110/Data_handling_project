{
 "cells": [
  {
   "cell_type": "markdown",
   "id": "3de665b6-2161-4a67-bb66-b6f8b15e25dc",
   "metadata": {},
   "source": [
    "#### Practice codes"
   ]
  },
  {
   "cell_type": "code",
   "execution_count": 6,
   "id": "c090b522-3159-432f-b5a6-4e25813420e6",
   "metadata": {},
   "outputs": [],
   "source": [
    "pancake_recipe = []"
   ]
  },
  {
   "cell_type": "code",
   "execution_count": 10,
   "id": "1c59cbf5-c8af-4123-9840-b302ecbc44ab",
   "metadata": {},
   "outputs": [],
   "source": [
    "pancake_recipe = [\"eggs\", \"flour\",\"butter\",\"milk\", \"sugar\", \"love\"]\n"
   ]
  },
  {
   "cell_type": "code",
   "execution_count": 42,
   "id": "05f5a3a6-0f8c-44df-a195-02a0debe8e30",
   "metadata": {},
   "outputs": [
    {
     "data": {
      "text/plain": [
       "'flour'"
      ]
     },
     "execution_count": 42,
     "metadata": {},
     "output_type": "execute_result"
    }
   ],
   "source": [
    "pancake_recipe [1]"
   ]
  },
  {
   "cell_type": "code",
   "execution_count": 46,
   "id": "cb121dce-eb2a-42b7-b4e4-3310b8415fe6",
   "metadata": {},
   "outputs": [
    {
     "name": "stdout",
     "output_type": "stream",
     "text": [
      "['eggs', 'flour', 'butter', 'milk', 'sugar', 'sausages']\n"
     ]
    }
   ],
   "source": [
    "pancake_recipe [5] = \"sausages\"\n",
    "print(pancake_recipe)"
   ]
  },
  {
   "cell_type": "code",
   "execution_count": 50,
   "id": "5f6c88ab-6ec8-44a0-ba63-7db7f821874a",
   "metadata": {},
   "outputs": [
    {
     "data": {
      "text/plain": [
       "['eggs', 'flour', 'butter']"
      ]
     },
     "execution_count": 50,
     "metadata": {},
     "output_type": "execute_result"
    }
   ],
   "source": [
    "pancake_recipe [0:3]"
   ]
  },
  {
   "cell_type": "code",
   "execution_count": 56,
   "id": "38be8e60-f023-4fe1-8ca1-53d593ad170a",
   "metadata": {},
   "outputs": [
    {
     "name": "stdout",
     "output_type": "stream",
     "text": [
      "['eggs', 'flour', 'butter', 'milk', 'sugar', 'sausages', 'banana', 'banana', ['banana']]\n"
     ]
    }
   ],
   "source": [
    "pancake_recipe.append([\"banana\"])\n",
    "print(pancake_recipe)"
   ]
  },
  {
   "cell_type": "code",
   "execution_count": 59,
   "id": "a03b72b5-04a3-40b6-a61f-0766b91e303f",
   "metadata": {},
   "outputs": [
    {
     "name": "stdout",
     "output_type": "stream",
     "text": [
      "['eggs', 'flour', 'butter', 'milk', 'sugar', 'sausages', 'banana', ['banana']]\n"
     ]
    }
   ],
   "source": [
    "pancake_recipe.pop(6)\n",
    "print(pancake_recipe)"
   ]
  },
  {
   "cell_type": "code",
   "execution_count": 61,
   "id": "7d2293e0-7fae-44c8-9088-c1a225f8e630",
   "metadata": {},
   "outputs": [
    {
     "name": "stdout",
     "output_type": "stream",
     "text": [
      "['eggs', 'flour', 'milk', 'sugar', 'sausages', 'banana', ['banana']]\n"
     ]
    }
   ],
   "source": [
    "pancake_recipe.remove(\"butter\")\n",
    "print(pancake_recipe)"
   ]
  },
  {
   "cell_type": "code",
   "execution_count": 65,
   "id": "0fd2eed7-bb74-4208-a398-59d3280293f8",
   "metadata": {},
   "outputs": [
    {
     "name": "stdout",
     "output_type": "stream",
     "text": [
      "['eggs', 'flour', 'milk', 'sausages', 'banana', ['banana']]\n"
     ]
    }
   ],
   "source": [
    "pancake_recipe.remove(\"sugar\")\n",
    "print(pancake_recipe)"
   ]
  },
  {
   "cell_type": "code",
   "execution_count": null,
   "id": "baa35239-79cc-4e1c-a70f-ff7e86dd6082",
   "metadata": {},
   "outputs": [],
   "source": []
  }
 ],
 "metadata": {
  "kernelspec": {
   "display_name": "Python 3 (ipykernel)",
   "language": "python",
   "name": "python3"
  },
  "language_info": {
   "codemirror_mode": {
    "name": "ipython",
    "version": 3
   },
   "file_extension": ".py",
   "mimetype": "text/x-python",
   "name": "python",
   "nbconvert_exporter": "python",
   "pygments_lexer": "ipython3",
   "version": "3.11.7"
  }
 },
 "nbformat": 4,
 "nbformat_minor": 5
}
