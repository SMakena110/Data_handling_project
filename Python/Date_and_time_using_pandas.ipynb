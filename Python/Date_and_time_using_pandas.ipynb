{
 "cells": [
  {
   "cell_type": "markdown",
   "id": "02e9d5bb-1412-4cf4-a9be-48330e4e1db9",
   "metadata": {},
   "source": [
    "# Working with Dates and Pandas"
   ]
  },
  {
   "cell_type": "code",
   "execution_count": 2,
   "id": "8ffa5529-c52c-44e9-9338-ee42d763fa94",
   "metadata": {},
   "outputs": [],
   "source": [
    "# import the datetime library\n",
    "from datetime import datetime, date\n",
    "import pandas as pd"
   ]
  },
  {
   "cell_type": "code",
   "execution_count": 3,
   "id": "8db716c3-d7b7-4d66-a0cd-dd8c07982cb3",
   "metadata": {},
   "outputs": [
    {
     "data": {
      "text/plain": [
       "datetime.date(2024, 10, 8)"
      ]
     },
     "execution_count": 3,
     "metadata": {},
     "output_type": "execute_result"
    }
   ],
   "source": [
    "# today's date\n",
    "d = date(2024,10,8)\n",
    "d"
   ]
  },
  {
   "cell_type": "code",
   "execution_count": 4,
   "id": "a583a36e-5227-4d6e-9d5a-67f976898593",
   "metadata": {},
   "outputs": [
    {
     "data": {
      "text/plain": [
       "datetime.date"
      ]
     },
     "execution_count": 4,
     "metadata": {},
     "output_type": "execute_result"
    }
   ],
   "source": [
    "type(d)"
   ]
  },
  {
   "cell_type": "code",
   "execution_count": 5,
   "id": "a37f25fa-1a4c-4762-bbfa-241208f5762e",
   "metadata": {},
   "outputs": [],
   "source": [
    "# create timestamp object\n",
    "timestamp = pd.Timestamp('2024-10-08 06:12:00')"
   ]
  },
  {
   "cell_type": "code",
   "execution_count": 6,
   "id": "daf3be43-87bd-4ed2-a9ec-a324e1dfe5fe",
   "metadata": {},
   "outputs": [
    {
     "data": {
      "text/plain": [
       "2024"
      ]
     },
     "execution_count": 6,
     "metadata": {},
     "output_type": "execute_result"
    }
   ],
   "source": [
    "# retrieve year\n",
    "year = timestamp.year\n",
    "year"
   ]
  },
  {
   "cell_type": "code",
   "execution_count": 7,
   "id": "49ae20b2-464d-41d8-9f3c-bc3835dadb4f",
   "metadata": {},
   "outputs": [
    {
     "data": {
      "text/plain": [
       "10"
      ]
     },
     "execution_count": 7,
     "metadata": {},
     "output_type": "execute_result"
    }
   ],
   "source": [
    "# retrieve month\n",
    "month = timestamp.month\n",
    "month"
   ]
  },
  {
   "cell_type": "code",
   "execution_count": 8,
   "id": "c5e34c58-6735-4802-b0c2-ce39cceb1c2a",
   "metadata": {},
   "outputs": [
    {
     "name": "stdout",
     "output_type": "stream",
     "text": [
      "October\n"
     ]
    }
   ],
   "source": [
    "if month ==10:\n",
    "    print(\"October\")\n",
    "else:\n",
    "    print(month)"
   ]
  },
  {
   "cell_type": "code",
   "execution_count": 9,
   "id": "53459438-60dd-4bdd-8985-74fa8dea30c2",
   "metadata": {},
   "outputs": [],
   "source": [
    "# retrieve day"
   ]
  },
  {
   "cell_type": "code",
   "execution_count": 10,
   "id": "20e38f7f-fb50-49e9-9f17-385805ab423a",
   "metadata": {},
   "outputs": [
    {
     "data": {
      "text/plain": [
       "8"
      ]
     },
     "execution_count": 10,
     "metadata": {},
     "output_type": "execute_result"
    }
   ],
   "source": [
    "day = timestamp.day\n",
    "day"
   ]
  },
  {
   "cell_type": "code",
   "execution_count": 11,
   "id": "99845e97-a465-4fce-aeda-473ada6e1200",
   "metadata": {},
   "outputs": [
    {
     "data": {
      "text/plain": [
       "6"
      ]
     },
     "execution_count": 11,
     "metadata": {},
     "output_type": "execute_result"
    }
   ],
   "source": [
    "# retrieve the hour\n",
    "hour = timestamp.hour\n",
    "hour"
   ]
  },
  {
   "cell_type": "code",
   "execution_count": 12,
   "id": "b78a7b92-cc48-488b-8f44-fc7bd5e12661",
   "metadata": {},
   "outputs": [
    {
     "data": {
      "text/plain": [
       "12"
      ]
     },
     "execution_count": 12,
     "metadata": {},
     "output_type": "execute_result"
    }
   ],
   "source": [
    "# retrieve munite\n",
    "minute = timestamp.minute\n",
    "minute"
   ]
  },
  {
   "cell_type": "code",
   "execution_count": 13,
   "id": "66955ed4-d74c-4474-9670-a14da54935af",
   "metadata": {},
   "outputs": [
    {
     "data": {
      "text/plain": [
       "0"
      ]
     },
     "execution_count": 13,
     "metadata": {},
     "output_type": "execute_result"
    }
   ],
   "source": [
    "# retrieve second\n",
    "sec = timestamp.second\n",
    "sec"
   ]
  },
  {
   "cell_type": "code",
   "execution_count": 14,
   "id": "b031b34d-361f-413c-98c9-a197bef58c00",
   "metadata": {},
   "outputs": [
    {
     "data": {
      "text/plain": [
       "1"
      ]
     },
     "execution_count": 14,
     "metadata": {},
     "output_type": "execute_result"
    }
   ],
   "source": [
    "# retrieve weekday\n",
    "wkday = timestamp.weekday()\n",
    "wkday"
   ]
  },
  {
   "cell_type": "code",
   "execution_count": 15,
   "id": "5d3174e1-3476-4032-bfa9-d8bd1747c663",
   "metadata": {},
   "outputs": [
    {
     "data": {
      "text/plain": [
       "41"
      ]
     },
     "execution_count": 15,
     "metadata": {},
     "output_type": "execute_result"
    }
   ],
   "source": [
    "# retrieve the week\n",
    "wk = timestamp.week\n",
    "wk"
   ]
  },
  {
   "cell_type": "code",
   "execution_count": 16,
   "id": "045692d2-ca91-4b66-ba99-5cf5b6202496",
   "metadata": {},
   "outputs": [
    {
     "data": {
      "text/plain": [
       "4"
      ]
     },
     "execution_count": 16,
     "metadata": {},
     "output_type": "execute_result"
    }
   ],
   "source": [
    "# retrieve the quarter\n",
    "qtr = timestamp.quarter\n",
    "qtr"
   ]
  },
  {
   "cell_type": "code",
   "execution_count": 17,
   "id": "9e025202-7f5b-4a79-ae52-e011f2734134",
   "metadata": {},
   "outputs": [],
   "source": [
    "# time delta"
   ]
  },
  {
   "cell_type": "code",
   "execution_count": 18,
   "id": "9b27a642-af3b-4449-b4a8-daca3dbb4991",
   "metadata": {},
   "outputs": [],
   "source": [
    "s = '2024-10-08 06:12:20'"
   ]
  },
  {
   "cell_type": "code",
   "execution_count": 19,
   "id": "40756b74-ee43-4a5f-9a70-8f8d62094769",
   "metadata": {},
   "outputs": [],
   "source": [
    "year = s[:4]"
   ]
  },
  {
   "cell_type": "code",
   "execution_count": 20,
   "id": "689207d6-54d8-47a4-a9fb-50a9a77820fd",
   "metadata": {},
   "outputs": [
    {
     "data": {
      "text/plain": [
       "2024"
      ]
     },
     "execution_count": 20,
     "metadata": {},
     "output_type": "execute_result"
    }
   ],
   "source": [
    "int(year)"
   ]
  },
  {
   "cell_type": "code",
   "execution_count": 21,
   "id": "d00ca35f-1765-45a7-88f3-b0cf9cb86a49",
   "metadata": {},
   "outputs": [
    {
     "data": {
      "text/plain": [
       "20.0"
      ]
     },
     "execution_count": 21,
     "metadata": {},
     "output_type": "execute_result"
    }
   ],
   "source": [
    "seconds = s[-2:]\n",
    "float(seconds)"
   ]
  },
  {
   "cell_type": "code",
   "execution_count": 22,
   "id": "468e753c-0aa1-4015-8bfe-9e52dbba2db8",
   "metadata": {},
   "outputs": [
    {
     "ename": "AttributeError",
     "evalue": "type object 'datetime.datetime' has no attribute 'datetime'",
     "output_type": "error",
     "traceback": [
      "\u001b[1;31m---------------------------------------------------------------------------\u001b[0m",
      "\u001b[1;31mAttributeError\u001b[0m                            Traceback (most recent call last)",
      "Cell \u001b[1;32mIn[22], line 6\u001b[0m\n\u001b[0;32m      4\u001b[0m date_format \u001b[38;5;241m=\u001b[39m \u001b[38;5;124m\"\u001b[39m\u001b[38;5;124m%\u001b[39m\u001b[38;5;124mm/\u001b[39m\u001b[38;5;132;01m%d\u001b[39;00m\u001b[38;5;124m/\u001b[39m\u001b[38;5;124m%\u001b[39m\u001b[38;5;124my\u001b[39m\u001b[38;5;124m\"\u001b[39m\n\u001b[0;32m      5\u001b[0m \u001b[38;5;66;03m# parse the date string into a datetime object\u001b[39;00m\n\u001b[1;32m----> 6\u001b[0m dt \u001b[38;5;241m=\u001b[39m datetime\u001b[38;5;241m.\u001b[39mdatetime\u001b[38;5;241m.\u001b[39mstrptime(time_string, date_format)\n\u001b[0;32m      7\u001b[0m \u001b[38;5;66;03m#convert the datetime object to a timestamp\u001b[39;00m\n\u001b[0;32m      8\u001b[0m time_stamp \u001b[38;5;241m=\u001b[39m dt\u001b[38;5;241m.\u001b[39mtimestamp(\u001b[38;5;124m\"\u001b[39m\u001b[38;5;124m2024-10-08\u001b[39m\u001b[38;5;124m\"\u001b[39m)\n",
      "\u001b[1;31mAttributeError\u001b[0m: type object 'datetime.datetime' has no attribute 'datetime'"
     ]
    }
   ],
   "source": [
    "# change a string into timestamp in python\n",
    "time_string = \"2024-10-08\"\n",
    "# define date format\n",
    "date_format = \"%m/%d/%y\"\n",
    "# parse the date string into a datetime object\n",
    "dt = datetime.datetime.strptime(time_string, date_format)\n",
    "#convert the datetime object to a timestamp\n",
    "time_stamp = dt.timestamp(\"2024-10-08\")\n",
    "print(time_stamp)"
   ]
  }
 ],
 "metadata": {
  "kernelspec": {
   "display_name": "Python 3 (ipykernel)",
   "language": "python",
   "name": "python3"
  },
  "language_info": {
   "codemirror_mode": {
    "name": "ipython",
    "version": 3
   },
   "file_extension": ".py",
   "mimetype": "text/x-python",
   "name": "python",
   "nbconvert_exporter": "python",
   "pygments_lexer": "ipython3",
   "version": "3.11.7"
  }
 },
 "nbformat": 4,
 "nbformat_minor": 5
}
