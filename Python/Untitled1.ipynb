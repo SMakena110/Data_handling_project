{
 "cells": [
  {
   "cell_type": "code",
   "execution_count": 3,
   "id": "ce2a2f63-8478-4e7a-8ff9-3b1985f14fc3",
   "metadata": {},
   "outputs": [
    {
     "data": {
      "text/plain": [
       "'Wed Nov 20 15:55:39 2024'"
      ]
     },
     "execution_count": 3,
     "metadata": {},
     "output_type": "execute_result"
    }
   ],
   "source": [
    "import time\n",
    "time.asctime()"
   ]
  },
  {
   "cell_type": "code",
   "execution_count": 15,
   "id": "ba77da57-e9d8-4b4e-b381-3066749ccf8c",
   "metadata": {},
   "outputs": [
    {
     "name": "stdout",
     "output_type": "stream",
     "text": [
      "C:\\Users\\Hp\\AppData\\Roaming\\jupyter\\runtime\\kernel-b5c84747-5dc5-4aaa-83cf-a260954996aa.json\n"
     ]
    }
   ],
   "source": [
    "import sys\n",
    "print (sys.argv[2])"
   ]
  },
  {
   "cell_type": "code",
   "execution_count": 19,
   "id": "61feda03-8c3c-43b6-b904-ea7f05327b7b",
   "metadata": {},
   "outputs": [
    {
     "data": {
      "text/plain": [
       "['hello', 'world']"
      ]
     },
     "execution_count": 19,
     "metadata": {},
     "output_type": "execute_result"
    }
   ],
   "source": [
    "\"hello world\".split()"
   ]
  },
  {
   "cell_type": "code",
   "execution_count": 21,
   "id": "d5a43355-6abd-4ab7-b444-18503fb3447e",
   "metadata": {},
   "outputs": [
    {
     "data": {
      "text/plain": [
       "'cdefg'"
      ]
     },
     "execution_count": 21,
     "metadata": {},
     "output_type": "execute_result"
    }
   ],
   "source": [
    "'abcdefgh'.strip('abdh')"
   ]
  }
 ],
 "metadata": {
  "kernelspec": {
   "display_name": "Python 3 (ipykernel)",
   "language": "python",
   "name": "python3"
  },
  "language_info": {
   "codemirror_mode": {
    "name": "ipython",
    "version": 3
   },
   "file_extension": ".py",
   "mimetype": "text/x-python",
   "name": "python",
   "nbconvert_exporter": "python",
   "pygments_lexer": "ipython3",
   "version": "3.11.7"
  }
 },
 "nbformat": 4,
 "nbformat_minor": 5
}
